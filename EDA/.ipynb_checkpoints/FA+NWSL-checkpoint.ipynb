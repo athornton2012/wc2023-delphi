{
 "cells": [
  {
   "cell_type": "code",
   "execution_count": 38,
   "id": "e6e08af0",
   "metadata": {},
   "outputs": [],
   "source": [
    "from bs4 import BeautifulSoup\n",
    "import requests\n",
    "import json\n",
    "import time\n",
    "import pandas as pd\n",
    "import os"
   ]
  },
  {
   "cell_type": "code",
   "execution_count": 26,
   "id": "df58e41a",
   "metadata": {},
   "outputs": [],
   "source": [
    "def get_df(url):\n",
    "    r = requests.get(url)\n",
    "    soup = BeautifulSoup(r.content, 'html.parser')\n",
    "    tables = soup.find_all('table', class_ = 'min_width sortable stats_table')\n",
    "    html_content = str(tables)\n",
    "    df = pd.read_html(html_content)\n",
    "    df = df[0]\n",
    "    \n",
    "    return df"
   ]
  },
  {
   "cell_type": "code",
   "execution_count": 27,
   "id": "6a57945d",
   "metadata": {},
   "outputs": [],
   "source": [
    "FA_2023 = get_df('https://fbref.com/en/comps/189/nations/Womens-Super-League-Nationalities')"
   ]
  },
  {
   "cell_type": "code",
   "execution_count": 29,
   "id": "2677b698",
   "metadata": {},
   "outputs": [],
   "source": [
    "FA_2022 = get_df('https://fbref.com/en/comps/189/2021-2022/nations/2021-2022-Womens-Super-League-Nationalities')"
   ]
  },
  {
   "cell_type": "code",
   "execution_count": 32,
   "id": "a7d7e705",
   "metadata": {},
   "outputs": [],
   "source": [
    "FA_2021 = get_df('https://fbref.com/en/comps/189/2020-2021/nations/2020-2021-Womens-Super-League-Nationalities')"
   ]
  },
  {
   "cell_type": "code",
   "execution_count": 33,
   "id": "b2e72e9f",
   "metadata": {},
   "outputs": [],
   "source": [
    "NWSL_2023 = get_df('https://fbref.com/en/comps/182/nations/NWSL-Nationalities')"
   ]
  },
  {
   "cell_type": "code",
   "execution_count": 35,
   "id": "9e920866",
   "metadata": {},
   "outputs": [],
   "source": [
    "NWSL_2022 = get_df('https://fbref.com/en/comps/182/2022/nations/2022-NWSL-Nationalities')"
   ]
  },
  {
   "cell_type": "code",
   "execution_count": 37,
   "id": "74c29c14",
   "metadata": {},
   "outputs": [],
   "source": [
    "NWSL_2021 = get_df('https://fbref.com/en/comps/182/2021/nations/2021-NWSL-Nationalities')"
   ]
  },
  {
   "cell_type": "code",
   "execution_count": 40,
   "id": "549d2dad",
   "metadata": {},
   "outputs": [],
   "source": [
    "FA_2023.to_csv('../datasets/FA+NWSL/FA_2023.csv')"
   ]
  },
  {
   "cell_type": "code",
   "execution_count": 41,
   "id": "6640aa46",
   "metadata": {},
   "outputs": [],
   "source": [
    "FA_2022.to_csv('../datasets/FA+NWSL/FA_2022.csv')"
   ]
  },
  {
   "cell_type": "code",
   "execution_count": 42,
   "id": "ab320e39",
   "metadata": {},
   "outputs": [],
   "source": [
    "FA_2021.to_csv('../datasets/FA+NWSL/FA_2021.csv')"
   ]
  },
  {
   "cell_type": "code",
   "execution_count": 43,
   "id": "d093fbe9",
   "metadata": {},
   "outputs": [],
   "source": [
    "NWSL_2023.to_csv('../datasets/FA+NWSL/NWSL_2023.csv')"
   ]
  },
  {
   "cell_type": "code",
   "execution_count": 44,
   "id": "60271796",
   "metadata": {},
   "outputs": [],
   "source": [
    "NWSL_2022.to_csv('../datasets/FA+NWSL/NWSL_2022.csv')"
   ]
  },
  {
   "cell_type": "code",
   "execution_count": 45,
   "id": "e5d4284d",
   "metadata": {},
   "outputs": [],
   "source": [
    "NWSL_2021.to_csv('../datasets/FA+NWSL/NWSL_2021.csv')"
   ]
  },
  {
   "cell_type": "code",
   "execution_count": null,
   "id": "caa1f216",
   "metadata": {},
   "outputs": [],
   "source": []
  }
 ],
 "metadata": {
  "kernelspec": {
   "display_name": "Python 3 (ipykernel)",
   "language": "python",
   "name": "python3"
  },
  "language_info": {
   "codemirror_mode": {
    "name": "ipython",
    "version": 3
   },
   "file_extension": ".py",
   "mimetype": "text/x-python",
   "name": "python",
   "nbconvert_exporter": "python",
   "pygments_lexer": "ipython3",
   "version": "3.9.13"
  }
 },
 "nbformat": 4,
 "nbformat_minor": 5
}
