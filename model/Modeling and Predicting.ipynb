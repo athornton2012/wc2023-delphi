{
 "cells": [
  {
   "cell_type": "code",
   "execution_count": 1,
   "id": "529023ad",
   "metadata": {},
   "outputs": [],
   "source": [
    "import pandas as pd\n",
    "import numpy as np\n",
    "import matplotlib.pyplot as plt\n",
    "import seaborn as sns\n",
    "from scipy.optimize import curve_fit\n",
    "import statsmodels.api as sm\n",
    "import warnings\n",
    "from sklearn.linear_model import LogisticRegression\n",
    "from sklearn.pipeline import Pipeline\n",
    "from sklearn.linear_model import LogisticRegression\n",
    "from sklearn.ensemble import RandomForestClassifier\n",
    "from sklearn.neighbors import KNeighborsClassifier\n",
    "from sklearn.model_selection import train_test_split\n",
    "from sklearn.metrics import accuracy_score\n",
    "from sklearn.preprocessing import StandardScaler\n",
    "from sklearn.metrics import classification_report,ConfusionMatrixDisplay,confusion_matrix\n",
    "import pickle\n",
    "from imblearn.over_sampling import SMOTE\n",
    "from imblearn.over_sampling import RandomOverSampler\n",
    "import itertools"
   ]
  },
  {
   "cell_type": "code",
   "execution_count": 2,
   "id": "0f90e442",
   "metadata": {},
   "outputs": [],
   "source": [
    "%matplotlib inline\n",
    "warnings.filterwarnings('ignore')"
   ]
  },
  {
   "cell_type": "code",
   "execution_count": 3,
   "id": "ce4b7efd",
   "metadata": {},
   "outputs": [],
   "source": [
    "sns.set()\n",
    "pd.set_option('display.max_columns', None)\n",
    "pd.set_option('display.max_rows', None)"
   ]
  },
  {
   "cell_type": "markdown",
   "id": "edfb8308",
   "metadata": {},
   "source": [
    "### 1. Data exploration and processing"
   ]
  },
  {
   "cell_type": "code",
   "execution_count": 4,
   "id": "773a1f77",
   "metadata": {},
   "outputs": [],
   "source": [
    "results = pd.read_csv('../Datasets/womens-international-results-master/results.csv', encoding='latin-1')"
   ]
  },
  {
   "cell_type": "code",
   "execution_count": 5,
   "id": "1b2e8bc5",
   "metadata": {},
   "outputs": [
    {
     "data": {
      "text/html": [
       "<div>\n",
       "<style scoped>\n",
       "    .dataframe tbody tr th:only-of-type {\n",
       "        vertical-align: middle;\n",
       "    }\n",
       "\n",
       "    .dataframe tbody tr th {\n",
       "        vertical-align: top;\n",
       "    }\n",
       "\n",
       "    .dataframe thead th {\n",
       "        text-align: right;\n",
       "    }\n",
       "</style>\n",
       "<table border=\"1\" class=\"dataframe\">\n",
       "  <thead>\n",
       "    <tr style=\"text-align: right;\">\n",
       "      <th></th>\n",
       "      <th>date</th>\n",
       "      <th>home_team</th>\n",
       "      <th>away_team</th>\n",
       "      <th>home_score</th>\n",
       "      <th>away_score</th>\n",
       "      <th>tournament</th>\n",
       "      <th>city</th>\n",
       "      <th>country/area</th>\n",
       "      <th>neutral</th>\n",
       "    </tr>\n",
       "  </thead>\n",
       "  <tbody>\n",
       "    <tr>\n",
       "      <th>0</th>\n",
       "      <td>11/1/1969</td>\n",
       "      <td>Italy</td>\n",
       "      <td>France</td>\n",
       "      <td>1</td>\n",
       "      <td>0</td>\n",
       "      <td>Euro</td>\n",
       "      <td>Novara</td>\n",
       "      <td>Italy</td>\n",
       "      <td>False</td>\n",
       "    </tr>\n",
       "    <tr>\n",
       "      <th>1</th>\n",
       "      <td>11/1/1969</td>\n",
       "      <td>Denmark</td>\n",
       "      <td>England</td>\n",
       "      <td>4</td>\n",
       "      <td>3</td>\n",
       "      <td>Euro</td>\n",
       "      <td>Aosta</td>\n",
       "      <td>Italy</td>\n",
       "      <td>True</td>\n",
       "    </tr>\n",
       "    <tr>\n",
       "      <th>2</th>\n",
       "      <td>11/2/1969</td>\n",
       "      <td>England</td>\n",
       "      <td>France</td>\n",
       "      <td>2</td>\n",
       "      <td>0</td>\n",
       "      <td>Euro</td>\n",
       "      <td>Turin</td>\n",
       "      <td>Italy</td>\n",
       "      <td>True</td>\n",
       "    </tr>\n",
       "    <tr>\n",
       "      <th>3</th>\n",
       "      <td>11/2/1969</td>\n",
       "      <td>Italy</td>\n",
       "      <td>Denmark</td>\n",
       "      <td>3</td>\n",
       "      <td>1</td>\n",
       "      <td>Euro</td>\n",
       "      <td>Turin</td>\n",
       "      <td>Italy</td>\n",
       "      <td>False</td>\n",
       "    </tr>\n",
       "    <tr>\n",
       "      <th>4</th>\n",
       "      <td>8/25/1975</td>\n",
       "      <td>Thailand</td>\n",
       "      <td>Australia</td>\n",
       "      <td>3</td>\n",
       "      <td>2</td>\n",
       "      <td>AFC Championship</td>\n",
       "      <td>Hong Kong</td>\n",
       "      <td>Hong Kong</td>\n",
       "      <td>True</td>\n",
       "    </tr>\n",
       "  </tbody>\n",
       "</table>\n",
       "</div>"
      ],
      "text/plain": [
       "        date home_team  away_team  home_score  away_score        tournament  \\\n",
       "0  11/1/1969     Italy     France           1           0              Euro   \n",
       "1  11/1/1969   Denmark    England           4           3              Euro   \n",
       "2  11/2/1969   England     France           2           0              Euro   \n",
       "3  11/2/1969     Italy    Denmark           3           1              Euro   \n",
       "4  8/25/1975  Thailand  Australia           3           2  AFC Championship   \n",
       "\n",
       "        city country/area  neutral  \n",
       "0     Novara        Italy    False  \n",
       "1      Aosta        Italy     True  \n",
       "2      Turin        Italy     True  \n",
       "3      Turin        Italy    False  \n",
       "4  Hong Kong    Hong Kong     True  "
      ]
     },
     "execution_count": 5,
     "metadata": {},
     "output_type": "execute_result"
    }
   ],
   "source": [
    "results.head()"
   ]
  },
  {
   "cell_type": "code",
   "execution_count": 6,
   "id": "ee457764",
   "metadata": {},
   "outputs": [
    {
     "data": {
      "text/plain": [
       "(4884, 9)"
      ]
     },
     "execution_count": 6,
     "metadata": {},
     "output_type": "execute_result"
    }
   ],
   "source": [
    "results.shape"
   ]
  },
  {
   "cell_type": "code",
   "execution_count": 7,
   "id": "1ff8684d",
   "metadata": {},
   "outputs": [
    {
     "data": {
      "text/plain": [
       "date            0\n",
       "home_team       0\n",
       "away_team       0\n",
       "home_score      0\n",
       "away_score      0\n",
       "tournament      0\n",
       "city            0\n",
       "country/area    0\n",
       "neutral         0\n",
       "dtype: int64"
      ]
     },
     "execution_count": 7,
     "metadata": {},
     "output_type": "execute_result"
    }
   ],
   "source": [
    "#there is no missing data in the dataset\n",
    "results.isna().sum()"
   ]
  },
  {
   "cell_type": "code",
   "execution_count": 8,
   "id": "c6f4743f",
   "metadata": {},
   "outputs": [
    {
     "data": {
      "text/plain": [
       "date            object\n",
       "home_team       object\n",
       "away_team       object\n",
       "home_score       int64\n",
       "away_score       int64\n",
       "tournament      object\n",
       "city            object\n",
       "country/area    object\n",
       "neutral           bool\n",
       "dtype: object"
      ]
     },
     "execution_count": 8,
     "metadata": {},
     "output_type": "execute_result"
    }
   ],
   "source": [
    "results.dtypes"
   ]
  },
  {
   "cell_type": "code",
   "execution_count": 9,
   "id": "f0abeb48",
   "metadata": {},
   "outputs": [],
   "source": [
    "#transform 'date' column to integer which shows only the year\n",
    "results['date'] = pd.to_datetime(results['date'])\n",
    "results['date_Y'] = results['date'].dt.to_period('Y')\n",
    "results['date_Y'] = results['date_Y'].astype('str').astype('int')"
   ]
  },
  {
   "cell_type": "code",
   "execution_count": 10,
   "id": "c4c47d96",
   "metadata": {},
   "outputs": [
    {
     "data": {
      "text/plain": [
       "<Axes: >"
      ]
     },
     "execution_count": 10,
     "metadata": {},
     "output_type": "execute_result"
    },
    {
     "data": {
      "image/png": "[encoded data removed]",
      "text/plain": [
       "<Figure size 1000x600 with 1 Axes>"
      ]
     },
     "metadata": {},
     "output_type": "display_data"
    }
   ],
   "source": [
    "#game year ranges from 1969 to 2022, with more games in dataset during later years.\n",
    "results['date_Y'].value_counts().sort_index().plot(kind = 'bar', figsize = (10,6))"
   ]
  },
  {
   "cell_type": "code",
   "execution_count": 11,
   "id": "e0a85cc4",
   "metadata": {},
   "outputs": [],
   "source": [
    "#generate a set of all countries and count the total number\n",
    "country_set = set(results['home_team'])|set(results['away_team'])"
   ]
  },
  {
   "cell_type": "code",
   "execution_count": 12,
   "id": "b85903b9",
   "metadata": {},
   "outputs": [
    {
     "data": {
      "text/plain": [
       "203"
      ]
     },
     "execution_count": 12,
     "metadata": {},
     "output_type": "execute_result"
    }
   ],
   "source": [
    "len(country_set)"
   ]
  },
  {
   "cell_type": "code",
   "execution_count": 13,
   "id": "d19968b1",
   "metadata": {},
   "outputs": [],
   "source": [
    "#bring in the list of all countries qualified for WC2023 group stage\n",
    "qualified_list = ['New Zealand', 'Norway', 'Philippines', 'Switzerland','Australia', 'Republic of Ireland', 'Nigeria', 'Canada',\n",
    "                  'Spain', 'Costa Rica', 'Zambia', 'Japan','England', 'Haiti', 'Denmark', 'China PR','United States', \n",
    "                  'Vietnam', 'Netherlands', 'Portugal','France', 'Jamaica', 'Brazil', 'Panama','Sweden', 'South Africa', \n",
    "                  'Italy', 'Argentina','Germany', 'Morocco', 'Colombia', 'South Korea']"
   ]
  },
  {
   "cell_type": "code",
   "execution_count": 14,
   "id": "9baaab84",
   "metadata": {},
   "outputs": [],
   "source": [
    "missing = []"
   ]
  },
  {
   "cell_type": "code",
   "execution_count": 15,
   "id": "f2e7d14a",
   "metadata": {},
   "outputs": [],
   "source": [
    "#check if any qualified country was not in the dataset\n",
    "for country in qualified_list:\n",
    "    if country in country_set:\n",
    "        pass\n",
    "    else:\n",
    "        missing.append(country)"
   ]
  },
  {
   "cell_type": "code",
   "execution_count": 16,
   "id": "dee1ec9c",
   "metadata": {},
   "outputs": [
    {
     "data": {
      "text/plain": [
       "[]"
      ]
     },
     "execution_count": 16,
     "metadata": {},
     "output_type": "execute_result"
    }
   ],
   "source": [
    "missing"
   ]
  },
  {
   "cell_type": "code",
   "execution_count": 17,
   "id": "01c76785",
   "metadata": {},
   "outputs": [],
   "source": [
    "#check the frequency of each qualified country in the dataset\n",
    "qualified_frequency = pd.DataFrame()\n",
    "qualified_frequency['Country'] = qualified_list\n",
    "qualified_frequency['Frequency'] = qualified_frequency['Country'].apply(\n",
    "    lambda x: results['home_team'].value_counts()[x]+results['away_team'].value_counts()[x])"
   ]
  },
  {
   "cell_type": "code",
   "execution_count": 18,
   "id": "f24d699e",
   "metadata": {},
   "outputs": [
    {
     "data": {
      "text/html": [
       "<div>\n",
       "<style scoped>\n",
       "    .dataframe tbody tr th:only-of-type {\n",
       "        vertical-align: middle;\n",
       "    }\n",
       "\n",
       "    .dataframe tbody tr th {\n",
       "        vertical-align: top;\n",
       "    }\n",
       "\n",
       "    .dataframe thead th {\n",
       "        text-align: right;\n",
       "    }\n",
       "</style>\n",
       "<table border=\"1\" class=\"dataframe\">\n",
       "  <thead>\n",
       "    <tr style=\"text-align: right;\">\n",
       "      <th></th>\n",
       "      <th>0</th>\n",
       "      <th>1</th>\n",
       "      <th>2</th>\n",
       "      <th>3</th>\n",
       "      <th>4</th>\n",
       "      <th>5</th>\n",
       "      <th>6</th>\n",
       "      <th>7</th>\n",
       "      <th>8</th>\n",
       "      <th>9</th>\n",
       "      <th>10</th>\n",
       "      <th>11</th>\n",
       "      <th>12</th>\n",
       "      <th>13</th>\n",
       "      <th>14</th>\n",
       "      <th>15</th>\n",
       "      <th>16</th>\n",
       "      <th>17</th>\n",
       "      <th>18</th>\n",
       "      <th>19</th>\n",
       "      <th>20</th>\n",
       "      <th>21</th>\n",
       "      <th>22</th>\n",
       "      <th>23</th>\n",
       "      <th>24</th>\n",
       "      <th>25</th>\n",
       "      <th>26</th>\n",
       "      <th>27</th>\n",
       "      <th>28</th>\n",
       "      <th>29</th>\n",
       "      <th>30</th>\n",
       "      <th>31</th>\n",
       "    </tr>\n",
       "  </thead>\n",
       "  <tbody>\n",
       "    <tr>\n",
       "      <th>Country</th>\n",
       "      <td>New Zealand</td>\n",
       "      <td>Norway</td>\n",
       "      <td>Philippines</td>\n",
       "      <td>Switzerland</td>\n",
       "      <td>Australia</td>\n",
       "      <td>Republic of Ireland</td>\n",
       "      <td>Nigeria</td>\n",
       "      <td>Canada</td>\n",
       "      <td>Spain</td>\n",
       "      <td>Costa Rica</td>\n",
       "      <td>Zambia</td>\n",
       "      <td>Japan</td>\n",
       "      <td>England</td>\n",
       "      <td>Haiti</td>\n",
       "      <td>Denmark</td>\n",
       "      <td>China PR</td>\n",
       "      <td>United States</td>\n",
       "      <td>Vietnam</td>\n",
       "      <td>Netherlands</td>\n",
       "      <td>Portugal</td>\n",
       "      <td>France</td>\n",
       "      <td>Jamaica</td>\n",
       "      <td>Brazil</td>\n",
       "      <td>Panama</td>\n",
       "      <td>Sweden</td>\n",
       "      <td>South Africa</td>\n",
       "      <td>Italy</td>\n",
       "      <td>Argentina</td>\n",
       "      <td>Germany</td>\n",
       "      <td>Morocco</td>\n",
       "      <td>Colombia</td>\n",
       "      <td>South Korea</td>\n",
       "    </tr>\n",
       "    <tr>\n",
       "      <th>Frequency</th>\n",
       "      <td>125</td>\n",
       "      <td>319</td>\n",
       "      <td>54</td>\n",
       "      <td>156</td>\n",
       "      <td>130</td>\n",
       "      <td>129</td>\n",
       "      <td>124</td>\n",
       "      <td>173</td>\n",
       "      <td>138</td>\n",
       "      <td>60</td>\n",
       "      <td>32</td>\n",
       "      <td>182</td>\n",
       "      <td>209</td>\n",
       "      <td>40</td>\n",
       "      <td>271</td>\n",
       "      <td>286</td>\n",
       "      <td>381</td>\n",
       "      <td>56</td>\n",
       "      <td>193</td>\n",
       "      <td>195</td>\n",
       "      <td>212</td>\n",
       "      <td>40</td>\n",
       "      <td>138</td>\n",
       "      <td>24</td>\n",
       "      <td>316</td>\n",
       "      <td>114</td>\n",
       "      <td>226</td>\n",
       "      <td>56</td>\n",
       "      <td>288</td>\n",
       "      <td>24</td>\n",
       "      <td>47</td>\n",
       "      <td>125</td>\n",
       "    </tr>\n",
       "  </tbody>\n",
       "</table>\n",
       "</div>"
      ],
      "text/plain": [
       "                    0       1            2            3          4   \\\n",
       "Country    New Zealand  Norway  Philippines  Switzerland  Australia   \n",
       "Frequency          125     319           54          156        130   \n",
       "\n",
       "                            5        6       7      8           9       10  \\\n",
       "Country    Republic of Ireland  Nigeria  Canada  Spain  Costa Rica  Zambia   \n",
       "Frequency                  129      124     173    138          60      32   \n",
       "\n",
       "              11       12     13       14        15             16       17  \\\n",
       "Country    Japan  England  Haiti  Denmark  China PR  United States  Vietnam   \n",
       "Frequency    182      209     40      271       286            381       56   \n",
       "\n",
       "                    18        19      20       21      22      23      24  \\\n",
       "Country    Netherlands  Portugal  France  Jamaica  Brazil  Panama  Sweden   \n",
       "Frequency          193       195     212       40     138      24     316   \n",
       "\n",
       "                     25     26         27       28       29        30  \\\n",
       "Country    South Africa  Italy  Argentina  Germany  Morocco  Colombia   \n",
       "Frequency           114    226         56      288       24        47   \n",
       "\n",
       "                    31  \n",
       "Country    South Korea  \n",
       "Frequency          125  "
      ]
     },
     "execution_count": 18,
     "metadata": {},
     "output_type": "execute_result"
    }
   ],
   "source": [
    "qualified_frequency.T"
   ]
  },
  {
   "cell_type": "code",
   "execution_count": 19,
   "id": "57bce721",
   "metadata": {},
   "outputs": [
    {
     "data": {
      "text/plain": [
       "False    2718\n",
       "True     2166\n",
       "Name: neutral, dtype: int64"
      ]
     },
     "execution_count": 19,
     "metadata": {},
     "output_type": "execute_result"
    }
   ],
   "source": [
    "#check how many games were played on home field (neutral = False)\n",
    "results.neutral.value_counts()"
   ]
  },
  {
   "cell_type": "code",
   "execution_count": 20,
   "id": "d863a5a4",
   "metadata": {},
   "outputs": [
    {
     "data": {
      "text/plain": [
       "array(['Euro', 'AFC Championship', 'UEFA Euro qualification',\n",
       "       'OFC Championship', 'UEFA Euro', 'African Championship',\n",
       "       'CONCACAF Championship', 'Copa América', 'FIFA World Cup',\n",
       "       'CONCACAF Invitational Tournament', 'Algarve Cup', 'Olympic Games',\n",
       "       'Four Nations Tournament', 'African Championship qualification',\n",
       "       'CONCACAF Gold Cup qualification', 'CONCACAF Gold Cup',\n",
       "       'AFC Asian Cup qualification', 'AFC Asian Cup', 'Cyprus Cup',\n",
       "       'Olympic Games qualification', 'Friendly', 'SheBelieves Cup',\n",
       "       'FIFA World Cup qualification', 'Tournament of Nations',\n",
       "       'OFC Nations Cup qualification', 'African Cup of Nations',\n",
       "       'OFC Nations Cup', 'Tournoi de France',\n",
       "       \"Basque Country Women's Cup\",\n",
       "       'African Cup of Nations qualification'], dtype=object)"
      ]
     },
     "execution_count": 20,
     "metadata": {},
     "output_type": "execute_result"
    }
   ],
   "source": [
    "#check all the tournament names\n",
    "results.tournament.unique()"
   ]
  },
  {
   "cell_type": "code",
   "execution_count": 21,
   "id": "4678139e",
   "metadata": {},
   "outputs": [],
   "source": [
    "#select columns to use\n",
    "results_new = results[['date_Y','home_team','away_team','home_score','away_score','tournament', 'neutral']]"
   ]
  },
  {
   "cell_type": "markdown",
   "id": "20c3775b",
   "metadata": {},
   "source": [
    "### 2. Build Elo ranking system"
   ]
  },
  {
   "cell_type": "code",
   "execution_count": 22,
   "id": "0ffd4477",
   "metadata": {},
   "outputs": [],
   "source": [
    "Group_1 = ['FIFA World Cup', 'Euro']\n",
    "Group_2 = ['UEFA Euro qualification', 'FIFA World Cup qualification']\n",
    "Group_3 = ['OFC Championship','African Championship', 'CONCACAF Championship', 'AFC Asian Cup']"
   ]
  },
  {
   "cell_type": "code",
   "execution_count": 23,
   "id": "bd999cf0",
   "metadata": {},
   "outputs": [],
   "source": [
    "def k_value(tournament):\n",
    "    '''get k value based on which group the tournament is in.\n",
    "    Arg: tournament(str)\n",
    "    '''\n",
    "\n",
    "    if tournament in Group_1:\n",
    "        k=60\n",
    "    elif tournament in Group_2:\n",
    "        k=40\n",
    "    elif tournament in Group_3:\n",
    "        k=35\n",
    "    else:\n",
    "        k=5\n",
    "    return k"
   ]
  },
  {
   "cell_type": "code",
   "execution_count": 24,
   "id": "4544fe52",
   "metadata": {},
   "outputs": [],
   "source": [
    "def expected_result(elo_h, elo_a):\n",
    "    '''compute expected result.\n",
    "    Args:\n",
    "        elo_h(float): home team's elo score before the match.\n",
    "        elo_a(float): away team's elo score before the match.\n",
    "    Returns: [float, float]\n",
    "    '''\n",
    "    dr=elo_h-elo_a\n",
    "    we=(1/(10**(-dr/600)+1))\n",
    "    return np.round(we,3),1-np.round(we,3)"
   ]
  },
  {
   "cell_type": "code",
   "execution_count": 25,
   "id": "242dd288",
   "metadata": {},
   "outputs": [],
   "source": [
    "def actual_result(home_score,away_score):\n",
    "    '''get actual result.\n",
    "    Args: \n",
    "        home_score(int): number of goals home team scored.\n",
    "        away_score(int): number of goals away team scored.\n",
    "    Returns: [float, float]\n",
    "    '''\n",
    "    if home_score>away_score:\n",
    "        w_h=1\n",
    "        w_a=0\n",
    "    elif home_score==away_score:\n",
    "        w_h=0.5\n",
    "        w_a=0.5\n",
    "    elif home_score<away_score:\n",
    "        w_h=0\n",
    "        w_a=1\n",
    "    return w_h,w_a"
   ]
  },
  {
   "cell_type": "code",
   "execution_count": 26,
   "id": "3cf418c7",
   "metadata": {},
   "outputs": [],
   "source": [
    "def calculate_elo(elo_h_t,elo_h,elo_a,home_score,away_score,tournament):\n",
    "    '''update elo score based on game result.\n",
    "    Args: \n",
    "        elo_h_t(float): temporary home team elo score\n",
    "        elo_h(float): home team elo score before game\n",
    "        elo_a(float): away team elo score before game\n",
    "        home_score(float): computed actural result for home team\n",
    "        away_score(float): computed actural result for away team\n",
    "        tournament(str): tournament name\n",
    "    Returns: float, float\n",
    "    '''\n",
    "    k=k_value(tournament)\n",
    "    w_h,w_a=actual_result(home_score,away_score)\n",
    "    we_h,we_a=expected_result(elo_h_t,elo_a)\n",
    "\n",
    "    elo_h_n=elo_h+k*(w_h-we_h)\n",
    "    elo_a_n=elo_a+k*(w_a-we_a)\n",
    "\n",
    "    return elo_h_n,elo_a_n"
   ]
  },
  {
   "cell_type": "code",
   "execution_count": 27,
   "id": "7f95db04",
   "metadata": {},
   "outputs": [],
   "source": [
    "def df_add_elo(df, dictionary):\n",
    "    '''add columns of both teams' elo scores before the game and create \n",
    "    a dictionary to update the most recent elo rates of all teams.\n",
    "    Args: \n",
    "        df(variable): dataframe to add columns on\n",
    "        dictionary(variable): empty dictionary to store updated elo scores\n",
    "    '''\n",
    "    \n",
    "    for idx, row in df.iterrows():\n",
    "\n",
    "        home = row['home_team']\n",
    "        away = row['away_team']\n",
    "        home_score = row['home_score']\n",
    "        away_score = row['away_score']\n",
    "        tournament = row['tournament']\n",
    "        neutral = row['neutral']\n",
    "\n",
    "        #encode win, lose, tie only for games which both teams have updated elo (opposed to default)\n",
    "        if home in dictionary.keys() and away in dictionary.keys():\n",
    "            if home_score>away_score:\n",
    "                df.loc[idx, 'home_win'] = 1\n",
    "            elif home_score==away_score:\n",
    "                df.loc[idx, 'home_win'] = 0.5\n",
    "            elif home_score<away_score:\n",
    "                df.loc[idx, 'home_win'] = 0            \n",
    "\n",
    "        #set default elo as 1300        \n",
    "        if home not in dictionary.keys():\n",
    "            dictionary[home] = 1300\n",
    "        if away not in dictionary.keys():\n",
    "            dictionary[away] = 1300\n",
    "\n",
    "        elo_h = dictionary[home]\n",
    "        elo_a = dictionary[away]\n",
    "        \n",
    "        #if the home team plays on home field, add 100 to the before game elo and assign it to a temporary elo     \n",
    "        if neutral == False:\n",
    "            elo_h_t = dictionary[home] +100\n",
    "        else:\n",
    "            elo_h_t = dictionary[home]\n",
    "        \n",
    "        #update elo for both teams based on game result\n",
    "        elo_h_n, elo_a_n = calculate_elo(elo_h_t, elo_h, elo_a, home_score, away_score, tournament)\n",
    "\n",
    "        #add before game elo as columns to dataframe\n",
    "        df.loc[idx, 'elo_h'] = elo_h_t\n",
    "        df.loc[idx, 'elo_a'] = elo_a   \n",
    "        \n",
    "        #update elo dictionary\n",
    "        dictionary[home] = elo_h_n\n",
    "        dictionary[away] = elo_a_n\n",
    "        "
   ]
  },
  {
   "cell_type": "markdown",
   "id": "56f2b2f2",
   "metadata": {},
   "source": [
    "### 3. subset datasets and check logistic regression performance"
   ]
  },
  {
   "cell_type": "code",
   "execution_count": 28,
   "id": "8999c294",
   "metadata": {},
   "outputs": [],
   "source": [
    "world_cup = results_new.query('tournament == \"FIFA World Cup\"')"
   ]
  },
  {
   "cell_type": "code",
   "execution_count": 29,
   "id": "10c3422b",
   "metadata": {},
   "outputs": [
    {
     "data": {
      "text/plain": [
       "array([1991, 1995, 1999, 2003, 2007, 2011, 2015, 2019])"
      ]
     },
     "execution_count": 29,
     "metadata": {},
     "output_type": "execute_result"
    }
   ],
   "source": [
    "world_cup.date_Y.unique()"
   ]
  },
  {
   "cell_type": "markdown",
   "id": "6f2dd7d5",
   "metadata": {},
   "source": [
    "- subset all data into three time ranges: 1969-1999, 2000-2011, 2012-2020\n",
    "- subset two more time ranges which both end at 2020: 2000-2020, 2007-2020"
   ]
  },
  {
   "cell_type": "code",
   "execution_count": 30,
   "id": "872a81d0",
   "metadata": {},
   "outputs": [
    {
     "data": {
      "text/plain": [
       "(1159, 7)"
      ]
     },
     "execution_count": 30,
     "metadata": {},
     "output_type": "execute_result"
    }
   ],
   "source": [
    "#subset games before year 2000(31 years)\n",
    "df_1999 = results_new[(results_new['date_Y'] <= 1999)]\n",
    "df_1999.shape"
   ]
  },
  {
   "cell_type": "code",
   "execution_count": 31,
   "id": "fcc6ddea",
   "metadata": {},
   "outputs": [
    {
     "data": {
      "text/plain": [
       "(1677, 7)"
      ]
     },
     "execution_count": 31,
     "metadata": {},
     "output_type": "execute_result"
    }
   ],
   "source": [
    "#subset games between year 2000 and year 2012 (12 years)\n",
    "df_1999_2011 = results_new[(results_new['date_Y'] <= 2011) & (results_new['date_Y'] > 1999)].reset_index(drop = True)\n",
    "df_1999_2011.shape"
   ]
  },
  {
   "cell_type": "code",
   "execution_count": 32,
   "id": "d3879513",
   "metadata": {},
   "outputs": [
    {
     "data": {
      "text/plain": [
       "(1726, 7)"
      ]
     },
     "execution_count": 32,
     "metadata": {},
     "output_type": "execute_result"
    }
   ],
   "source": [
    "#subset games between year 2012 and year 2020 (8 years)\n",
    "df_2011_2019 = results_new[(results_new['date_Y'] <= 2019) & (results_new['date_Y'] > 2011)].reset_index(drop = True)\n",
    "df_2011_2019.shape"
   ]
  },
  {
   "cell_type": "code",
   "execution_count": 33,
   "id": "f16426c6",
   "metadata": {},
   "outputs": [
    {
     "data": {
      "text/plain": [
       "(2370, 7)"
      ]
     },
     "execution_count": 33,
     "metadata": {},
     "output_type": "execute_result"
    }
   ],
   "source": [
    "#subset games between year 2008 and year 2020 (12 years)\n",
    "df_2007_2019 = results_new[(results_new['date_Y'] <= 2019) & (results_new['date_Y'] > 2007)].reset_index(drop = True)\n",
    "df_2007_2019.shape"
   ]
  },
  {
   "cell_type": "code",
   "execution_count": 34,
   "id": "70a3b96e",
   "metadata": {},
   "outputs": [
    {
     "data": {
      "text/plain": [
       "(3403, 7)"
      ]
     },
     "execution_count": 34,
     "metadata": {},
     "output_type": "execute_result"
    }
   ],
   "source": [
    "#subset games between year 2000 and year 2020 (20 years)\n",
    "df_1999_2019 = results_new[(results_new['date_Y'] <= 2019) & (results_new['date_Y'] > 1999)].reset_index(drop = True)\n",
    "df_1999_2019.shape"
   ]
  },
  {
   "cell_type": "markdown",
   "id": "5a128059",
   "metadata": {},
   "source": [
    "- building features"
   ]
  },
  {
   "cell_type": "code",
   "execution_count": 35,
   "id": "c2ba1dfc",
   "metadata": {},
   "outputs": [],
   "source": [
    "def count_frequency(x, col1, col2, idx):\n",
    "    '''count how many times a country appeared in the rows above, as either home team or away team'''\n",
    "    frequency1 = col1[:idx].eq(x).sum()\n",
    "    frequency2 = col2[:idx].eq(x).sum()\n",
    "    return frequency1 + frequency2"
   ]
  },
  {
   "cell_type": "code",
   "execution_count": 36,
   "id": "26a39f61",
   "metadata": {},
   "outputs": [],
   "source": [
    "def add_expereience(df):\n",
    "    '''add columns to indicate each team's experience before the game'''\n",
    "    df['home_experience'] = df.apply(\n",
    "        lambda row: count_frequency(row['home_team'], df['home_team'], df['away_team'], row.name), axis=1)\n",
    "    df['away_experience'] = df.apply(\n",
    "        lambda row: count_frequency(row['away_team'], df['home_team'], df['away_team'], row.name), axis=1)"
   ]
  },
  {
   "cell_type": "code",
   "execution_count": 37,
   "id": "965ed24a",
   "metadata": {},
   "outputs": [],
   "source": [
    "def plot_high_low_elo(df, elo_median):\n",
    "    '''plot to see if the relation between game result and \n",
    "    difference of elo scores has same pattern in high elo games and low elo games\n",
    "    Args: \n",
    "    df(variable): dataframe to be ploted\n",
    "    elo_median(int): median of elo score (avg between elo_h and elo_a)\n",
    "    '''\n",
    "    \n",
    "    subset_below = df[(df['elo_h'] < elo_median) & (df['elo_a'] < elo_median)]\n",
    "    subset_above = df[((df['elo_h'] > elo_median) & (df['elo_a'] > elo_median))]\n",
    "\n",
    "    # Create two separate plots\n",
    "    fig, (ax1, ax2) = plt.subplots(2, 1, figsize=(12, 6))\n",
    "\n",
    "    # Define the logistic function\n",
    "    def logistic_function(x, L, k, x0):\n",
    "        return L / (1 + np.exp(-k * (x - x0)))\n",
    "\n",
    "    # Plot for elo_h < median\n",
    "    scatter1 = ax1.scatter(subset_below['elo_diff'], subset_below['home_win'], s=4)\n",
    "    ax1.set_xlabel('Elo Difference (elo_h - elo_a)')\n",
    "    ax1.set_ylabel('home_win')\n",
    "    ax1.set_title('Elo < '+ str(elo_median))\n",
    "\n",
    "    # Fit logistic regression curve for elo_h < median\n",
    "    x1 = subset_below['elo_diff']\n",
    "    y1 = subset_below['home_win']\n",
    "    p0_1 = [1, 1, 0]\n",
    "    popt1, pcov1 = curve_fit(logistic_function, x1, y1, p0=p0_1, maxfev=20000)\n",
    "    x_range1 = np.linspace(min(x1), max(x1), 100)\n",
    "    ax1.plot(x_range1, logistic_function(x_range1, *popt1), color='red')\n",
    "\n",
    "    # Plot for elo_h > median\n",
    "    scatter2 = ax2.scatter(subset_above['elo_diff'], subset_above['home_win'], s=4)\n",
    "    ax2.set_xlabel('Elo Difference (elo_h - elo_a)')\n",
    "    ax2.set_ylabel('home_win')\n",
    "    ax2.set_title('Elo > '+ str(elo_median))\n",
    "\n",
    "    # Fit logistic regression curve for elo_h > median\n",
    "    x2 = subset_above['elo_diff']\n",
    "    y2 = subset_above['home_win']\n",
    "    p0_2 = [1, 1, 0]\n",
    "    popt2, pcov2 = curve_fit(logistic_function, x2, y2, p0=p0_2, maxfev=20000)\n",
    "    x_range2 = np.linspace(min(x2), max(x2), 100)\n",
    "    ax2.plot(x_range2, logistic_function(x_range2, *popt2), color='red')\n",
    "\n",
    "    # Adjust spacing between subplots\n",
    "    plt.tight_layout()\n",
    "\n",
    "    # Display the plots\n",
    "    plt.show()    "
   ]
  },
  {
   "cell_type": "markdown",
   "id": "6d55fddb",
   "metadata": {},
   "source": [
    "- plot logistic regression to see if the relation between game result and difference of elo scores has same pattern in high elo games and low elo games"
   ]
  },
  {
   "cell_type": "code",
   "execution_count": 38,
   "id": "28dc83ca",
   "metadata": {},
   "outputs": [
    {
     "data": {
      "text/html": [
       "<div>\n",
       "<style scoped>\n",
       "    .dataframe tbody tr th:only-of-type {\n",
       "        vertical-align: middle;\n",
       "    }\n",
       "\n",
       "    .dataframe tbody tr th {\n",
       "        vertical-align: top;\n",
       "    }\n",
       "\n",
       "    .dataframe thead th {\n",
       "        text-align: right;\n",
       "    }\n",
       "</style>\n",
       "<table border=\"1\" class=\"dataframe\">\n",
       "  <thead>\n",
       "    <tr style=\"text-align: right;\">\n",
       "      <th></th>\n",
       "      <th>date_Y</th>\n",
       "      <th>home_score</th>\n",
       "      <th>away_score</th>\n",
       "      <th>elo_h</th>\n",
       "      <th>elo_a</th>\n",
       "      <th>elo_diff</th>\n",
       "      <th>home_experience</th>\n",
       "      <th>away_experience</th>\n",
       "    </tr>\n",
       "  </thead>\n",
       "  <tbody>\n",
       "    <tr>\n",
       "      <th>count</th>\n",
       "      <td>1074.000000</td>\n",
       "      <td>1074.000000</td>\n",
       "      <td>1074.000000</td>\n",
       "      <td>1074.000000</td>\n",
       "      <td>1074.000000</td>\n",
       "      <td>1074.000000</td>\n",
       "      <td>1074.000000</td>\n",
       "      <td>1074.000000</td>\n",
       "    </tr>\n",
       "    <tr>\n",
       "      <th>mean</th>\n",
       "      <td>1992.332402</td>\n",
       "      <td>2.604283</td>\n",
       "      <td>1.376164</td>\n",
       "      <td>1428.652272</td>\n",
       "      <td>1347.450596</td>\n",
       "      <td>81.201676</td>\n",
       "      <td>26.093110</td>\n",
       "      <td>24.500000</td>\n",
       "    </tr>\n",
       "    <tr>\n",
       "      <th>std</th>\n",
       "      <td>5.657870</td>\n",
       "      <td>3.212978</td>\n",
       "      <td>1.963799</td>\n",
       "      <td>146.376203</td>\n",
       "      <td>131.489722</td>\n",
       "      <td>168.322553</td>\n",
       "      <td>23.571522</td>\n",
       "      <td>23.297751</td>\n",
       "    </tr>\n",
       "    <tr>\n",
       "      <th>min</th>\n",
       "      <td>1969.000000</td>\n",
       "      <td>0.000000</td>\n",
       "      <td>0.000000</td>\n",
       "      <td>1155.065000</td>\n",
       "      <td>1042.960000</td>\n",
       "      <td>-510.525000</td>\n",
       "      <td>1.000000</td>\n",
       "      <td>1.000000</td>\n",
       "    </tr>\n",
       "    <tr>\n",
       "      <th>25%</th>\n",
       "      <td>1989.000000</td>\n",
       "      <td>0.000000</td>\n",
       "      <td>0.000000</td>\n",
       "      <td>1313.905000</td>\n",
       "      <td>1268.918750</td>\n",
       "      <td>-7.056250</td>\n",
       "      <td>8.000000</td>\n",
       "      <td>6.000000</td>\n",
       "    </tr>\n",
       "    <tr>\n",
       "      <th>50%</th>\n",
       "      <td>1994.000000</td>\n",
       "      <td>2.000000</td>\n",
       "      <td>1.000000</td>\n",
       "      <td>1390.027500</td>\n",
       "      <td>1302.900000</td>\n",
       "      <td>71.265000</td>\n",
       "      <td>19.000000</td>\n",
       "      <td>16.000000</td>\n",
       "    </tr>\n",
       "    <tr>\n",
       "      <th>75%</th>\n",
       "      <td>1996.000000</td>\n",
       "      <td>3.000000</td>\n",
       "      <td>2.000000</td>\n",
       "      <td>1521.190000</td>\n",
       "      <td>1417.248750</td>\n",
       "      <td>173.766250</td>\n",
       "      <td>37.000000</td>\n",
       "      <td>35.750000</td>\n",
       "    </tr>\n",
       "    <tr>\n",
       "      <th>max</th>\n",
       "      <td>1999.000000</td>\n",
       "      <td>21.000000</td>\n",
       "      <td>12.000000</td>\n",
       "      <td>1920.415000</td>\n",
       "      <td>1818.285000</td>\n",
       "      <td>674.710000</td>\n",
       "      <td>112.000000</td>\n",
       "      <td>113.000000</td>\n",
       "    </tr>\n",
       "  </tbody>\n",
       "</table>\n",
       "</div>"
      ],
      "text/plain": [
       "            date_Y   home_score   away_score        elo_h        elo_a  \\\n",
       "count  1074.000000  1074.000000  1074.000000  1074.000000  1074.000000   \n",
       "mean   1992.332402     2.604283     1.376164  1428.652272  1347.450596   \n",
       "std       5.657870     3.212978     1.963799   146.376203   131.489722   \n",
       "min    1969.000000     0.000000     0.000000  1155.065000  1042.960000   \n",
       "25%    1989.000000     0.000000     0.000000  1313.905000  1268.918750   \n",
       "50%    1994.000000     2.000000     1.000000  1390.027500  1302.900000   \n",
       "75%    1996.000000     3.000000     2.000000  1521.190000  1417.248750   \n",
       "max    1999.000000    21.000000    12.000000  1920.415000  1818.285000   \n",
       "\n",
       "          elo_diff  home_experience  away_experience  \n",
       "count  1074.000000      1074.000000      1074.000000  \n",
       "mean     81.201676        26.093110        24.500000  \n",
       "std     168.322553        23.571522        23.297751  \n",
       "min    -510.525000         1.000000         1.000000  \n",
       "25%      -7.056250         8.000000         6.000000  \n",
       "50%      71.265000        19.000000        16.000000  \n",
       "75%     173.766250        37.000000        35.750000  \n",
       "max     674.710000       112.000000       113.000000  "
      ]
     },
     "execution_count": 38,
     "metadata": {},
     "output_type": "execute_result"
    }
   ],
   "source": [
    "#prepare df_1999 for regression\n",
    "elo_1999 = {}\n",
    "df_add_elo(df_1999, elo_1999)\n",
    "\n",
    "df_1999['elo_diff'] = df_1999['elo_h'] - df_1999['elo_a']\n",
    "add_expereience(df_1999)\n",
    "\n",
    "df_1999_new = df_1999.dropna()\n",
    "df_1999_new['home_win'] = df_1999_new['home_win'].astype('category')\n",
    "df_1999_new.describe()"
   ]
  },
  {
   "cell_type": "code",
   "execution_count": 39,
   "id": "4f1032fc",
   "metadata": {},
   "outputs": [
    {
     "data": {
      "image/png": "[encoded data removed]",
      "text/plain": [
       "<Figure size 1200x600 with 2 Axes>"
      ]
     },
     "metadata": {},
     "output_type": "display_data"
    }
   ],
   "source": [
    "plot_high_low_elo(df_1999_new, 1308)"
   ]
  },
  {
   "cell_type": "code",
   "execution_count": 40,
   "id": "5577b4d4",
   "metadata": {},
   "outputs": [
    {
     "data": {
      "text/html": [
       "<div>\n",
       "<style scoped>\n",
       "    .dataframe tbody tr th:only-of-type {\n",
       "        vertical-align: middle;\n",
       "    }\n",
       "\n",
       "    .dataframe tbody tr th {\n",
       "        vertical-align: top;\n",
       "    }\n",
       "\n",
       "    .dataframe thead th {\n",
       "        text-align: right;\n",
       "    }\n",
       "</style>\n",
       "<table border=\"1\" class=\"dataframe\">\n",
       "  <thead>\n",
       "    <tr style=\"text-align: right;\">\n",
       "      <th></th>\n",
       "      <th>date_Y</th>\n",
       "      <th>home_score</th>\n",
       "      <th>away_score</th>\n",
       "      <th>elo_h</th>\n",
       "      <th>elo_a</th>\n",
       "      <th>elo_diff</th>\n",
       "      <th>home_experience</th>\n",
       "      <th>away_experience</th>\n",
       "    </tr>\n",
       "  </thead>\n",
       "  <tbody>\n",
       "    <tr>\n",
       "      <th>count</th>\n",
       "      <td>1556.000000</td>\n",
       "      <td>1556.000000</td>\n",
       "      <td>1556.000000</td>\n",
       "      <td>1556.000000</td>\n",
       "      <td>1556.000000</td>\n",
       "      <td>1556.000000</td>\n",
       "      <td>1556.000000</td>\n",
       "      <td>1556.000000</td>\n",
       "    </tr>\n",
       "    <tr>\n",
       "      <th>mean</th>\n",
       "      <td>2006.156170</td>\n",
       "      <td>2.173522</td>\n",
       "      <td>1.427378</td>\n",
       "      <td>1394.713548</td>\n",
       "      <td>1339.086967</td>\n",
       "      <td>55.626581</td>\n",
       "      <td>27.901028</td>\n",
       "      <td>24.728792</td>\n",
       "    </tr>\n",
       "    <tr>\n",
       "      <th>std</th>\n",
       "      <td>3.380581</td>\n",
       "      <td>2.422981</td>\n",
       "      <td>1.912355</td>\n",
       "      <td>102.528536</td>\n",
       "      <td>97.018313</td>\n",
       "      <td>122.350901</td>\n",
       "      <td>27.444381</td>\n",
       "      <td>25.552613</td>\n",
       "    </tr>\n",
       "    <tr>\n",
       "      <th>min</th>\n",
       "      <td>2000.000000</td>\n",
       "      <td>0.000000</td>\n",
       "      <td>0.000000</td>\n",
       "      <td>1147.320000</td>\n",
       "      <td>1097.940000</td>\n",
       "      <td>-404.025000</td>\n",
       "      <td>1.000000</td>\n",
       "      <td>1.000000</td>\n",
       "    </tr>\n",
       "    <tr>\n",
       "      <th>25%</th>\n",
       "      <td>2003.000000</td>\n",
       "      <td>0.000000</td>\n",
       "      <td>0.000000</td>\n",
       "      <td>1319.606250</td>\n",
       "      <td>1290.927500</td>\n",
       "      <td>-5.477500</td>\n",
       "      <td>7.000000</td>\n",
       "      <td>6.000000</td>\n",
       "    </tr>\n",
       "    <tr>\n",
       "      <th>50%</th>\n",
       "      <td>2006.000000</td>\n",
       "      <td>2.000000</td>\n",
       "      <td>1.000000</td>\n",
       "      <td>1384.375000</td>\n",
       "      <td>1308.555000</td>\n",
       "      <td>54.725000</td>\n",
       "      <td>18.000000</td>\n",
       "      <td>15.000000</td>\n",
       "    </tr>\n",
       "    <tr>\n",
       "      <th>75%</th>\n",
       "      <td>2009.000000</td>\n",
       "      <td>3.000000</td>\n",
       "      <td>2.000000</td>\n",
       "      <td>1446.907500</td>\n",
       "      <td>1372.431250</td>\n",
       "      <td>112.236250</td>\n",
       "      <td>39.000000</td>\n",
       "      <td>34.000000</td>\n",
       "    </tr>\n",
       "    <tr>\n",
       "      <th>max</th>\n",
       "      <td>2011.000000</td>\n",
       "      <td>24.000000</td>\n",
       "      <td>24.000000</td>\n",
       "      <td>1879.745000</td>\n",
       "      <td>1748.965000</td>\n",
       "      <td>650.335000</td>\n",
       "      <td>121.000000</td>\n",
       "      <td>124.000000</td>\n",
       "    </tr>\n",
       "  </tbody>\n",
       "</table>\n",
       "</div>"
      ],
      "text/plain": [
       "            date_Y   home_score   away_score        elo_h        elo_a  \\\n",
       "count  1556.000000  1556.000000  1556.000000  1556.000000  1556.000000   \n",
       "mean   2006.156170     2.173522     1.427378  1394.713548  1339.086967   \n",
       "std       3.380581     2.422981     1.912355   102.528536    97.018313   \n",
       "min    2000.000000     0.000000     0.000000  1147.320000  1097.940000   \n",
       "25%    2003.000000     0.000000     0.000000  1319.606250  1290.927500   \n",
       "50%    2006.000000     2.000000     1.000000  1384.375000  1308.555000   \n",
       "75%    2009.000000     3.000000     2.000000  1446.907500  1372.431250   \n",
       "max    2011.000000    24.000000    24.000000  1879.745000  1748.965000   \n",
       "\n",
       "          elo_diff  home_experience  away_experience  \n",
       "count  1556.000000      1556.000000      1556.000000  \n",
       "mean     55.626581        27.901028        24.728792  \n",
       "std     122.350901        27.444381        25.552613  \n",
       "min    -404.025000         1.000000         1.000000  \n",
       "25%      -5.477500         7.000000         6.000000  \n",
       "50%      54.725000        18.000000        15.000000  \n",
       "75%     112.236250        39.000000        34.000000  \n",
       "max     650.335000       121.000000       124.000000  "
      ]
     },
     "execution_count": 40,
     "metadata": {},
     "output_type": "execute_result"
    }
   ],
   "source": [
    "elo_1999_2011 = {}\n",
    "df_add_elo(df_1999_2011, elo_1999_2011)\n",
    "\n",
    "df_1999_2011['elo_diff'] = df_1999_2011['elo_h'] - df_1999_2011['elo_a']\n",
    "add_expereience(df_1999_2011)\n",
    "\n",
    "df_1999_2011_new = df_1999_2011.dropna()\n",
    "df_1999_2011_new['home_win'] = df_1999_2011_new['home_win'].astype('category')\n",
    "df_1999_2011_new.describe()"
   ]
  },
  {
   "cell_type": "code",
   "execution_count": 41,
   "id": "e3cbd796",
   "metadata": {},
   "outputs": [
    {
     "data": {
      "image/png": "[encoded data removed]",
      "text/plain": [
       "<Figure size 1200x600 with 2 Axes>"
      ]
     },
     "metadata": {},
     "output_type": "display_data"
    }
   ],
   "source": [
    "plot_high_low_elo(df_1999_2011_new, 1312)"
   ]
  },
  {
   "cell_type": "code",
   "execution_count": 42,
   "id": "d1f3b9d3",
   "metadata": {},
   "outputs": [
    {
     "data": {
      "text/html": [
       "<div>\n",
       "<style scoped>\n",
       "    .dataframe tbody tr th:only-of-type {\n",
       "        vertical-align: middle;\n",
       "    }\n",
       "\n",
       "    .dataframe tbody tr th {\n",
       "        vertical-align: top;\n",
       "    }\n",
       "\n",
       "    .dataframe thead th {\n",
       "        text-align: right;\n",
       "    }\n",
       "</style>\n",
       "<table border=\"1\" class=\"dataframe\">\n",
       "  <thead>\n",
       "    <tr style=\"text-align: right;\">\n",
       "      <th></th>\n",
       "      <th>date_Y</th>\n",
       "      <th>home_score</th>\n",
       "      <th>away_score</th>\n",
       "      <th>elo_h</th>\n",
       "      <th>elo_a</th>\n",
       "      <th>elo_diff</th>\n",
       "      <th>home_experience</th>\n",
       "      <th>away_experience</th>\n",
       "    </tr>\n",
       "  </thead>\n",
       "  <tbody>\n",
       "    <tr>\n",
       "      <th>count</th>\n",
       "      <td>1612.000000</td>\n",
       "      <td>1612.000000</td>\n",
       "      <td>1612.000000</td>\n",
       "      <td>1612.000000</td>\n",
       "      <td>1612.000000</td>\n",
       "      <td>1612.000000</td>\n",
       "      <td>1612.000000</td>\n",
       "      <td>1612.000000</td>\n",
       "    </tr>\n",
       "    <tr>\n",
       "      <th>mean</th>\n",
       "      <td>2015.944789</td>\n",
       "      <td>1.969603</td>\n",
       "      <td>1.429901</td>\n",
       "      <td>1398.725065</td>\n",
       "      <td>1330.679414</td>\n",
       "      <td>68.045651</td>\n",
       "      <td>29.040323</td>\n",
       "      <td>23.640819</td>\n",
       "    </tr>\n",
       "    <tr>\n",
       "      <th>std</th>\n",
       "      <td>2.239824</td>\n",
       "      <td>2.283385</td>\n",
       "      <td>1.883161</td>\n",
       "      <td>115.951486</td>\n",
       "      <td>90.369811</td>\n",
       "      <td>138.739338</td>\n",
       "      <td>31.445245</td>\n",
       "      <td>22.142239</td>\n",
       "    </tr>\n",
       "    <tr>\n",
       "      <th>min</th>\n",
       "      <td>2012.000000</td>\n",
       "      <td>0.000000</td>\n",
       "      <td>0.000000</td>\n",
       "      <td>1083.720000</td>\n",
       "      <td>1055.840000</td>\n",
       "      <td>-426.450000</td>\n",
       "      <td>1.000000</td>\n",
       "      <td>1.000000</td>\n",
       "    </tr>\n",
       "    <tr>\n",
       "      <th>25%</th>\n",
       "      <td>2014.000000</td>\n",
       "      <td>0.000000</td>\n",
       "      <td>0.000000</td>\n",
       "      <td>1308.421250</td>\n",
       "      <td>1287.286250</td>\n",
       "      <td>-8.398750</td>\n",
       "      <td>7.000000</td>\n",
       "      <td>7.000000</td>\n",
       "    </tr>\n",
       "    <tr>\n",
       "      <th>50%</th>\n",
       "      <td>2016.000000</td>\n",
       "      <td>1.000000</td>\n",
       "      <td>1.000000</td>\n",
       "      <td>1383.810000</td>\n",
       "      <td>1305.937500</td>\n",
       "      <td>54.930000</td>\n",
       "      <td>19.000000</td>\n",
       "      <td>17.000000</td>\n",
       "    </tr>\n",
       "    <tr>\n",
       "      <th>75%</th>\n",
       "      <td>2018.000000</td>\n",
       "      <td>3.000000</td>\n",
       "      <td>2.000000</td>\n",
       "      <td>1448.656250</td>\n",
       "      <td>1367.272500</td>\n",
       "      <td>128.868750</td>\n",
       "      <td>40.000000</td>\n",
       "      <td>36.000000</td>\n",
       "    </tr>\n",
       "    <tr>\n",
       "      <th>max</th>\n",
       "      <td>2019.000000</td>\n",
       "      <td>21.000000</td>\n",
       "      <td>13.000000</td>\n",
       "      <td>1870.215000</td>\n",
       "      <td>1716.095000</td>\n",
       "      <td>611.470000</td>\n",
       "      <td>183.000000</td>\n",
       "      <td>175.000000</td>\n",
       "    </tr>\n",
       "  </tbody>\n",
       "</table>\n",
       "</div>"
      ],
      "text/plain": [
       "            date_Y   home_score   away_score        elo_h        elo_a  \\\n",
       "count  1612.000000  1612.000000  1612.000000  1612.000000  1612.000000   \n",
       "mean   2015.944789     1.969603     1.429901  1398.725065  1330.679414   \n",
       "std       2.239824     2.283385     1.883161   115.951486    90.369811   \n",
       "min    2012.000000     0.000000     0.000000  1083.720000  1055.840000   \n",
       "25%    2014.000000     0.000000     0.000000  1308.421250  1287.286250   \n",
       "50%    2016.000000     1.000000     1.000000  1383.810000  1305.937500   \n",
       "75%    2018.000000     3.000000     2.000000  1448.656250  1367.272500   \n",
       "max    2019.000000    21.000000    13.000000  1870.215000  1716.095000   \n",
       "\n",
       "          elo_diff  home_experience  away_experience  \n",
       "count  1612.000000      1612.000000      1612.000000  \n",
       "mean     68.045651        29.040323        23.640819  \n",
       "std     138.739338        31.445245        22.142239  \n",
       "min    -426.450000         1.000000         1.000000  \n",
       "25%      -8.398750         7.000000         7.000000  \n",
       "50%      54.930000        19.000000        17.000000  \n",
       "75%     128.868750        40.000000        36.000000  \n",
       "max     611.470000       183.000000       175.000000  "
      ]
     },
     "execution_count": 42,
     "metadata": {},
     "output_type": "execute_result"
    }
   ],
   "source": [
    "elo_2011_2019 = {}\n",
    "df_add_elo(df_2011_2019, elo_2011_2019)\n",
    "\n",
    "df_2011_2019['elo_diff'] = df_2011_2019['elo_h'] - df_2011_2019['elo_a']\n",
    "add_expereience(df_2011_2019)\n",
    "\n",
    "df_2011_2019_new = df_2011_2019.dropna()\n",
    "df_2011_2019_new['home_win'] = df_2011_2019_new['home_win'].astype('category')\n",
    "df_2011_2019_new.describe()"
   ]
  },
  {
   "cell_type": "code",
   "execution_count": 43,
   "id": "0ce5ed9b",
   "metadata": {},
   "outputs": [
    {
     "data": {
      "image/png": "[encoded data removed]",
      "text/plain": [
       "<Figure size 1200x600 with 2 Axes>"
      ]
     },
     "metadata": {},
     "output_type": "display_data"
    }
   ],
   "source": [
    "plot_high_low_elo(df_2011_2019_new, 1308)"
   ]
  },
  {
   "cell_type": "markdown",
   "id": "1b9e34c5",
   "metadata": {},
   "source": [
    "- all three plot groups show that the relation between elo_diff and game result has different patterns in high elo and low elo games, therefore the model will use both teams' elo as two features, instead of elo_diff as one feature"
   ]
  },
  {
   "cell_type": "code",
   "execution_count": 44,
   "id": "7da08692",
   "metadata": {},
   "outputs": [],
   "source": [
    "#also process df_1999_2019 and df_2007_2019 for modeling later\n",
    "elo_1999_2019 = {}\n",
    "df_add_elo(df_1999_2019, elo_1999_2019)\n",
    "\n",
    "df_1999_2019['elo_diff'] = df_1999_2019['elo_h'] - df_1999_2019['elo_a']\n",
    "add_expereience(df_1999_2019)\n",
    "\n",
    "df_1999_2019_new = df_1999_2019.dropna()\n",
    "df_1999_2019_new['home_win'] = df_1999_2019_new['home_win'].astype('category')"
   ]
  },
  {
   "cell_type": "code",
   "execution_count": 45,
   "id": "eaf0c7c2",
   "metadata": {},
   "outputs": [],
   "source": [
    "elo_2007_2019 = {}\n",
    "df_add_elo(df_2007_2019, elo_2007_2019)\n",
    "\n",
    "df_2007_2019['elo_diff'] = df_2007_2019['elo_h'] - df_2007_2019['elo_a']\n",
    "add_expereience(df_2007_2019)\n",
    "\n",
    "df_2007_2019_new = df_2007_2019.dropna()\n",
    "df_2007_2019_new['home_win'] = df_2007_2019_new['home_win'].astype('category')"
   ]
  },
  {
   "cell_type": "markdown",
   "id": "d66ce6b7",
   "metadata": {},
   "source": [
    "- use statsmodels to check regression parameters"
   ]
  },
  {
   "cell_type": "code",
   "execution_count": 46,
   "id": "c0abd817",
   "metadata": {},
   "outputs": [],
   "source": [
    "#create feaure: difference between experience\n",
    "df_1999_new['experience_diff'] = df_1999_new['home_experience'] - df_1999_new['away_experience']\n",
    "df_1999_2011_new['experience_diff'] = df_1999_2011_new['home_experience'] - df_1999_2011_new['away_experience']\n",
    "df_2011_2019_new['experience_diff'] = df_2011_2019_new['home_experience'] - df_2011_2019_new['away_experience']\n",
    "df_2007_2019_new['experience_diff'] = df_2007_2019_new['home_experience'] - df_2007_2019_new['away_experience']\n",
    "df_1999_2019_new['experience_diff'] = df_1999_2019_new['home_experience'] - df_1999_2019_new['away_experience']"
   ]
  },
  {
   "cell_type": "code",
   "execution_count": 47,
   "id": "203f9683",
   "metadata": {},
   "outputs": [
    {
     "name": "stdout",
     "output_type": "stream",
     "text": [
      "Optimization terminated successfully.\n",
      "         Current function value: 0.554793\n",
      "         Iterations 6\n",
      "                         Results: Logit\n",
      "=================================================================\n",
      "Model:              Logit            Pseudo R-squared: 0.154     \n",
      "Dependent Variable: home_win         AIC:              1199.6946 \n",
      "Date:               2023-06-27 22:41 BIC:              1219.6111 \n",
      "No. Observations:   1074             Log-Likelihood:   -595.85   \n",
      "Df Model:           3                LL-Null:          -704.49   \n",
      "Df Residuals:       1070             LLR p-value:      7.7671e-47\n",
      "Converged:          1.0000           Scale:            1.0000    \n",
      "No. Iterations:     6.0000                                       \n",
      "-----------------------------------------------------------------\n",
      "                   Coef.  Std.Err.    z    P>|z|   [0.025  0.975]\n",
      "-----------------------------------------------------------------\n",
      "const              0.9757   0.8800  1.1088 0.2675 -0.7491  2.7005\n",
      "elo_h              0.0045   0.0006  7.1117 0.0000  0.0033  0.0058\n",
      "elo_a             -0.0051   0.0007 -7.3571 0.0000 -0.0064 -0.0037\n",
      "experience_diff    0.0148   0.0040  3.7328 0.0002  0.0070  0.0226\n",
      "=================================================================\n",
      "\n"
     ]
    }
   ],
   "source": [
    "df_1999_X = df_1999_new[['elo_h','elo_a','experience_diff']]\n",
    "df_1999_X = sm.add_constant(df_1999_X)\n",
    "df_1999_Y = df_1999_new [['home_win']]\n",
    "log_reg = sm.Logit(df_1999_Y, df_1999_X).fit()\n",
    "print(log_reg.summary2())"
   ]
  },
  {
   "cell_type": "code",
   "execution_count": 48,
   "id": "805bbcc4",
   "metadata": {},
   "outputs": [
    {
     "name": "stdout",
     "output_type": "stream",
     "text": [
      "Optimization terminated successfully.\n",
      "         Current function value: 0.597147\n",
      "         Iterations 6\n",
      "                         Results: Logit\n",
      "=================================================================\n",
      "Model:              Logit            Pseudo R-squared: 0.112     \n",
      "Dependent Variable: home_win         AIC:              1866.3225 \n",
      "Date:               2023-06-27 22:41 BIC:              1887.7220 \n",
      "No. Observations:   1556             Log-Likelihood:   -929.16   \n",
      "Df Model:           3                LL-Null:          -1046.1   \n",
      "Df Residuals:       1552             LLR p-value:      2.0705e-50\n",
      "Converged:          1.0000           Scale:            1.0000    \n",
      "No. Iterations:     6.0000                                       \n",
      "-----------------------------------------------------------------\n",
      "                   Coef.  Std.Err.    z    P>|z|   [0.025  0.975]\n",
      "-----------------------------------------------------------------\n",
      "const              0.9928   1.0116  0.9814 0.3264 -0.9899  2.9755\n",
      "elo_h              0.0041   0.0007  5.9175 0.0000  0.0027  0.0055\n",
      "elo_a             -0.0047   0.0007 -6.6142 0.0000 -0.0061 -0.0033\n",
      "experience_diff    0.0197   0.0031  6.3297 0.0000  0.0136  0.0258\n",
      "=================================================================\n",
      "\n"
     ]
    }
   ],
   "source": [
    "df_1999_2011_X = df_1999_2011_new[['elo_h','elo_a','experience_diff']]\n",
    "df_1999_2011_X = sm.add_constant(df_1999_2011_X)\n",
    "df_1999_2011_Y = df_1999_2011_new [['home_win']]\n",
    "log_reg = sm.Logit(df_1999_2011_Y, df_1999_2011_X).fit()\n",
    "print(log_reg.summary2())"
   ]
  },
  {
   "cell_type": "code",
   "execution_count": 49,
   "id": "7d4b7167",
   "metadata": {},
   "outputs": [
    {
     "name": "stdout",
     "output_type": "stream",
     "text": [
      "Optimization terminated successfully.\n",
      "         Current function value: 0.542563\n",
      "         Iterations 7\n",
      "                         Results: Logit\n",
      "=================================================================\n",
      "Model:              Logit            Pseudo R-squared: 0.206     \n",
      "Dependent Variable: home_win         AIC:              1757.2228 \n",
      "Date:               2023-06-27 22:41 BIC:              1778.7637 \n",
      "No. Observations:   1612             Log-Likelihood:   -874.61   \n",
      "Df Model:           3                LL-Null:          -1101.0   \n",
      "Df Residuals:       1608             LLR p-value:      7.9433e-98\n",
      "Converged:          1.0000           Scale:            1.0000    \n",
      "No. Iterations:     7.0000                                       \n",
      "-----------------------------------------------------------------\n",
      "                   Coef.  Std.Err.    z    P>|z|   [0.025  0.975]\n",
      "-----------------------------------------------------------------\n",
      "const              1.7446   1.1733  1.4869 0.1370 -0.5550  4.0443\n",
      "elo_h              0.0049   0.0007  6.5959 0.0000  0.0034  0.0063\n",
      "elo_a             -0.0062   0.0008 -7.7319 0.0000 -0.0078 -0.0047\n",
      "experience_diff    0.0308   0.0038  8.1097 0.0000  0.0233  0.0382\n",
      "=================================================================\n",
      "\n"
     ]
    }
   ],
   "source": [
    "df_2011_2019_X = df_2011_2019_new[['elo_h','elo_a','experience_diff']]\n",
    "df_2011_2019_X = sm.add_constant(df_2011_2019_X)\n",
    "df_2011_2019_Y = df_2011_2019_new [['home_win']]\n",
    "log_reg = sm.Logit(df_2011_2019_Y, df_2011_2019_X).fit()\n",
    "print(log_reg.summary2())"
   ]
  },
  {
   "cell_type": "code",
   "execution_count": 50,
   "id": "db5756bc",
   "metadata": {},
   "outputs": [
    {
     "name": "stdout",
     "output_type": "stream",
     "text": [
      "Optimization terminated successfully.\n",
      "         Current function value: 0.574938\n",
      "         Iterations 6\n",
      "                         Results: Logit\n",
      "=================================================================\n",
      "Model:              Logit            Pseudo R-squared: 0.158     \n",
      "Dependent Variable: home_win         AIC:              1859.6001 \n",
      "Date:               2023-06-27 22:41 BIC:              1875.7558 \n",
      "No. Observations:   1612             Log-Likelihood:   -926.80   \n",
      "Df Model:           2                LL-Null:          -1101.0   \n",
      "Df Residuals:       1609             LLR p-value:      2.1597e-76\n",
      "Converged:          1.0000           Scale:            1.0000    \n",
      "No. Iterations:     6.0000                                       \n",
      "-------------------------------------------------------------------\n",
      "          Coef.    Std.Err.      z       P>|z|     [0.025    0.975]\n",
      "-------------------------------------------------------------------\n",
      "const     0.9916     1.0294     0.9633   0.3354   -1.0260    3.0093\n",
      "elo_h     0.0077     0.0006    12.3593   0.0000    0.0065    0.0089\n",
      "elo_a    -0.0086     0.0007   -11.6522   0.0000   -0.0100   -0.0071\n",
      "=================================================================\n",
      "\n"
     ]
    }
   ],
   "source": [
    "#check the regression result without the third feature\n",
    "df_2011_2019_X = df_2011_2019_new[['elo_h','elo_a']]\n",
    "df_2011_2019_X = sm.add_constant(df_2011_2019_X)\n",
    "df_2011_2019_Y = df_2011_2019_new [['home_win']]\n",
    "log_reg = sm.Logit(df_2011_2019_Y, df_2011_2019_X).fit()\n",
    "print(log_reg.summary2())"
   ]
  },
  {
   "cell_type": "code",
   "execution_count": 51,
   "id": "75d80f88",
   "metadata": {},
   "outputs": [
    {
     "name": "stdout",
     "output_type": "stream",
     "text": [
      "Optimization terminated successfully.\n",
      "         Current function value: 0.556597\n",
      "         Iterations 6\n",
      "                          Results: Logit\n",
      "==================================================================\n",
      "Model:              Logit            Pseudo R-squared: 0.179      \n",
      "Dependent Variable: home_win         AIC:              3631.4461  \n",
      "Date:               2023-06-27 22:41 BIC:              3655.7979  \n",
      "No. Observations:   3255             Log-Likelihood:   -1811.7    \n",
      "Df Model:           3                LL-Null:          -2206.1    \n",
      "Df Residuals:       3251             LLR p-value:      1.2289e-170\n",
      "Converged:          1.0000           Scale:            1.0000     \n",
      "No. Iterations:     6.0000                                        \n",
      "------------------------------------------------------------------\n",
      "                   Coef.  Std.Err.    z     P>|z|   [0.025  0.975]\n",
      "------------------------------------------------------------------\n",
      "const              0.7491   0.5157   1.4527 0.1463 -0.2616  1.7598\n",
      "elo_h              0.0043   0.0004  11.1190 0.0000  0.0035  0.0050\n",
      "elo_a             -0.0048   0.0004 -12.1750 0.0000 -0.0055 -0.0040\n",
      "experience_diff    0.0111   0.0013   8.5579 0.0000  0.0086  0.0137\n",
      "==================================================================\n",
      "\n"
     ]
    }
   ],
   "source": [
    "df_1999_2019_X = df_1999_2019_new[['elo_h','elo_a','experience_diff']]\n",
    "df_1999_2019_X = sm.add_constant(df_1999_2019_X)\n",
    "df_1999_2019_Y = df_1999_2019_new [['home_win']]\n",
    "log_reg = sm.Logit(df_1999_2019_Y, df_1999_2019_X).fit()\n",
    "print(log_reg.summary2())"
   ]
  },
  {
   "cell_type": "markdown",
   "id": "4632a0fa",
   "metadata": {},
   "source": [
    "### 4. Test LogisticRegression, RandomForestClassifier, and KNeighborsClassifier on dataset combos"
   ]
  },
  {
   "cell_type": "code",
   "execution_count": 52,
   "id": "d6d55594",
   "metadata": {},
   "outputs": [],
   "source": [
    "def split_train_test_1(df, year):\n",
    "    '''split dataset so that the latest world cup games are the test set, all other games are training set'''\n",
    "    \n",
    "    test_df = df[(df['date_Y'] == year) & (df['tournament'] == 'FIFA World Cup')]\n",
    "    train_df = df[~((df['date_Y'] == year) & (df['tournament'] == 'FIFA World Cup'))]\n",
    "    \n",
    "    #remapping to avoid label error\n",
    "    label_mapping = {0: 'lose', 0.5: 'tie', 1: 'win'}\n",
    "    \n",
    "    #create training set with three features\n",
    "    X_train = train_df[['elo_h','elo_a','experience_diff']]\n",
    "    y_train = train_df['home_win'].map(label_mapping)\n",
    "    X_test = test_df[['elo_h','elo_a','experience_diff']]\n",
    "    y_test = test_df['home_win'].map(label_mapping)\n",
    "    \n",
    "    #scaler = StandardScaler()\n",
    "    #X_train = scaler.fit_transform(X_train)\n",
    "    #X_test = scaler.transform(X_test)\n",
    " \n",
    "    return X_train, X_test, y_train, y_test"
   ]
  },
  {
   "cell_type": "code",
   "execution_count": 53,
   "id": "4b28cbf4",
   "metadata": {},
   "outputs": [],
   "source": [
    "def split_train_test_2(df, year):\n",
    "    '''split dataset so that the latest world cup games are the test set, all other games are training set\n",
    "    Args: \n",
    "        df(variable): dataset to be split\n",
    "        year(int): the year of the latest world cup in the dataset\n",
    "    '''\n",
    "    \n",
    "    test_df = df[(df['date_Y'] == year) & (df['tournament'] == 'FIFA World Cup')]\n",
    "    train_df = df[~((df['date_Y'] == year) & (df['tournament'] == 'FIFA World Cup'))]\n",
    "    \n",
    "    label_mapping = {0: 'lose', 0.5: 'tie', 1: 'win'}\n",
    "    \n",
    "    #create training set with two features\n",
    "    X_train = train_df[['elo_h','elo_a']]\n",
    "    y_train = train_df['home_win'].map(label_mapping)\n",
    "    X_test = test_df[['elo_h','elo_a']]\n",
    "    y_test = test_df['home_win'].map(label_mapping)\n",
    "    \n",
    "    #scaler = StandardScaler()\n",
    "    #X_train = scaler.fit_transform(X_train)\n",
    "    #X_test = scaler.transform(X_test)\n",
    " \n",
    "    return X_train, X_test, y_train, y_test"
   ]
  },
  {
   "cell_type": "code",
   "execution_count": 54,
   "id": "4c954ad5",
   "metadata": {},
   "outputs": [],
   "source": [
    "def metrics_display(model):\n",
    "    '''display model performence metrics'''\n",
    "    \n",
    "    model.fit(X_train,y_train)\n",
    "    y_pred = model.predict(X_test)\n",
    "    \n",
    "    print(classification_report(y_test,y_pred))\n",
    "    cm = confusion_matrix(y_test, y_pred, labels=model.classes_)\n",
    "    disp = ConfusionMatrixDisplay(confusion_matrix=cm, display_labels=model.classes_)\n",
    "\n",
    "    fig, ax = plt.subplots(figsize=(3, 3))  \n",
    "    disp.plot(ax=ax)  \n",
    "    plt.show()  "
   ]
  },
  {
   "cell_type": "markdown",
   "id": "bcd50c46",
   "metadata": {},
   "source": [
    "- Train on games before 2000 to predict World Cup 1999"
   ]
  },
  {
   "cell_type": "code",
   "execution_count": 55,
   "id": "194f045e",
   "metadata": {},
   "outputs": [],
   "source": [
    "X_train, X_test, y_train, y_test = split_train_test_1(df_1999_new, 1999)"
   ]
  },
  {
   "cell_type": "code",
   "execution_count": 56,
   "id": "af7826b7",
   "metadata": {},
   "outputs": [
    {
     "data": {
      "text/plain": [
       "win     575\n",
       "lose    318\n",
       "tie     149\n",
       "Name: home_win, dtype: int64"
      ]
     },
     "execution_count": 56,
     "metadata": {},
     "output_type": "execute_result"
    }
   ],
   "source": [
    "y_train.value_counts()"
   ]
  },
  {
   "cell_type": "code",
   "execution_count": 58,
   "id": "357b5bf8",
   "metadata": {},
   "outputs": [],
   "source": [
    "# Logistic Regression pipeline\n",
    "lr_pipeline = Pipeline([('lr', LogisticRegression())])\n",
    "\n",
    "# Random Forest pipeline\n",
    "rf_pipeline = Pipeline([('rf', RandomForestClassifier())])\n",
    "\n",
    "# K-Nearest Neighbors pipeline\n",
    "knn_pipeline = Pipeline([('knn', KNeighborsClassifier())])\n",
    "\n",
    "# List of pipelines\n",
    "pipelines = [lr_pipeline, rf_pipeline, knn_pipeline]"
   ]
  },
  {
   "cell_type": "code",
   "execution_count": 59,
   "id": "2468b098",
   "metadata": {},
   "outputs": [
    {
     "name": "stdout",
     "output_type": "stream",
     "text": [
      "LogisticRegression Accuracy: 0.62\n",
      "RandomForestClassifier Accuracy: 0.59\n",
      "KNeighborsClassifier Accuracy: 0.59\n"
     ]
    }
   ],
   "source": [
    "for pipeline in pipelines:\n",
    "    pipeline.fit(X_train, y_train)\n",
    "    y_pred = pipeline.predict(X_test)\n",
    "    accuracy = accuracy_score(y_test, y_pred)\n",
    "    model_name = pipeline.steps[-1][1].__class__.__name__\n",
    "    print(f'{model_name} Accuracy: {accuracy:.2f}')"
   ]
  },
  {
   "cell_type": "code",
   "execution_count": 60,
   "id": "ddf45ac3",
   "metadata": {},
   "outputs": [
    {
     "name": "stdout",
     "output_type": "stream",
     "text": [
      "              precision    recall  f1-score   support\n",
      "\n",
      "        lose       0.38      0.71      0.50         7\n",
      "         tie       0.50      0.17      0.25         6\n",
      "         win       0.76      0.68      0.72        19\n",
      "\n",
      "    accuracy                           0.59        32\n",
      "   macro avg       0.55      0.52      0.49        32\n",
      "weighted avg       0.63      0.59      0.59        32\n",
      "\n"
     ]
    },
    {
     "data": {
      "image/png": "[encoded data removed]",
      "text/plain": [
       "<Figure size 300x300 with 2 Axes>"
      ]
     },
     "metadata": {},
     "output_type": "display_data"
    }
   ],
   "source": [
    "metrics_display(KNeighborsClassifier())"
   ]
  },
  {
   "cell_type": "markdown",
   "id": "fee2cbc9",
   "metadata": {},
   "source": [
    "- Train on games between 2000 and 2012 to predict World Cup 2011"
   ]
  },
  {
   "cell_type": "code",
   "execution_count": 61,
   "id": "79a9dbe5",
   "metadata": {},
   "outputs": [],
   "source": [
    "X_train, X_test, y_train, y_test = split_train_test_1(df_1999_2011_new, 2011)"
   ]
  },
  {
   "cell_type": "code",
   "execution_count": 62,
   "id": "f197cb5b",
   "metadata": {},
   "outputs": [
    {
     "data": {
      "text/plain": [
       "win     806\n",
       "lose    519\n",
       "tie     199\n",
       "Name: home_win, dtype: int64"
      ]
     },
     "execution_count": 62,
     "metadata": {},
     "output_type": "execute_result"
    }
   ],
   "source": [
    "y_train.value_counts()"
   ]
  },
  {
   "cell_type": "code",
   "execution_count": 63,
   "id": "768f5dec",
   "metadata": {},
   "outputs": [],
   "source": [
    "oversampler = RandomOverSampler(sampling_strategy={'tie':500}, random_state=42)\n",
    "X_train, y_train = oversampler.fit_resample(X_train, y_train)"
   ]
  },
  {
   "cell_type": "code",
   "execution_count": 64,
   "id": "bfbd322c",
   "metadata": {},
   "outputs": [
    {
     "name": "stdout",
     "output_type": "stream",
     "text": [
      "LogisticRegression Accuracy: 0.62\n",
      "RandomForestClassifier Accuracy: 0.59\n",
      "KNeighborsClassifier Accuracy: 0.50\n"
     ]
    }
   ],
   "source": [
    "for pipeline in pipelines:\n",
    "    pipeline.fit(X_train, y_train)\n",
    "    y_pred = pipeline.predict(X_test)\n",
    "    accuracy = accuracy_score(y_test, y_pred)\n",
    "    model_name = pipeline.steps[-1][1].__class__.__name__\n",
    "    print(f'{model_name} Accuracy: {accuracy:.2f}')"
   ]
  },
  {
   "cell_type": "code",
   "execution_count": 65,
   "id": "443463cb",
   "metadata": {},
   "outputs": [
    {
     "name": "stdout",
     "output_type": "stream",
     "text": [
      "              precision    recall  f1-score   support\n",
      "\n",
      "        lose       0.47      0.78      0.58         9\n",
      "         tie       0.00      0.00      0.00         6\n",
      "         win       0.76      0.76      0.76        17\n",
      "\n",
      "    accuracy                           0.62        32\n",
      "   macro avg       0.41      0.51      0.45        32\n",
      "weighted avg       0.54      0.62      0.57        32\n",
      "\n"
     ]
    },
    {
     "data": {
      "image/png": "[encoded data removed]",
      "text/plain": [
       "<Figure size 300x300 with 2 Axes>"
      ]
     },
     "metadata": {},
     "output_type": "display_data"
    }
   ],
   "source": [
    "metrics_display(LogisticRegression())"
   ]
  },
  {
   "cell_type": "markdown",
   "id": "c89a4242",
   "metadata": {},
   "source": [
    "- Train on games between 2012 and 2020 to predict World Cup 2019"
   ]
  },
  {
   "cell_type": "code",
   "execution_count": 66,
   "id": "81a47a3c",
   "metadata": {},
   "outputs": [],
   "source": [
    "X_train, X_test, y_train, y_test = split_train_test_1(df_2011_2019_new, 2019)"
   ]
  },
  {
   "cell_type": "code",
   "execution_count": 67,
   "id": "9f73cfa6",
   "metadata": {},
   "outputs": [
    {
     "data": {
      "text/plain": [
       "win     754\n",
       "lose    554\n",
       "tie     252\n",
       "Name: home_win, dtype: int64"
      ]
     },
     "execution_count": 67,
     "metadata": {},
     "output_type": "execute_result"
    }
   ],
   "source": [
    "y_train.value_counts()"
   ]
  },
  {
   "cell_type": "code",
   "execution_count": 68,
   "id": "602f711e",
   "metadata": {},
   "outputs": [
    {
     "data": {
      "text/plain": [
       "win     29\n",
       "lose    19\n",
       "tie      4\n",
       "Name: home_win, dtype: int64"
      ]
     },
     "execution_count": 68,
     "metadata": {},
     "output_type": "execute_result"
    }
   ],
   "source": [
    "y_test.value_counts()"
   ]
  },
  {
   "cell_type": "code",
   "execution_count": 69,
   "id": "3b5436f6",
   "metadata": {},
   "outputs": [],
   "source": [
    "#oversample training data with label 'tie'\n",
    "oversampler = RandomOverSampler(sampling_strategy={'tie':500}, random_state=42)\n",
    "X_train, y_train = oversampler.fit_resample(X_train, y_train)"
   ]
  },
  {
   "cell_type": "code",
   "execution_count": 70,
   "id": "6785d886",
   "metadata": {},
   "outputs": [],
   "source": [
    "#oversample test data with label 'tie'\n",
    "#oversampler = SMOTE(sampling_strategy='auto', k_neighbors=3)\n",
    "#X_test, y_test = oversampler.fit_resample(X_test, y_test)"
   ]
  },
  {
   "cell_type": "code",
   "execution_count": 71,
   "id": "c575922c",
   "metadata": {},
   "outputs": [
    {
     "name": "stdout",
     "output_type": "stream",
     "text": [
      "LogisticRegression Accuracy: 0.73\n",
      "RandomForestClassifier Accuracy: 0.77\n",
      "KNeighborsClassifier Accuracy: 0.69\n"
     ]
    }
   ],
   "source": [
    "for pipeline in pipelines:\n",
    "    pipeline.fit(X_train, y_train)\n",
    "    y_pred = pipeline.predict(X_test)\n",
    "    accuracy = accuracy_score(y_test, y_pred)\n",
    "    model_name = pipeline.steps[-1][1].__class__.__name__\n",
    "    print(f'{model_name} Accuracy: {accuracy:.2f}')"
   ]
  },
  {
   "cell_type": "code",
   "execution_count": 72,
   "id": "d93b13e1",
   "metadata": {},
   "outputs": [
    {
     "name": "stdout",
     "output_type": "stream",
     "text": [
      "              precision    recall  f1-score   support\n",
      "\n",
      "        lose       0.65      0.79      0.71        19\n",
      "         tie       1.00      0.25      0.40         4\n",
      "         win       0.79      0.76      0.77        29\n",
      "\n",
      "    accuracy                           0.73        52\n",
      "   macro avg       0.81      0.60      0.63        52\n",
      "weighted avg       0.75      0.73      0.72        52\n",
      "\n"
     ]
    },
    {
     "data": {
      "image/png": "[encoded data removed]",
      "text/plain": [
       "<Figure size 300x300 with 2 Axes>"
      ]
     },
     "metadata": {},
     "output_type": "display_data"
    }
   ],
   "source": [
    "metrics_display(LogisticRegression())"
   ]
  },
  {
   "cell_type": "code",
   "execution_count": 73,
   "id": "792306c7",
   "metadata": {},
   "outputs": [
    {
     "data": {
      "text/html": [
       "<div>\n",
       "<style scoped>\n",
       "    .dataframe tbody tr th:only-of-type {\n",
       "        vertical-align: middle;\n",
       "    }\n",
       "\n",
       "    .dataframe tbody tr th {\n",
       "        vertical-align: top;\n",
       "    }\n",
       "\n",
       "    .dataframe thead th {\n",
       "        text-align: right;\n",
       "    }\n",
       "</style>\n",
       "<table border=\"1\" class=\"dataframe\">\n",
       "  <thead>\n",
       "    <tr style=\"text-align: right;\">\n",
       "      <th></th>\n",
       "      <th>home_team</th>\n",
       "      <th>away_team</th>\n",
       "      <th>home_score</th>\n",
       "      <th>away_score</th>\n",
       "      <th>elo_h</th>\n",
       "      <th>elo_a</th>\n",
       "      <th>elo_diff</th>\n",
       "      <th>experience_diff</th>\n",
       "      <th>Actual</th>\n",
       "      <th>Predicted</th>\n",
       "    </tr>\n",
       "  </thead>\n",
       "  <tbody>\n",
       "    <tr>\n",
       "      <th>1604</th>\n",
       "      <td>United States</td>\n",
       "      <td>Chile</td>\n",
       "      <td>3</td>\n",
       "      <td>0</td>\n",
       "      <td>1627.595</td>\n",
       "      <td>1279.910</td>\n",
       "      <td>347.685</td>\n",
       "      <td>161</td>\n",
       "      <td>win</td>\n",
       "      <td>win</td>\n",
       "    </tr>\n",
       "    <tr>\n",
       "      <th>1620</th>\n",
       "      <td>England</td>\n",
       "      <td>Cameroon</td>\n",
       "      <td>3</td>\n",
       "      <td>0</td>\n",
       "      <td>1680.550</td>\n",
       "      <td>1338.940</td>\n",
       "      <td>341.610</td>\n",
       "      <td>31</td>\n",
       "      <td>win</td>\n",
       "      <td>win</td>\n",
       "    </tr>\n",
       "    <tr>\n",
       "      <th>1600</th>\n",
       "      <td>England</td>\n",
       "      <td>Argentina</td>\n",
       "      <td>1</td>\n",
       "      <td>0</td>\n",
       "      <td>1644.010</td>\n",
       "      <td>1330.720</td>\n",
       "      <td>313.290</td>\n",
       "      <td>54</td>\n",
       "      <td>win</td>\n",
       "      <td>win</td>\n",
       "    </tr>\n",
       "    <tr>\n",
       "      <th>1592</th>\n",
       "      <td>United States</td>\n",
       "      <td>Thailand</td>\n",
       "      <td>13</td>\n",
       "      <td>0</td>\n",
       "      <td>1613.555</td>\n",
       "      <td>1304.035</td>\n",
       "      <td>309.520</td>\n",
       "      <td>142</td>\n",
       "      <td>win</td>\n",
       "      <td>win</td>\n",
       "    </tr>\n",
       "    <tr>\n",
       "      <th>1581</th>\n",
       "      <td>France</td>\n",
       "      <td>South Korea</td>\n",
       "      <td>4</td>\n",
       "      <td>0</td>\n",
       "      <td>1642.630</td>\n",
       "      <td>1334.090</td>\n",
       "      <td>308.540</td>\n",
       "      <td>0</td>\n",
       "      <td>win</td>\n",
       "      <td>win</td>\n",
       "    </tr>\n",
       "    <tr>\n",
       "      <th>1621</th>\n",
       "      <td>France</td>\n",
       "      <td>Brazil</td>\n",
       "      <td>2</td>\n",
       "      <td>1</td>\n",
       "      <td>1696.870</td>\n",
       "      <td>1400.745</td>\n",
       "      <td>296.125</td>\n",
       "      <td>16</td>\n",
       "      <td>win</td>\n",
       "      <td>win</td>\n",
       "    </tr>\n",
       "    <tr>\n",
       "      <th>1605</th>\n",
       "      <td>France</td>\n",
       "      <td>Nigeria</td>\n",
       "      <td>1</td>\n",
       "      <td>0</td>\n",
       "      <td>1681.150</td>\n",
       "      <td>1410.780</td>\n",
       "      <td>270.370</td>\n",
       "      <td>23</td>\n",
       "      <td>win</td>\n",
       "      <td>win</td>\n",
       "    </tr>\n",
       "    <tr>\n",
       "      <th>1584</th>\n",
       "      <td>Spain</td>\n",
       "      <td>South Africa</td>\n",
       "      <td>3</td>\n",
       "      <td>1</td>\n",
       "      <td>1525.960</td>\n",
       "      <td>1268.195</td>\n",
       "      <td>257.765</td>\n",
       "      <td>-9</td>\n",
       "      <td>win</td>\n",
       "      <td>win</td>\n",
       "    </tr>\n",
       "    <tr>\n",
       "      <th>1618</th>\n",
       "      <td>Germany</td>\n",
       "      <td>Nigeria</td>\n",
       "      <td>3</td>\n",
       "      <td>0</td>\n",
       "      <td>1646.100</td>\n",
       "      <td>1395.060</td>\n",
       "      <td>251.040</td>\n",
       "      <td>36</td>\n",
       "      <td>win</td>\n",
       "      <td>win</td>\n",
       "    </tr>\n",
       "    <tr>\n",
       "      <th>1603</th>\n",
       "      <td>Sweden</td>\n",
       "      <td>Thailand</td>\n",
       "      <td>5</td>\n",
       "      <td>1</td>\n",
       "      <td>1499.350</td>\n",
       "      <td>1289.995</td>\n",
       "      <td>209.355</td>\n",
       "      <td>39</td>\n",
       "      <td>win</td>\n",
       "      <td>win</td>\n",
       "    </tr>\n",
       "    <tr>\n",
       "      <th>1583</th>\n",
       "      <td>Germany</td>\n",
       "      <td>China PR</td>\n",
       "      <td>1</td>\n",
       "      <td>0</td>\n",
       "      <td>1590.900</td>\n",
       "      <td>1384.150</td>\n",
       "      <td>206.750</td>\n",
       "      <td>-7</td>\n",
       "      <td>win</td>\n",
       "      <td>win</td>\n",
       "    </tr>\n",
       "    <tr>\n",
       "      <th>1610</th>\n",
       "      <td>Italy</td>\n",
       "      <td>Brazil</td>\n",
       "      <td>0</td>\n",
       "      <td>1</td>\n",
       "      <td>1527.620</td>\n",
       "      <td>1361.505</td>\n",
       "      <td>166.115</td>\n",
       "      <td>16</td>\n",
       "      <td>lose</td>\n",
       "      <td>win</td>\n",
       "    </tr>\n",
       "    <tr>\n",
       "      <th>1632</th>\n",
       "      <td>England</td>\n",
       "      <td>Sweden</td>\n",
       "      <td>1</td>\n",
       "      <td>2</td>\n",
       "      <td>1684.930</td>\n",
       "      <td>1528.270</td>\n",
       "      <td>156.660</td>\n",
       "      <td>-3</td>\n",
       "      <td>lose</td>\n",
       "      <td>win</td>\n",
       "    </tr>\n",
       "    <tr>\n",
       "      <th>1619</th>\n",
       "      <td>Norway</td>\n",
       "      <td>Australia</td>\n",
       "      <td>1</td>\n",
       "      <td>1</td>\n",
       "      <td>1551.835</td>\n",
       "      <td>1406.460</td>\n",
       "      <td>145.375</td>\n",
       "      <td>21</td>\n",
       "      <td>tie</td>\n",
       "      <td>win</td>\n",
       "    </tr>\n",
       "    <tr>\n",
       "      <th>1629</th>\n",
       "      <td>Germany</td>\n",
       "      <td>Sweden</td>\n",
       "      <td>1</td>\n",
       "      <td>2</td>\n",
       "      <td>1662.660</td>\n",
       "      <td>1518.910</td>\n",
       "      <td>143.750</td>\n",
       "      <td>6</td>\n",
       "      <td>lose</td>\n",
       "      <td>win</td>\n",
       "    </tr>\n",
       "    <tr>\n",
       "      <th>1601</th>\n",
       "      <td>Netherlands</td>\n",
       "      <td>Cameroon</td>\n",
       "      <td>3</td>\n",
       "      <td>1</td>\n",
       "      <td>1474.990</td>\n",
       "      <td>1332.880</td>\n",
       "      <td>142.110</td>\n",
       "      <td>23</td>\n",
       "      <td>win</td>\n",
       "      <td>win</td>\n",
       "    </tr>\n",
       "    <tr>\n",
       "      <th>1633</th>\n",
       "      <td>United States</td>\n",
       "      <td>Netherlands</td>\n",
       "      <td>2</td>\n",
       "      <td>0</td>\n",
       "      <td>1746.035</td>\n",
       "      <td>1607.950</td>\n",
       "      <td>138.085</td>\n",
       "      <td>114</td>\n",
       "      <td>win</td>\n",
       "      <td>win</td>\n",
       "    </tr>\n",
       "    <tr>\n",
       "      <th>1582</th>\n",
       "      <td>Norway</td>\n",
       "      <td>Nigeria</td>\n",
       "      <td>3</td>\n",
       "      <td>0</td>\n",
       "      <td>1536.595</td>\n",
       "      <td>1407.180</td>\n",
       "      <td>129.415</td>\n",
       "      <td>29</td>\n",
       "      <td>win</td>\n",
       "      <td>win</td>\n",
       "    </tr>\n",
       "    <tr>\n",
       "      <th>1587</th>\n",
       "      <td>England</td>\n",
       "      <td>Scotland</td>\n",
       "      <td>2</td>\n",
       "      <td>1</td>\n",
       "      <td>1621.270</td>\n",
       "      <td>1492.445</td>\n",
       "      <td>128.825</td>\n",
       "      <td>11</td>\n",
       "      <td>win</td>\n",
       "      <td>win</td>\n",
       "    </tr>\n",
       "    <tr>\n",
       "      <th>1612</th>\n",
       "      <td>Scotland</td>\n",
       "      <td>Argentina</td>\n",
       "      <td>3</td>\n",
       "      <td>3</td>\n",
       "      <td>1441.445</td>\n",
       "      <td>1316.860</td>\n",
       "      <td>124.585</td>\n",
       "      <td>43</td>\n",
       "      <td>tie</td>\n",
       "      <td>win</td>\n",
       "    </tr>\n",
       "    <tr>\n",
       "      <th>1623</th>\n",
       "      <td>Sweden</td>\n",
       "      <td>Canada</td>\n",
       "      <td>1</td>\n",
       "      <td>0</td>\n",
       "      <td>1494.790</td>\n",
       "      <td>1390.970</td>\n",
       "      <td>103.820</td>\n",
       "      <td>0</td>\n",
       "      <td>win</td>\n",
       "      <td>win</td>\n",
       "    </tr>\n",
       "    <tr>\n",
       "      <th>1594</th>\n",
       "      <td>France</td>\n",
       "      <td>Norway</td>\n",
       "      <td>2</td>\n",
       "      <td>1</td>\n",
       "      <td>1656.670</td>\n",
       "      <td>1559.275</td>\n",
       "      <td>97.395</td>\n",
       "      <td>-6</td>\n",
       "      <td>win</td>\n",
       "      <td>win</td>\n",
       "    </tr>\n",
       "    <tr>\n",
       "      <th>1624</th>\n",
       "      <td>Italy</td>\n",
       "      <td>China PR</td>\n",
       "      <td>2</td>\n",
       "      <td>0</td>\n",
       "      <td>1488.380</td>\n",
       "      <td>1396.210</td>\n",
       "      <td>92.170</td>\n",
       "      <td>-20</td>\n",
       "      <td>win</td>\n",
       "      <td>lose</td>\n",
       "    </tr>\n",
       "    <tr>\n",
       "      <th>1602</th>\n",
       "      <td>Canada</td>\n",
       "      <td>New Zealand</td>\n",
       "      <td>2</td>\n",
       "      <td>0</td>\n",
       "      <td>1391.450</td>\n",
       "      <td>1302.000</td>\n",
       "      <td>89.450</td>\n",
       "      <td>19</td>\n",
       "      <td>win</td>\n",
       "      <td>win</td>\n",
       "    </tr>\n",
       "    <tr>\n",
       "      <th>1613</th>\n",
       "      <td>Netherlands</td>\n",
       "      <td>Canada</td>\n",
       "      <td>2</td>\n",
       "      <td>1</td>\n",
       "      <td>1497.010</td>\n",
       "      <td>1416.350</td>\n",
       "      <td>80.660</td>\n",
       "      <td>-11</td>\n",
       "      <td>win</td>\n",
       "      <td>lose</td>\n",
       "    </tr>\n",
       "    <tr>\n",
       "      <th>1595</th>\n",
       "      <td>Germany</td>\n",
       "      <td>Spain</td>\n",
       "      <td>1</td>\n",
       "      <td>0</td>\n",
       "      <td>1609.560</td>\n",
       "      <td>1542.220</td>\n",
       "      <td>67.340</td>\n",
       "      <td>27</td>\n",
       "      <td>win</td>\n",
       "      <td>win</td>\n",
       "    </tr>\n",
       "    <tr>\n",
       "      <th>1593</th>\n",
       "      <td>Nigeria</td>\n",
       "      <td>South Korea</td>\n",
       "      <td>2</td>\n",
       "      <td>0</td>\n",
       "      <td>1384.500</td>\n",
       "      <td>1320.050</td>\n",
       "      <td>64.450</td>\n",
       "      <td>-23</td>\n",
       "      <td>win</td>\n",
       "      <td>lose</td>\n",
       "    </tr>\n",
       "    <tr>\n",
       "      <th>1586</th>\n",
       "      <td>Brazil</td>\n",
       "      <td>Jamaica</td>\n",
       "      <td>3</td>\n",
       "      <td>0</td>\n",
       "      <td>1367.145</td>\n",
       "      <td>1312.605</td>\n",
       "      <td>54.540</td>\n",
       "      <td>29</td>\n",
       "      <td>win</td>\n",
       "      <td>win</td>\n",
       "    </tr>\n",
       "    <tr>\n",
       "      <th>1614</th>\n",
       "      <td>Cameroon</td>\n",
       "      <td>New Zealand</td>\n",
       "      <td>2</td>\n",
       "      <td>1</td>\n",
       "      <td>1310.860</td>\n",
       "      <td>1277.100</td>\n",
       "      <td>33.760</td>\n",
       "      <td>-15</td>\n",
       "      <td>win</td>\n",
       "      <td>lose</td>\n",
       "    </tr>\n",
       "    <tr>\n",
       "      <th>1599</th>\n",
       "      <td>Japan</td>\n",
       "      <td>Scotland</td>\n",
       "      <td>2</td>\n",
       "      <td>1</td>\n",
       "      <td>1499.690</td>\n",
       "      <td>1469.705</td>\n",
       "      <td>29.985</td>\n",
       "      <td>7</td>\n",
       "      <td>win</td>\n",
       "      <td>win</td>\n",
       "    </tr>\n",
       "    <tr>\n",
       "      <th>1627</th>\n",
       "      <td>France</td>\n",
       "      <td>United States</td>\n",
       "      <td>1</td>\n",
       "      <td>2</td>\n",
       "      <td>1711.450</td>\n",
       "      <td>1684.535</td>\n",
       "      <td>26.915</td>\n",
       "      <td>-110</td>\n",
       "      <td>lose</td>\n",
       "      <td>lose</td>\n",
       "    </tr>\n",
       "    <tr>\n",
       "      <th>1631</th>\n",
       "      <td>Netherlands</td>\n",
       "      <td>Sweden</td>\n",
       "      <td>1</td>\n",
       "      <td>0</td>\n",
       "      <td>1579.210</td>\n",
       "      <td>1557.010</td>\n",
       "      <td>22.200</td>\n",
       "      <td>-11</td>\n",
       "      <td>win</td>\n",
       "      <td>lose</td>\n",
       "    </tr>\n",
       "    <tr>\n",
       "      <th>1625</th>\n",
       "      <td>Netherlands</td>\n",
       "      <td>Japan</td>\n",
       "      <td>2</td>\n",
       "      <td>1</td>\n",
       "      <td>1522.390</td>\n",
       "      <td>1505.270</td>\n",
       "      <td>17.120</td>\n",
       "      <td>-4</td>\n",
       "      <td>win</td>\n",
       "      <td>lose</td>\n",
       "    </tr>\n",
       "    <tr>\n",
       "      <th>1616</th>\n",
       "      <td>Thailand</td>\n",
       "      <td>Chile</td>\n",
       "      <td>0</td>\n",
       "      <td>2</td>\n",
       "      <td>1271.455</td>\n",
       "      <td>1267.430</td>\n",
       "      <td>4.025</td>\n",
       "      <td>19</td>\n",
       "      <td>lose</td>\n",
       "      <td>win</td>\n",
       "    </tr>\n",
       "    <tr>\n",
       "      <th>1630</th>\n",
       "      <td>England</td>\n",
       "      <td>United States</td>\n",
       "      <td>1</td>\n",
       "      <td>2</td>\n",
       "      <td>1714.870</td>\n",
       "      <td>1716.095</td>\n",
       "      <td>-1.225</td>\n",
       "      <td>-106</td>\n",
       "      <td>lose</td>\n",
       "      <td>lose</td>\n",
       "    </tr>\n",
       "    <tr>\n",
       "      <th>1589</th>\n",
       "      <td>Canada</td>\n",
       "      <td>Cameroon</td>\n",
       "      <td>1</td>\n",
       "      <td>0</td>\n",
       "      <td>1361.330</td>\n",
       "      <td>1363.000</td>\n",
       "      <td>-1.670</td>\n",
       "      <td>34</td>\n",
       "      <td>win</td>\n",
       "      <td>win</td>\n",
       "    </tr>\n",
       "    <tr>\n",
       "      <th>1628</th>\n",
       "      <td>Italy</td>\n",
       "      <td>Netherlands</td>\n",
       "      <td>0</td>\n",
       "      <td>2</td>\n",
       "      <td>1513.100</td>\n",
       "      <td>1551.430</td>\n",
       "      <td>-38.330</td>\n",
       "      <td>4</td>\n",
       "      <td>lose</td>\n",
       "      <td>lose</td>\n",
       "    </tr>\n",
       "    <tr>\n",
       "      <th>1597</th>\n",
       "      <td>Australia</td>\n",
       "      <td>Brazil</td>\n",
       "      <td>3</td>\n",
       "      <td>2</td>\n",
       "      <td>1350.480</td>\n",
       "      <td>1394.025</td>\n",
       "      <td>-43.545</td>\n",
       "      <td>1</td>\n",
       "      <td>win</td>\n",
       "      <td>lose</td>\n",
       "    </tr>\n",
       "    <tr>\n",
       "      <th>1585</th>\n",
       "      <td>Australia</td>\n",
       "      <td>Italy</td>\n",
       "      <td>1</td>\n",
       "      <td>2</td>\n",
       "      <td>1374.120</td>\n",
       "      <td>1486.160</td>\n",
       "      <td>-112.040</td>\n",
       "      <td>-15</td>\n",
       "      <td>lose</td>\n",
       "      <td>lose</td>\n",
       "    </tr>\n",
       "    <tr>\n",
       "      <th>1596</th>\n",
       "      <td>South Africa</td>\n",
       "      <td>China PR</td>\n",
       "      <td>0</td>\n",
       "      <td>1</td>\n",
       "      <td>1251.935</td>\n",
       "      <td>1365.490</td>\n",
       "      <td>-113.555</td>\n",
       "      <td>-25</td>\n",
       "      <td>lose</td>\n",
       "      <td>lose</td>\n",
       "    </tr>\n",
       "    <tr>\n",
       "      <th>1609</th>\n",
       "      <td>Jamaica</td>\n",
       "      <td>Australia</td>\n",
       "      <td>1</td>\n",
       "      <td>4</td>\n",
       "      <td>1267.905</td>\n",
       "      <td>1383.000</td>\n",
       "      <td>-115.095</td>\n",
       "      <td>-30</td>\n",
       "      <td>lose</td>\n",
       "      <td>lose</td>\n",
       "    </tr>\n",
       "    <tr>\n",
       "      <th>1615</th>\n",
       "      <td>Sweden</td>\n",
       "      <td>United States</td>\n",
       "      <td>0</td>\n",
       "      <td>2</td>\n",
       "      <td>1517.890</td>\n",
       "      <td>1640.075</td>\n",
       "      <td>-122.185</td>\n",
       "      <td>-103</td>\n",
       "      <td>lose</td>\n",
       "      <td>lose</td>\n",
       "    </tr>\n",
       "    <tr>\n",
       "      <th>1608</th>\n",
       "      <td>China PR</td>\n",
       "      <td>Spain</td>\n",
       "      <td>0</td>\n",
       "      <td>0</td>\n",
       "      <td>1389.070</td>\n",
       "      <td>1516.060</td>\n",
       "      <td>-126.990</td>\n",
       "      <td>34</td>\n",
       "      <td>tie</td>\n",
       "      <td>win</td>\n",
       "    </tr>\n",
       "    <tr>\n",
       "      <th>1590</th>\n",
       "      <td>New Zealand</td>\n",
       "      <td>Netherlands</td>\n",
       "      <td>0</td>\n",
       "      <td>1</td>\n",
       "      <td>1324.800</td>\n",
       "      <td>1452.190</td>\n",
       "      <td>-127.390</td>\n",
       "      <td>-8</td>\n",
       "      <td>lose</td>\n",
       "      <td>lose</td>\n",
       "    </tr>\n",
       "    <tr>\n",
       "      <th>1611</th>\n",
       "      <td>Japan</td>\n",
       "      <td>England</td>\n",
       "      <td>0</td>\n",
       "      <td>2</td>\n",
       "      <td>1527.950</td>\n",
       "      <td>1657.870</td>\n",
       "      <td>-129.920</td>\n",
       "      <td>-4</td>\n",
       "      <td>lose</td>\n",
       "      <td>lose</td>\n",
       "    </tr>\n",
       "    <tr>\n",
       "      <th>1626</th>\n",
       "      <td>Norway</td>\n",
       "      <td>England</td>\n",
       "      <td>0</td>\n",
       "      <td>3</td>\n",
       "      <td>1543.675</td>\n",
       "      <td>1693.270</td>\n",
       "      <td>-149.595</td>\n",
       "      <td>2</td>\n",
       "      <td>lose</td>\n",
       "      <td>lose</td>\n",
       "    </tr>\n",
       "    <tr>\n",
       "      <th>1622</th>\n",
       "      <td>Spain</td>\n",
       "      <td>United States</td>\n",
       "      <td>1</td>\n",
       "      <td>2</td>\n",
       "      <td>1508.920</td>\n",
       "      <td>1663.175</td>\n",
       "      <td>-154.255</td>\n",
       "      <td>-124</td>\n",
       "      <td>lose</td>\n",
       "      <td>lose</td>\n",
       "    </tr>\n",
       "    <tr>\n",
       "      <th>1591</th>\n",
       "      <td>Chile</td>\n",
       "      <td>Sweden</td>\n",
       "      <td>0</td>\n",
       "      <td>2</td>\n",
       "      <td>1300.010</td>\n",
       "      <td>1479.250</td>\n",
       "      <td>-179.240</td>\n",
       "      <td>-58</td>\n",
       "      <td>lose</td>\n",
       "      <td>lose</td>\n",
       "    </tr>\n",
       "    <tr>\n",
       "      <th>1588</th>\n",
       "      <td>Argentina</td>\n",
       "      <td>Japan</td>\n",
       "      <td>0</td>\n",
       "      <td>0</td>\n",
       "      <td>1320.280</td>\n",
       "      <td>1510.130</td>\n",
       "      <td>-189.850</td>\n",
       "      <td>-50</td>\n",
       "      <td>tie</td>\n",
       "      <td>lose</td>\n",
       "    </tr>\n",
       "    <tr>\n",
       "      <th>1598</th>\n",
       "      <td>Jamaica</td>\n",
       "      <td>Italy</td>\n",
       "      <td>0</td>\n",
       "      <td>5</td>\n",
       "      <td>1285.725</td>\n",
       "      <td>1509.800</td>\n",
       "      <td>-224.075</td>\n",
       "      <td>-45</td>\n",
       "      <td>lose</td>\n",
       "      <td>lose</td>\n",
       "    </tr>\n",
       "    <tr>\n",
       "      <th>1606</th>\n",
       "      <td>South Korea</td>\n",
       "      <td>Norway</td>\n",
       "      <td>1</td>\n",
       "      <td>2</td>\n",
       "      <td>1293.770</td>\n",
       "      <td>1534.795</td>\n",
       "      <td>-241.025</td>\n",
       "      <td>-6</td>\n",
       "      <td>lose</td>\n",
       "      <td>lose</td>\n",
       "    </tr>\n",
       "    <tr>\n",
       "      <th>1607</th>\n",
       "      <td>South Africa</td>\n",
       "      <td>Germany</td>\n",
       "      <td>0</td>\n",
       "      <td>4</td>\n",
       "      <td>1228.355</td>\n",
       "      <td>1635.720</td>\n",
       "      <td>-407.365</td>\n",
       "      <td>-18</td>\n",
       "      <td>lose</td>\n",
       "      <td>lose</td>\n",
       "    </tr>\n",
       "  </tbody>\n",
       "</table>\n",
       "</div>"
      ],
      "text/plain": [
       "          home_team      away_team  home_score  away_score     elo_h  \\\n",
       "1604  United States          Chile           3           0  1627.595   \n",
       "1620        England       Cameroon           3           0  1680.550   \n",
       "1600        England      Argentina           1           0  1644.010   \n",
       "1592  United States       Thailand          13           0  1613.555   \n",
       "1581         France    South Korea           4           0  1642.630   \n",
       "1621         France         Brazil           2           1  1696.870   \n",
       "1605         France        Nigeria           1           0  1681.150   \n",
       "1584          Spain   South Africa           3           1  1525.960   \n",
       "1618        Germany        Nigeria           3           0  1646.100   \n",
       "1603         Sweden       Thailand           5           1  1499.350   \n",
       "1583        Germany       China PR           1           0  1590.900   \n",
       "1610          Italy         Brazil           0           1  1527.620   \n",
       "1632        England         Sweden           1           2  1684.930   \n",
       "1619         Norway      Australia           1           1  1551.835   \n",
       "1629        Germany         Sweden           1           2  1662.660   \n",
       "1601    Netherlands       Cameroon           3           1  1474.990   \n",
       "1633  United States    Netherlands           2           0  1746.035   \n",
       "1582         Norway        Nigeria           3           0  1536.595   \n",
       "1587        England       Scotland           2           1  1621.270   \n",
       "1612       Scotland      Argentina           3           3  1441.445   \n",
       "1623         Sweden         Canada           1           0  1494.790   \n",
       "1594         France         Norway           2           1  1656.670   \n",
       "1624          Italy       China PR           2           0  1488.380   \n",
       "1602         Canada    New Zealand           2           0  1391.450   \n",
       "1613    Netherlands         Canada           2           1  1497.010   \n",
       "1595        Germany          Spain           1           0  1609.560   \n",
       "1593        Nigeria    South Korea           2           0  1384.500   \n",
       "1586         Brazil        Jamaica           3           0  1367.145   \n",
       "1614       Cameroon    New Zealand           2           1  1310.860   \n",
       "1599          Japan       Scotland           2           1  1499.690   \n",
       "1627         France  United States           1           2  1711.450   \n",
       "1631    Netherlands         Sweden           1           0  1579.210   \n",
       "1625    Netherlands          Japan           2           1  1522.390   \n",
       "1616       Thailand          Chile           0           2  1271.455   \n",
       "1630        England  United States           1           2  1714.870   \n",
       "1589         Canada       Cameroon           1           0  1361.330   \n",
       "1628          Italy    Netherlands           0           2  1513.100   \n",
       "1597      Australia         Brazil           3           2  1350.480   \n",
       "1585      Australia          Italy           1           2  1374.120   \n",
       "1596   South Africa       China PR           0           1  1251.935   \n",
       "1609        Jamaica      Australia           1           4  1267.905   \n",
       "1615         Sweden  United States           0           2  1517.890   \n",
       "1608       China PR          Spain           0           0  1389.070   \n",
       "1590    New Zealand    Netherlands           0           1  1324.800   \n",
       "1611          Japan        England           0           2  1527.950   \n",
       "1626         Norway        England           0           3  1543.675   \n",
       "1622          Spain  United States           1           2  1508.920   \n",
       "1591          Chile         Sweden           0           2  1300.010   \n",
       "1588      Argentina          Japan           0           0  1320.280   \n",
       "1598        Jamaica          Italy           0           5  1285.725   \n",
       "1606    South Korea         Norway           1           2  1293.770   \n",
       "1607   South Africa        Germany           0           4  1228.355   \n",
       "\n",
       "         elo_a  elo_diff  experience_diff Actual Predicted  \n",
       "1604  1279.910   347.685              161    win       win  \n",
       "1620  1338.940   341.610               31    win       win  \n",
       "1600  1330.720   313.290               54    win       win  \n",
       "1592  1304.035   309.520              142    win       win  \n",
       "1581  1334.090   308.540                0    win       win  \n",
       "1621  1400.745   296.125               16    win       win  \n",
       "1605  1410.780   270.370               23    win       win  \n",
       "1584  1268.195   257.765               -9    win       win  \n",
       "1618  1395.060   251.040               36    win       win  \n",
       "1603  1289.995   209.355               39    win       win  \n",
       "1583  1384.150   206.750               -7    win       win  \n",
       "1610  1361.505   166.115               16   lose       win  \n",
       "1632  1528.270   156.660               -3   lose       win  \n",
       "1619  1406.460   145.375               21    tie       win  \n",
       "1629  1518.910   143.750                6   lose       win  \n",
       "1601  1332.880   142.110               23    win       win  \n",
       "1633  1607.950   138.085              114    win       win  \n",
       "1582  1407.180   129.415               29    win       win  \n",
       "1587  1492.445   128.825               11    win       win  \n",
       "1612  1316.860   124.585               43    tie       win  \n",
       "1623  1390.970   103.820                0    win       win  \n",
       "1594  1559.275    97.395               -6    win       win  \n",
       "1624  1396.210    92.170              -20    win      lose  \n",
       "1602  1302.000    89.450               19    win       win  \n",
       "1613  1416.350    80.660              -11    win      lose  \n",
       "1595  1542.220    67.340               27    win       win  \n",
       "1593  1320.050    64.450              -23    win      lose  \n",
       "1586  1312.605    54.540               29    win       win  \n",
       "1614  1277.100    33.760              -15    win      lose  \n",
       "1599  1469.705    29.985                7    win       win  \n",
       "1627  1684.535    26.915             -110   lose      lose  \n",
       "1631  1557.010    22.200              -11    win      lose  \n",
       "1625  1505.270    17.120               -4    win      lose  \n",
       "1616  1267.430     4.025               19   lose       win  \n",
       "1630  1716.095    -1.225             -106   lose      lose  \n",
       "1589  1363.000    -1.670               34    win       win  \n",
       "1628  1551.430   -38.330                4   lose      lose  \n",
       "1597  1394.025   -43.545                1    win      lose  \n",
       "1585  1486.160  -112.040              -15   lose      lose  \n",
       "1596  1365.490  -113.555              -25   lose      lose  \n",
       "1609  1383.000  -115.095              -30   lose      lose  \n",
       "1615  1640.075  -122.185             -103   lose      lose  \n",
       "1608  1516.060  -126.990               34    tie       win  \n",
       "1590  1452.190  -127.390               -8   lose      lose  \n",
       "1611  1657.870  -129.920               -4   lose      lose  \n",
       "1626  1693.270  -149.595                2   lose      lose  \n",
       "1622  1663.175  -154.255             -124   lose      lose  \n",
       "1591  1479.250  -179.240              -58   lose      lose  \n",
       "1588  1510.130  -189.850              -50    tie      lose  \n",
       "1598  1509.800  -224.075              -45   lose      lose  \n",
       "1606  1534.795  -241.025               -6   lose      lose  \n",
       "1607  1635.720  -407.365              -18   lose      lose  "
      ]
     },
     "execution_count": 73,
     "metadata": {},
     "output_type": "execute_result"
    }
   ],
   "source": [
    "#Look into prediction details\n",
    "test_df = df_2011_2019_new[(df_2011_2019_new['date_Y'] == 2019) & (df_2011_2019_new['tournament'] == 'FIFA World Cup')]\n",
    "X_train, X_test, y_train, y_test = split_train_test_1(df_2011_2019_new, 2019)\n",
    "model = LogisticRegression()\n",
    "model.fit(X_train, y_train)\n",
    "predictions = model.predict(X_test)\n",
    "results_df = pd.DataFrame({'Actual': y_test, 'Predicted': predictions})\n",
    "col_list =['home_team', 'away_team', 'home_score', 'away_score', 'elo_h', 'elo_a', 'elo_diff','experience_diff']\n",
    "results_df = pd.concat([test_df[col_list], results_df], axis = 1)\n",
    "results_df.sort_values(by = 'elo_diff', ascending = False)"
   ]
  },
  {
   "cell_type": "code",
   "execution_count": 74,
   "id": "b34da7b9",
   "metadata": {},
   "outputs": [],
   "source": [
    "#try the model with only two features\n",
    "X_train, X_test, y_train, y_test = split_train_test_2(df_2011_2019_new, 2019)"
   ]
  },
  {
   "cell_type": "code",
   "execution_count": 75,
   "id": "c8f26622",
   "metadata": {},
   "outputs": [],
   "source": [
    "oversampler = RandomOverSampler(sampling_strategy={'tie':500}, random_state=42)\n",
    "X_train, y_train = oversampler.fit_resample(X_train, y_train)"
   ]
  },
  {
   "cell_type": "code",
   "execution_count": 76,
   "id": "19ac39f2",
   "metadata": {},
   "outputs": [],
   "source": [
    "#oversampler = SMOTE(sampling_strategy='auto', k_neighbors=3)\n",
    "#X_test, y_test = oversampler.fit_resample(X_test, y_test)"
   ]
  },
  {
   "cell_type": "code",
   "execution_count": 77,
   "id": "4d5b3e92",
   "metadata": {},
   "outputs": [
    {
     "name": "stdout",
     "output_type": "stream",
     "text": [
      "LogisticRegression Accuracy: 0.79\n",
      "RandomForestClassifier Accuracy: 0.58\n",
      "KNeighborsClassifier Accuracy: 0.60\n"
     ]
    }
   ],
   "source": [
    "for pipeline in pipelines:\n",
    "    pipeline.fit(X_train, y_train)\n",
    "    y_pred = pipeline.predict(X_test)\n",
    "    accuracy = accuracy_score(y_test, y_pred)\n",
    "    model_name = pipeline.steps[-1][1].__class__.__name__\n",
    "    print(f'{model_name} Accuracy: {accuracy:.2f}')"
   ]
  },
  {
   "cell_type": "code",
   "execution_count": 78,
   "id": "c0f12150",
   "metadata": {},
   "outputs": [
    {
     "name": "stdout",
     "output_type": "stream",
     "text": [
      "              precision    recall  f1-score   support\n",
      "\n",
      "        lose       0.73      0.84      0.78        19\n",
      "         tie       0.00      0.00      0.00         4\n",
      "         win       0.83      0.86      0.85        29\n",
      "\n",
      "    accuracy                           0.79        52\n",
      "   macro avg       0.52      0.57      0.54        52\n",
      "weighted avg       0.73      0.79      0.76        52\n",
      "\n"
     ]
    },
    {
     "data": {
      "image/png": "[encoded data removed]",
      "text/plain": [
       "<Figure size 300x300 with 2 Axes>"
      ]
     },
     "metadata": {},
     "output_type": "display_data"
    }
   ],
   "source": [
    "metrics_display(LogisticRegression())"
   ]
  },
  {
   "cell_type": "code",
   "execution_count": 79,
   "id": "5709656d",
   "metadata": {},
   "outputs": [
    {
     "data": {
      "text/html": [
       "<div>\n",
       "<style scoped>\n",
       "    .dataframe tbody tr th:only-of-type {\n",
       "        vertical-align: middle;\n",
       "    }\n",
       "\n",
       "    .dataframe tbody tr th {\n",
       "        vertical-align: top;\n",
       "    }\n",
       "\n",
       "    .dataframe thead th {\n",
       "        text-align: right;\n",
       "    }\n",
       "</style>\n",
       "<table border=\"1\" class=\"dataframe\">\n",
       "  <thead>\n",
       "    <tr style=\"text-align: right;\">\n",
       "      <th></th>\n",
       "      <th>home_team</th>\n",
       "      <th>away_team</th>\n",
       "      <th>home_score</th>\n",
       "      <th>away_score</th>\n",
       "      <th>elo_h</th>\n",
       "      <th>elo_a</th>\n",
       "      <th>elo_diff</th>\n",
       "      <th>experience_diff</th>\n",
       "      <th>Actual</th>\n",
       "      <th>Predicted</th>\n",
       "    </tr>\n",
       "  </thead>\n",
       "  <tbody>\n",
       "    <tr>\n",
       "      <th>1604</th>\n",
       "      <td>United States</td>\n",
       "      <td>Chile</td>\n",
       "      <td>3</td>\n",
       "      <td>0</td>\n",
       "      <td>1627.595</td>\n",
       "      <td>1279.910</td>\n",
       "      <td>347.685</td>\n",
       "      <td>161</td>\n",
       "      <td>win</td>\n",
       "      <td>win</td>\n",
       "    </tr>\n",
       "    <tr>\n",
       "      <th>1620</th>\n",
       "      <td>England</td>\n",
       "      <td>Cameroon</td>\n",
       "      <td>3</td>\n",
       "      <td>0</td>\n",
       "      <td>1680.550</td>\n",
       "      <td>1338.940</td>\n",
       "      <td>341.610</td>\n",
       "      <td>31</td>\n",
       "      <td>win</td>\n",
       "      <td>win</td>\n",
       "    </tr>\n",
       "    <tr>\n",
       "      <th>1600</th>\n",
       "      <td>England</td>\n",
       "      <td>Argentina</td>\n",
       "      <td>1</td>\n",
       "      <td>0</td>\n",
       "      <td>1644.010</td>\n",
       "      <td>1330.720</td>\n",
       "      <td>313.290</td>\n",
       "      <td>54</td>\n",
       "      <td>win</td>\n",
       "      <td>win</td>\n",
       "    </tr>\n",
       "    <tr>\n",
       "      <th>1592</th>\n",
       "      <td>United States</td>\n",
       "      <td>Thailand</td>\n",
       "      <td>13</td>\n",
       "      <td>0</td>\n",
       "      <td>1613.555</td>\n",
       "      <td>1304.035</td>\n",
       "      <td>309.520</td>\n",
       "      <td>142</td>\n",
       "      <td>win</td>\n",
       "      <td>win</td>\n",
       "    </tr>\n",
       "    <tr>\n",
       "      <th>1581</th>\n",
       "      <td>France</td>\n",
       "      <td>South Korea</td>\n",
       "      <td>4</td>\n",
       "      <td>0</td>\n",
       "      <td>1642.630</td>\n",
       "      <td>1334.090</td>\n",
       "      <td>308.540</td>\n",
       "      <td>0</td>\n",
       "      <td>win</td>\n",
       "      <td>win</td>\n",
       "    </tr>\n",
       "    <tr>\n",
       "      <th>1621</th>\n",
       "      <td>France</td>\n",
       "      <td>Brazil</td>\n",
       "      <td>2</td>\n",
       "      <td>1</td>\n",
       "      <td>1696.870</td>\n",
       "      <td>1400.745</td>\n",
       "      <td>296.125</td>\n",
       "      <td>16</td>\n",
       "      <td>win</td>\n",
       "      <td>win</td>\n",
       "    </tr>\n",
       "    <tr>\n",
       "      <th>1605</th>\n",
       "      <td>France</td>\n",
       "      <td>Nigeria</td>\n",
       "      <td>1</td>\n",
       "      <td>0</td>\n",
       "      <td>1681.150</td>\n",
       "      <td>1410.780</td>\n",
       "      <td>270.370</td>\n",
       "      <td>23</td>\n",
       "      <td>win</td>\n",
       "      <td>win</td>\n",
       "    </tr>\n",
       "    <tr>\n",
       "      <th>1584</th>\n",
       "      <td>Spain</td>\n",
       "      <td>South Africa</td>\n",
       "      <td>3</td>\n",
       "      <td>1</td>\n",
       "      <td>1525.960</td>\n",
       "      <td>1268.195</td>\n",
       "      <td>257.765</td>\n",
       "      <td>-9</td>\n",
       "      <td>win</td>\n",
       "      <td>win</td>\n",
       "    </tr>\n",
       "    <tr>\n",
       "      <th>1618</th>\n",
       "      <td>Germany</td>\n",
       "      <td>Nigeria</td>\n",
       "      <td>3</td>\n",
       "      <td>0</td>\n",
       "      <td>1646.100</td>\n",
       "      <td>1395.060</td>\n",
       "      <td>251.040</td>\n",
       "      <td>36</td>\n",
       "      <td>win</td>\n",
       "      <td>win</td>\n",
       "    </tr>\n",
       "    <tr>\n",
       "      <th>1603</th>\n",
       "      <td>Sweden</td>\n",
       "      <td>Thailand</td>\n",
       "      <td>5</td>\n",
       "      <td>1</td>\n",
       "      <td>1499.350</td>\n",
       "      <td>1289.995</td>\n",
       "      <td>209.355</td>\n",
       "      <td>39</td>\n",
       "      <td>win</td>\n",
       "      <td>win</td>\n",
       "    </tr>\n",
       "    <tr>\n",
       "      <th>1583</th>\n",
       "      <td>Germany</td>\n",
       "      <td>China PR</td>\n",
       "      <td>1</td>\n",
       "      <td>0</td>\n",
       "      <td>1590.900</td>\n",
       "      <td>1384.150</td>\n",
       "      <td>206.750</td>\n",
       "      <td>-7</td>\n",
       "      <td>win</td>\n",
       "      <td>win</td>\n",
       "    </tr>\n",
       "    <tr>\n",
       "      <th>1610</th>\n",
       "      <td>Italy</td>\n",
       "      <td>Brazil</td>\n",
       "      <td>0</td>\n",
       "      <td>1</td>\n",
       "      <td>1527.620</td>\n",
       "      <td>1361.505</td>\n",
       "      <td>166.115</td>\n",
       "      <td>16</td>\n",
       "      <td>lose</td>\n",
       "      <td>win</td>\n",
       "    </tr>\n",
       "    <tr>\n",
       "      <th>1632</th>\n",
       "      <td>England</td>\n",
       "      <td>Sweden</td>\n",
       "      <td>1</td>\n",
       "      <td>2</td>\n",
       "      <td>1684.930</td>\n",
       "      <td>1528.270</td>\n",
       "      <td>156.660</td>\n",
       "      <td>-3</td>\n",
       "      <td>lose</td>\n",
       "      <td>win</td>\n",
       "    </tr>\n",
       "    <tr>\n",
       "      <th>1619</th>\n",
       "      <td>Norway</td>\n",
       "      <td>Australia</td>\n",
       "      <td>1</td>\n",
       "      <td>1</td>\n",
       "      <td>1551.835</td>\n",
       "      <td>1406.460</td>\n",
       "      <td>145.375</td>\n",
       "      <td>21</td>\n",
       "      <td>tie</td>\n",
       "      <td>win</td>\n",
       "    </tr>\n",
       "    <tr>\n",
       "      <th>1629</th>\n",
       "      <td>Germany</td>\n",
       "      <td>Sweden</td>\n",
       "      <td>1</td>\n",
       "      <td>2</td>\n",
       "      <td>1662.660</td>\n",
       "      <td>1518.910</td>\n",
       "      <td>143.750</td>\n",
       "      <td>6</td>\n",
       "      <td>lose</td>\n",
       "      <td>win</td>\n",
       "    </tr>\n",
       "    <tr>\n",
       "      <th>1601</th>\n",
       "      <td>Netherlands</td>\n",
       "      <td>Cameroon</td>\n",
       "      <td>3</td>\n",
       "      <td>1</td>\n",
       "      <td>1474.990</td>\n",
       "      <td>1332.880</td>\n",
       "      <td>142.110</td>\n",
       "      <td>23</td>\n",
       "      <td>win</td>\n",
       "      <td>win</td>\n",
       "    </tr>\n",
       "    <tr>\n",
       "      <th>1633</th>\n",
       "      <td>United States</td>\n",
       "      <td>Netherlands</td>\n",
       "      <td>2</td>\n",
       "      <td>0</td>\n",
       "      <td>1746.035</td>\n",
       "      <td>1607.950</td>\n",
       "      <td>138.085</td>\n",
       "      <td>114</td>\n",
       "      <td>win</td>\n",
       "      <td>win</td>\n",
       "    </tr>\n",
       "    <tr>\n",
       "      <th>1582</th>\n",
       "      <td>Norway</td>\n",
       "      <td>Nigeria</td>\n",
       "      <td>3</td>\n",
       "      <td>0</td>\n",
       "      <td>1536.595</td>\n",
       "      <td>1407.180</td>\n",
       "      <td>129.415</td>\n",
       "      <td>29</td>\n",
       "      <td>win</td>\n",
       "      <td>win</td>\n",
       "    </tr>\n",
       "    <tr>\n",
       "      <th>1587</th>\n",
       "      <td>England</td>\n",
       "      <td>Scotland</td>\n",
       "      <td>2</td>\n",
       "      <td>1</td>\n",
       "      <td>1621.270</td>\n",
       "      <td>1492.445</td>\n",
       "      <td>128.825</td>\n",
       "      <td>11</td>\n",
       "      <td>win</td>\n",
       "      <td>win</td>\n",
       "    </tr>\n",
       "    <tr>\n",
       "      <th>1612</th>\n",
       "      <td>Scotland</td>\n",
       "      <td>Argentina</td>\n",
       "      <td>3</td>\n",
       "      <td>3</td>\n",
       "      <td>1441.445</td>\n",
       "      <td>1316.860</td>\n",
       "      <td>124.585</td>\n",
       "      <td>43</td>\n",
       "      <td>tie</td>\n",
       "      <td>win</td>\n",
       "    </tr>\n",
       "    <tr>\n",
       "      <th>1623</th>\n",
       "      <td>Sweden</td>\n",
       "      <td>Canada</td>\n",
       "      <td>1</td>\n",
       "      <td>0</td>\n",
       "      <td>1494.790</td>\n",
       "      <td>1390.970</td>\n",
       "      <td>103.820</td>\n",
       "      <td>0</td>\n",
       "      <td>win</td>\n",
       "      <td>win</td>\n",
       "    </tr>\n",
       "    <tr>\n",
       "      <th>1594</th>\n",
       "      <td>France</td>\n",
       "      <td>Norway</td>\n",
       "      <td>2</td>\n",
       "      <td>1</td>\n",
       "      <td>1656.670</td>\n",
       "      <td>1559.275</td>\n",
       "      <td>97.395</td>\n",
       "      <td>-6</td>\n",
       "      <td>win</td>\n",
       "      <td>win</td>\n",
       "    </tr>\n",
       "    <tr>\n",
       "      <th>1624</th>\n",
       "      <td>Italy</td>\n",
       "      <td>China PR</td>\n",
       "      <td>2</td>\n",
       "      <td>0</td>\n",
       "      <td>1488.380</td>\n",
       "      <td>1396.210</td>\n",
       "      <td>92.170</td>\n",
       "      <td>-20</td>\n",
       "      <td>win</td>\n",
       "      <td>win</td>\n",
       "    </tr>\n",
       "    <tr>\n",
       "      <th>1602</th>\n",
       "      <td>Canada</td>\n",
       "      <td>New Zealand</td>\n",
       "      <td>2</td>\n",
       "      <td>0</td>\n",
       "      <td>1391.450</td>\n",
       "      <td>1302.000</td>\n",
       "      <td>89.450</td>\n",
       "      <td>19</td>\n",
       "      <td>win</td>\n",
       "      <td>win</td>\n",
       "    </tr>\n",
       "    <tr>\n",
       "      <th>1613</th>\n",
       "      <td>Netherlands</td>\n",
       "      <td>Canada</td>\n",
       "      <td>2</td>\n",
       "      <td>1</td>\n",
       "      <td>1497.010</td>\n",
       "      <td>1416.350</td>\n",
       "      <td>80.660</td>\n",
       "      <td>-11</td>\n",
       "      <td>win</td>\n",
       "      <td>win</td>\n",
       "    </tr>\n",
       "    <tr>\n",
       "      <th>1595</th>\n",
       "      <td>Germany</td>\n",
       "      <td>Spain</td>\n",
       "      <td>1</td>\n",
       "      <td>0</td>\n",
       "      <td>1609.560</td>\n",
       "      <td>1542.220</td>\n",
       "      <td>67.340</td>\n",
       "      <td>27</td>\n",
       "      <td>win</td>\n",
       "      <td>win</td>\n",
       "    </tr>\n",
       "    <tr>\n",
       "      <th>1593</th>\n",
       "      <td>Nigeria</td>\n",
       "      <td>South Korea</td>\n",
       "      <td>2</td>\n",
       "      <td>0</td>\n",
       "      <td>1384.500</td>\n",
       "      <td>1320.050</td>\n",
       "      <td>64.450</td>\n",
       "      <td>-23</td>\n",
       "      <td>win</td>\n",
       "      <td>win</td>\n",
       "    </tr>\n",
       "    <tr>\n",
       "      <th>1586</th>\n",
       "      <td>Brazil</td>\n",
       "      <td>Jamaica</td>\n",
       "      <td>3</td>\n",
       "      <td>0</td>\n",
       "      <td>1367.145</td>\n",
       "      <td>1312.605</td>\n",
       "      <td>54.540</td>\n",
       "      <td>29</td>\n",
       "      <td>win</td>\n",
       "      <td>win</td>\n",
       "    </tr>\n",
       "    <tr>\n",
       "      <th>1614</th>\n",
       "      <td>Cameroon</td>\n",
       "      <td>New Zealand</td>\n",
       "      <td>2</td>\n",
       "      <td>1</td>\n",
       "      <td>1310.860</td>\n",
       "      <td>1277.100</td>\n",
       "      <td>33.760</td>\n",
       "      <td>-15</td>\n",
       "      <td>win</td>\n",
       "      <td>win</td>\n",
       "    </tr>\n",
       "    <tr>\n",
       "      <th>1599</th>\n",
       "      <td>Japan</td>\n",
       "      <td>Scotland</td>\n",
       "      <td>2</td>\n",
       "      <td>1</td>\n",
       "      <td>1499.690</td>\n",
       "      <td>1469.705</td>\n",
       "      <td>29.985</td>\n",
       "      <td>7</td>\n",
       "      <td>win</td>\n",
       "      <td>win</td>\n",
       "    </tr>\n",
       "    <tr>\n",
       "      <th>1627</th>\n",
       "      <td>France</td>\n",
       "      <td>United States</td>\n",
       "      <td>1</td>\n",
       "      <td>2</td>\n",
       "      <td>1711.450</td>\n",
       "      <td>1684.535</td>\n",
       "      <td>26.915</td>\n",
       "      <td>-110</td>\n",
       "      <td>lose</td>\n",
       "      <td>lose</td>\n",
       "    </tr>\n",
       "    <tr>\n",
       "      <th>1631</th>\n",
       "      <td>Netherlands</td>\n",
       "      <td>Sweden</td>\n",
       "      <td>1</td>\n",
       "      <td>0</td>\n",
       "      <td>1579.210</td>\n",
       "      <td>1557.010</td>\n",
       "      <td>22.200</td>\n",
       "      <td>-11</td>\n",
       "      <td>win</td>\n",
       "      <td>lose</td>\n",
       "    </tr>\n",
       "    <tr>\n",
       "      <th>1625</th>\n",
       "      <td>Netherlands</td>\n",
       "      <td>Japan</td>\n",
       "      <td>2</td>\n",
       "      <td>1</td>\n",
       "      <td>1522.390</td>\n",
       "      <td>1505.270</td>\n",
       "      <td>17.120</td>\n",
       "      <td>-4</td>\n",
       "      <td>win</td>\n",
       "      <td>lose</td>\n",
       "    </tr>\n",
       "    <tr>\n",
       "      <th>1616</th>\n",
       "      <td>Thailand</td>\n",
       "      <td>Chile</td>\n",
       "      <td>0</td>\n",
       "      <td>2</td>\n",
       "      <td>1271.455</td>\n",
       "      <td>1267.430</td>\n",
       "      <td>4.025</td>\n",
       "      <td>19</td>\n",
       "      <td>lose</td>\n",
       "      <td>lose</td>\n",
       "    </tr>\n",
       "    <tr>\n",
       "      <th>1630</th>\n",
       "      <td>England</td>\n",
       "      <td>United States</td>\n",
       "      <td>1</td>\n",
       "      <td>2</td>\n",
       "      <td>1714.870</td>\n",
       "      <td>1716.095</td>\n",
       "      <td>-1.225</td>\n",
       "      <td>-106</td>\n",
       "      <td>lose</td>\n",
       "      <td>lose</td>\n",
       "    </tr>\n",
       "    <tr>\n",
       "      <th>1589</th>\n",
       "      <td>Canada</td>\n",
       "      <td>Cameroon</td>\n",
       "      <td>1</td>\n",
       "      <td>0</td>\n",
       "      <td>1361.330</td>\n",
       "      <td>1363.000</td>\n",
       "      <td>-1.670</td>\n",
       "      <td>34</td>\n",
       "      <td>win</td>\n",
       "      <td>lose</td>\n",
       "    </tr>\n",
       "    <tr>\n",
       "      <th>1628</th>\n",
       "      <td>Italy</td>\n",
       "      <td>Netherlands</td>\n",
       "      <td>0</td>\n",
       "      <td>2</td>\n",
       "      <td>1513.100</td>\n",
       "      <td>1551.430</td>\n",
       "      <td>-38.330</td>\n",
       "      <td>4</td>\n",
       "      <td>lose</td>\n",
       "      <td>lose</td>\n",
       "    </tr>\n",
       "    <tr>\n",
       "      <th>1597</th>\n",
       "      <td>Australia</td>\n",
       "      <td>Brazil</td>\n",
       "      <td>3</td>\n",
       "      <td>2</td>\n",
       "      <td>1350.480</td>\n",
       "      <td>1394.025</td>\n",
       "      <td>-43.545</td>\n",
       "      <td>1</td>\n",
       "      <td>win</td>\n",
       "      <td>lose</td>\n",
       "    </tr>\n",
       "    <tr>\n",
       "      <th>1585</th>\n",
       "      <td>Australia</td>\n",
       "      <td>Italy</td>\n",
       "      <td>1</td>\n",
       "      <td>2</td>\n",
       "      <td>1374.120</td>\n",
       "      <td>1486.160</td>\n",
       "      <td>-112.040</td>\n",
       "      <td>-15</td>\n",
       "      <td>lose</td>\n",
       "      <td>lose</td>\n",
       "    </tr>\n",
       "    <tr>\n",
       "      <th>1596</th>\n",
       "      <td>South Africa</td>\n",
       "      <td>China PR</td>\n",
       "      <td>0</td>\n",
       "      <td>1</td>\n",
       "      <td>1251.935</td>\n",
       "      <td>1365.490</td>\n",
       "      <td>-113.555</td>\n",
       "      <td>-25</td>\n",
       "      <td>lose</td>\n",
       "      <td>lose</td>\n",
       "    </tr>\n",
       "    <tr>\n",
       "      <th>1609</th>\n",
       "      <td>Jamaica</td>\n",
       "      <td>Australia</td>\n",
       "      <td>1</td>\n",
       "      <td>4</td>\n",
       "      <td>1267.905</td>\n",
       "      <td>1383.000</td>\n",
       "      <td>-115.095</td>\n",
       "      <td>-30</td>\n",
       "      <td>lose</td>\n",
       "      <td>lose</td>\n",
       "    </tr>\n",
       "    <tr>\n",
       "      <th>1615</th>\n",
       "      <td>Sweden</td>\n",
       "      <td>United States</td>\n",
       "      <td>0</td>\n",
       "      <td>2</td>\n",
       "      <td>1517.890</td>\n",
       "      <td>1640.075</td>\n",
       "      <td>-122.185</td>\n",
       "      <td>-103</td>\n",
       "      <td>lose</td>\n",
       "      <td>lose</td>\n",
       "    </tr>\n",
       "    <tr>\n",
       "      <th>1608</th>\n",
       "      <td>China PR</td>\n",
       "      <td>Spain</td>\n",
       "      <td>0</td>\n",
       "      <td>0</td>\n",
       "      <td>1389.070</td>\n",
       "      <td>1516.060</td>\n",
       "      <td>-126.990</td>\n",
       "      <td>34</td>\n",
       "      <td>tie</td>\n",
       "      <td>lose</td>\n",
       "    </tr>\n",
       "    <tr>\n",
       "      <th>1590</th>\n",
       "      <td>New Zealand</td>\n",
       "      <td>Netherlands</td>\n",
       "      <td>0</td>\n",
       "      <td>1</td>\n",
       "      <td>1324.800</td>\n",
       "      <td>1452.190</td>\n",
       "      <td>-127.390</td>\n",
       "      <td>-8</td>\n",
       "      <td>lose</td>\n",
       "      <td>lose</td>\n",
       "    </tr>\n",
       "    <tr>\n",
       "      <th>1611</th>\n",
       "      <td>Japan</td>\n",
       "      <td>England</td>\n",
       "      <td>0</td>\n",
       "      <td>2</td>\n",
       "      <td>1527.950</td>\n",
       "      <td>1657.870</td>\n",
       "      <td>-129.920</td>\n",
       "      <td>-4</td>\n",
       "      <td>lose</td>\n",
       "      <td>lose</td>\n",
       "    </tr>\n",
       "    <tr>\n",
       "      <th>1626</th>\n",
       "      <td>Norway</td>\n",
       "      <td>England</td>\n",
       "      <td>0</td>\n",
       "      <td>3</td>\n",
       "      <td>1543.675</td>\n",
       "      <td>1693.270</td>\n",
       "      <td>-149.595</td>\n",
       "      <td>2</td>\n",
       "      <td>lose</td>\n",
       "      <td>lose</td>\n",
       "    </tr>\n",
       "    <tr>\n",
       "      <th>1622</th>\n",
       "      <td>Spain</td>\n",
       "      <td>United States</td>\n",
       "      <td>1</td>\n",
       "      <td>2</td>\n",
       "      <td>1508.920</td>\n",
       "      <td>1663.175</td>\n",
       "      <td>-154.255</td>\n",
       "      <td>-124</td>\n",
       "      <td>lose</td>\n",
       "      <td>lose</td>\n",
       "    </tr>\n",
       "    <tr>\n",
       "      <th>1591</th>\n",
       "      <td>Chile</td>\n",
       "      <td>Sweden</td>\n",
       "      <td>0</td>\n",
       "      <td>2</td>\n",
       "      <td>1300.010</td>\n",
       "      <td>1479.250</td>\n",
       "      <td>-179.240</td>\n",
       "      <td>-58</td>\n",
       "      <td>lose</td>\n",
       "      <td>lose</td>\n",
       "    </tr>\n",
       "    <tr>\n",
       "      <th>1588</th>\n",
       "      <td>Argentina</td>\n",
       "      <td>Japan</td>\n",
       "      <td>0</td>\n",
       "      <td>0</td>\n",
       "      <td>1320.280</td>\n",
       "      <td>1510.130</td>\n",
       "      <td>-189.850</td>\n",
       "      <td>-50</td>\n",
       "      <td>tie</td>\n",
       "      <td>lose</td>\n",
       "    </tr>\n",
       "    <tr>\n",
       "      <th>1598</th>\n",
       "      <td>Jamaica</td>\n",
       "      <td>Italy</td>\n",
       "      <td>0</td>\n",
       "      <td>5</td>\n",
       "      <td>1285.725</td>\n",
       "      <td>1509.800</td>\n",
       "      <td>-224.075</td>\n",
       "      <td>-45</td>\n",
       "      <td>lose</td>\n",
       "      <td>lose</td>\n",
       "    </tr>\n",
       "    <tr>\n",
       "      <th>1606</th>\n",
       "      <td>South Korea</td>\n",
       "      <td>Norway</td>\n",
       "      <td>1</td>\n",
       "      <td>2</td>\n",
       "      <td>1293.770</td>\n",
       "      <td>1534.795</td>\n",
       "      <td>-241.025</td>\n",
       "      <td>-6</td>\n",
       "      <td>lose</td>\n",
       "      <td>lose</td>\n",
       "    </tr>\n",
       "    <tr>\n",
       "      <th>1607</th>\n",
       "      <td>South Africa</td>\n",
       "      <td>Germany</td>\n",
       "      <td>0</td>\n",
       "      <td>4</td>\n",
       "      <td>1228.355</td>\n",
       "      <td>1635.720</td>\n",
       "      <td>-407.365</td>\n",
       "      <td>-18</td>\n",
       "      <td>lose</td>\n",
       "      <td>lose</td>\n",
       "    </tr>\n",
       "  </tbody>\n",
       "</table>\n",
       "</div>"
      ],
      "text/plain": [
       "          home_team      away_team  home_score  away_score     elo_h  \\\n",
       "1604  United States          Chile           3           0  1627.595   \n",
       "1620        England       Cameroon           3           0  1680.550   \n",
       "1600        England      Argentina           1           0  1644.010   \n",
       "1592  United States       Thailand          13           0  1613.555   \n",
       "1581         France    South Korea           4           0  1642.630   \n",
       "1621         France         Brazil           2           1  1696.870   \n",
       "1605         France        Nigeria           1           0  1681.150   \n",
       "1584          Spain   South Africa           3           1  1525.960   \n",
       "1618        Germany        Nigeria           3           0  1646.100   \n",
       "1603         Sweden       Thailand           5           1  1499.350   \n",
       "1583        Germany       China PR           1           0  1590.900   \n",
       "1610          Italy         Brazil           0           1  1527.620   \n",
       "1632        England         Sweden           1           2  1684.930   \n",
       "1619         Norway      Australia           1           1  1551.835   \n",
       "1629        Germany         Sweden           1           2  1662.660   \n",
       "1601    Netherlands       Cameroon           3           1  1474.990   \n",
       "1633  United States    Netherlands           2           0  1746.035   \n",
       "1582         Norway        Nigeria           3           0  1536.595   \n",
       "1587        England       Scotland           2           1  1621.270   \n",
       "1612       Scotland      Argentina           3           3  1441.445   \n",
       "1623         Sweden         Canada           1           0  1494.790   \n",
       "1594         France         Norway           2           1  1656.670   \n",
       "1624          Italy       China PR           2           0  1488.380   \n",
       "1602         Canada    New Zealand           2           0  1391.450   \n",
       "1613    Netherlands         Canada           2           1  1497.010   \n",
       "1595        Germany          Spain           1           0  1609.560   \n",
       "1593        Nigeria    South Korea           2           0  1384.500   \n",
       "1586         Brazil        Jamaica           3           0  1367.145   \n",
       "1614       Cameroon    New Zealand           2           1  1310.860   \n",
       "1599          Japan       Scotland           2           1  1499.690   \n",
       "1627         France  United States           1           2  1711.450   \n",
       "1631    Netherlands         Sweden           1           0  1579.210   \n",
       "1625    Netherlands          Japan           2           1  1522.390   \n",
       "1616       Thailand          Chile           0           2  1271.455   \n",
       "1630        England  United States           1           2  1714.870   \n",
       "1589         Canada       Cameroon           1           0  1361.330   \n",
       "1628          Italy    Netherlands           0           2  1513.100   \n",
       "1597      Australia         Brazil           3           2  1350.480   \n",
       "1585      Australia          Italy           1           2  1374.120   \n",
       "1596   South Africa       China PR           0           1  1251.935   \n",
       "1609        Jamaica      Australia           1           4  1267.905   \n",
       "1615         Sweden  United States           0           2  1517.890   \n",
       "1608       China PR          Spain           0           0  1389.070   \n",
       "1590    New Zealand    Netherlands           0           1  1324.800   \n",
       "1611          Japan        England           0           2  1527.950   \n",
       "1626         Norway        England           0           3  1543.675   \n",
       "1622          Spain  United States           1           2  1508.920   \n",
       "1591          Chile         Sweden           0           2  1300.010   \n",
       "1588      Argentina          Japan           0           0  1320.280   \n",
       "1598        Jamaica          Italy           0           5  1285.725   \n",
       "1606    South Korea         Norway           1           2  1293.770   \n",
       "1607   South Africa        Germany           0           4  1228.355   \n",
       "\n",
       "         elo_a  elo_diff  experience_diff Actual Predicted  \n",
       "1604  1279.910   347.685              161    win       win  \n",
       "1620  1338.940   341.610               31    win       win  \n",
       "1600  1330.720   313.290               54    win       win  \n",
       "1592  1304.035   309.520              142    win       win  \n",
       "1581  1334.090   308.540                0    win       win  \n",
       "1621  1400.745   296.125               16    win       win  \n",
       "1605  1410.780   270.370               23    win       win  \n",
       "1584  1268.195   257.765               -9    win       win  \n",
       "1618  1395.060   251.040               36    win       win  \n",
       "1603  1289.995   209.355               39    win       win  \n",
       "1583  1384.150   206.750               -7    win       win  \n",
       "1610  1361.505   166.115               16   lose       win  \n",
       "1632  1528.270   156.660               -3   lose       win  \n",
       "1619  1406.460   145.375               21    tie       win  \n",
       "1629  1518.910   143.750                6   lose       win  \n",
       "1601  1332.880   142.110               23    win       win  \n",
       "1633  1607.950   138.085              114    win       win  \n",
       "1582  1407.180   129.415               29    win       win  \n",
       "1587  1492.445   128.825               11    win       win  \n",
       "1612  1316.860   124.585               43    tie       win  \n",
       "1623  1390.970   103.820                0    win       win  \n",
       "1594  1559.275    97.395               -6    win       win  \n",
       "1624  1396.210    92.170              -20    win       win  \n",
       "1602  1302.000    89.450               19    win       win  \n",
       "1613  1416.350    80.660              -11    win       win  \n",
       "1595  1542.220    67.340               27    win       win  \n",
       "1593  1320.050    64.450              -23    win       win  \n",
       "1586  1312.605    54.540               29    win       win  \n",
       "1614  1277.100    33.760              -15    win       win  \n",
       "1599  1469.705    29.985                7    win       win  \n",
       "1627  1684.535    26.915             -110   lose      lose  \n",
       "1631  1557.010    22.200              -11    win      lose  \n",
       "1625  1505.270    17.120               -4    win      lose  \n",
       "1616  1267.430     4.025               19   lose      lose  \n",
       "1630  1716.095    -1.225             -106   lose      lose  \n",
       "1589  1363.000    -1.670               34    win      lose  \n",
       "1628  1551.430   -38.330                4   lose      lose  \n",
       "1597  1394.025   -43.545                1    win      lose  \n",
       "1585  1486.160  -112.040              -15   lose      lose  \n",
       "1596  1365.490  -113.555              -25   lose      lose  \n",
       "1609  1383.000  -115.095              -30   lose      lose  \n",
       "1615  1640.075  -122.185             -103   lose      lose  \n",
       "1608  1516.060  -126.990               34    tie      lose  \n",
       "1590  1452.190  -127.390               -8   lose      lose  \n",
       "1611  1657.870  -129.920               -4   lose      lose  \n",
       "1626  1693.270  -149.595                2   lose      lose  \n",
       "1622  1663.175  -154.255             -124   lose      lose  \n",
       "1591  1479.250  -179.240              -58   lose      lose  \n",
       "1588  1510.130  -189.850              -50    tie      lose  \n",
       "1598  1509.800  -224.075              -45   lose      lose  \n",
       "1606  1534.795  -241.025               -6   lose      lose  \n",
       "1607  1635.720  -407.365              -18   lose      lose  "
      ]
     },
     "execution_count": 79,
     "metadata": {},
     "output_type": "execute_result"
    }
   ],
   "source": [
    "#Look into prediction details of model2\n",
    "X_train, X_test, y_train, y_test = split_train_test_2(df_2011_2019_new, 2019)\n",
    "model = LogisticRegression()\n",
    "model.fit(X_train, y_train)\n",
    "predictions = model.predict(X_test)\n",
    "results_df = pd.DataFrame({'Actual': y_test, 'Predicted': predictions})\n",
    "results_df = pd.concat([test_df[col_list], results_df], axis = 1)\n",
    "results_df.sort_values(by = 'elo_diff', ascending = False)"
   ]
  },
  {
   "cell_type": "markdown",
   "id": "892d4a6d",
   "metadata": {},
   "source": [
    "- Train on games between 2000 and 2020 to predict World Cup 2019"
   ]
  },
  {
   "cell_type": "code",
   "execution_count": 80,
   "id": "2795c6d7",
   "metadata": {},
   "outputs": [],
   "source": [
    "X_train, X_test, y_train, y_test = split_train_test_1(df_1999_2019_new, 2019)"
   ]
  },
  {
   "cell_type": "code",
   "execution_count": 81,
   "id": "d057d7e6",
   "metadata": {},
   "outputs": [
    {
     "data": {
      "text/plain": [
       "win     1628\n",
       "lose    1111\n",
       "tie      464\n",
       "Name: home_win, dtype: int64"
      ]
     },
     "execution_count": 81,
     "metadata": {},
     "output_type": "execute_result"
    }
   ],
   "source": [
    "y_train.value_counts()"
   ]
  },
  {
   "cell_type": "code",
   "execution_count": 82,
   "id": "35d1ef38",
   "metadata": {},
   "outputs": [
    {
     "data": {
      "text/plain": [
       "win     29\n",
       "lose    19\n",
       "tie      4\n",
       "Name: home_win, dtype: int64"
      ]
     },
     "execution_count": 82,
     "metadata": {},
     "output_type": "execute_result"
    }
   ],
   "source": [
    "y_test.value_counts()"
   ]
  },
  {
   "cell_type": "code",
   "execution_count": 83,
   "id": "80998610",
   "metadata": {},
   "outputs": [],
   "source": [
    "oversampler = RandomOverSampler(sampling_strategy={'tie':1000}, random_state=42)\n",
    "X_train, y_train = oversampler.fit_resample(X_train, y_train)"
   ]
  },
  {
   "cell_type": "code",
   "execution_count": 84,
   "id": "dad2266d",
   "metadata": {},
   "outputs": [],
   "source": [
    "#oversampler = SMOTE(sampling_strategy='auto', k_neighbors=3)\n",
    "#X_test, y_test = oversampler.fit_resample(X_test, y_test)"
   ]
  },
  {
   "cell_type": "code",
   "execution_count": 85,
   "id": "b86889cb",
   "metadata": {},
   "outputs": [
    {
     "name": "stdout",
     "output_type": "stream",
     "text": [
      "LogisticRegression Accuracy: 0.75\n",
      "RandomForestClassifier Accuracy: 0.60\n",
      "KNeighborsClassifier Accuracy: 0.54\n"
     ]
    }
   ],
   "source": [
    "for pipeline in pipelines:\n",
    "    pipeline.fit(X_train, y_train)\n",
    "    y_pred = pipeline.predict(X_test)\n",
    "    accuracy = accuracy_score(y_test, y_pred)\n",
    "    model_name = pipeline.steps[-1][1].__class__.__name__\n",
    "    print(f'{model_name} Accuracy: {accuracy:.2f}')"
   ]
  },
  {
   "cell_type": "code",
   "execution_count": 86,
   "id": "1dea3ea6",
   "metadata": {},
   "outputs": [
    {
     "name": "stdout",
     "output_type": "stream",
     "text": [
      "              precision    recall  f1-score   support\n",
      "\n",
      "        lose       0.59      0.53      0.56        19\n",
      "         tie       0.11      0.25      0.15         4\n",
      "         win       0.69      0.62      0.65        29\n",
      "\n",
      "    accuracy                           0.56        52\n",
      "   macro avg       0.46      0.47      0.45        52\n",
      "weighted avg       0.61      0.56      0.58        52\n",
      "\n"
     ]
    },
    {
     "data": {
      "image/png": "[encoded data removed]",
      "text/plain": [
       "<Figure size 300x300 with 2 Axes>"
      ]
     },
     "metadata": {},
     "output_type": "display_data"
    }
   ],
   "source": [
    "metrics_display(RandomForestClassifier())"
   ]
  },
  {
   "cell_type": "code",
   "execution_count": 87,
   "id": "b005c64d",
   "metadata": {},
   "outputs": [],
   "source": [
    "X_train, X_test, y_train, y_test = split_train_test_2(df_1999_2019_new, 2019)"
   ]
  },
  {
   "cell_type": "code",
   "execution_count": 88,
   "id": "96a02113",
   "metadata": {},
   "outputs": [],
   "source": [
    "oversampler = RandomOverSampler(sampling_strategy={'tie':1000}, random_state=42)\n",
    "X_train, y_train = oversampler.fit_resample(X_train, y_train)"
   ]
  },
  {
   "cell_type": "code",
   "execution_count": 89,
   "id": "b7e7dd3e",
   "metadata": {},
   "outputs": [],
   "source": [
    "#oversampler = SMOTE(sampling_strategy='auto', k_neighbors=3)\n",
    "#X_test, y_test = oversampler.fit_resample(X_test, y_test)"
   ]
  },
  {
   "cell_type": "code",
   "execution_count": 90,
   "id": "8bbf9f18",
   "metadata": {},
   "outputs": [
    {
     "name": "stdout",
     "output_type": "stream",
     "text": [
      "LogisticRegression Accuracy: 0.81\n",
      "RandomForestClassifier Accuracy: 0.58\n",
      "KNeighborsClassifier Accuracy: 0.46\n"
     ]
    }
   ],
   "source": [
    "for pipeline in pipelines:\n",
    "    pipeline.fit(X_train, y_train)\n",
    "    y_pred = pipeline.predict(X_test)\n",
    "    accuracy = accuracy_score(y_test, y_pred)\n",
    "    model_name = pipeline.steps[-1][1].__class__.__name__\n",
    "    print(f'{model_name} Accuracy: {accuracy:.2f}')"
   ]
  },
  {
   "cell_type": "code",
   "execution_count": 91,
   "id": "f729eac2",
   "metadata": {},
   "outputs": [
    {
     "name": "stdout",
     "output_type": "stream",
     "text": [
      "              precision    recall  f1-score   support\n",
      "\n",
      "        lose       0.76      0.84      0.80        19\n",
      "         tie       0.00      0.00      0.00         4\n",
      "         win       0.84      0.90      0.87        29\n",
      "\n",
      "    accuracy                           0.81        52\n",
      "   macro avg       0.53      0.58      0.56        52\n",
      "weighted avg       0.75      0.81      0.78        52\n",
      "\n"
     ]
    },
    {
     "data": {
      "image/png": "[encoded data removed]",
      "text/plain": [
       "<Figure size 300x300 with 2 Axes>"
      ]
     },
     "metadata": {},
     "output_type": "display_data"
    }
   ],
   "source": [
    "metrics_display(LogisticRegression())"
   ]
  },
  {
   "cell_type": "markdown",
   "id": "4cebd875",
   "metadata": {},
   "source": [
    "- Train on games between 2008 and 2020 to predict World Cup 2019"
   ]
  },
  {
   "cell_type": "code",
   "execution_count": 92,
   "id": "2fb79880",
   "metadata": {},
   "outputs": [],
   "source": [
    "X_train, X_test, y_train, y_test = split_train_test_1(df_2007_2019_new, 2019)"
   ]
  },
  {
   "cell_type": "code",
   "execution_count": 93,
   "id": "21717857",
   "metadata": {},
   "outputs": [
    {
     "data": {
      "text/plain": [
       "win     1075\n",
       "lose     789\n",
       "tie      326\n",
       "Name: home_win, dtype: int64"
      ]
     },
     "execution_count": 93,
     "metadata": {},
     "output_type": "execute_result"
    }
   ],
   "source": [
    "y_train.value_counts()"
   ]
  },
  {
   "cell_type": "code",
   "execution_count": 94,
   "id": "beb8244f",
   "metadata": {},
   "outputs": [
    {
     "data": {
      "text/plain": [
       "win     29\n",
       "lose    19\n",
       "tie      4\n",
       "Name: home_win, dtype: int64"
      ]
     },
     "execution_count": 94,
     "metadata": {},
     "output_type": "execute_result"
    }
   ],
   "source": [
    "y_test.value_counts()"
   ]
  },
  {
   "cell_type": "code",
   "execution_count": 95,
   "id": "b00d6fec",
   "metadata": {},
   "outputs": [],
   "source": [
    "oversampler = RandomOverSampler(sampling_strategy={'lose':1000, 'tie':500}, random_state=42)\n",
    "X_train, y_train = oversampler.fit_resample(X_train, y_train)"
   ]
  },
  {
   "cell_type": "code",
   "execution_count": 96,
   "id": "842a116c",
   "metadata": {},
   "outputs": [
    {
     "name": "stdout",
     "output_type": "stream",
     "text": [
      "LogisticRegression Accuracy: 0.71\n",
      "RandomForestClassifier Accuracy: 0.67\n",
      "KNeighborsClassifier Accuracy: 0.69\n"
     ]
    }
   ],
   "source": [
    "for pipeline in pipelines:\n",
    "    pipeline.fit(X_train, y_train)\n",
    "    y_pred = pipeline.predict(X_test)\n",
    "    accuracy = accuracy_score(y_test, y_pred)\n",
    "    model_name = pipeline.steps[-1][1].__class__.__name__\n",
    "    print(f'{model_name} Accuracy: {accuracy:.2f}')"
   ]
  },
  {
   "cell_type": "code",
   "execution_count": 97,
   "id": "232ebfeb",
   "metadata": {},
   "outputs": [
    {
     "name": "stdout",
     "output_type": "stream",
     "text": [
      "              precision    recall  f1-score   support\n",
      "\n",
      "        lose       0.65      0.79      0.71        19\n",
      "         tie       0.00      0.00      0.00         4\n",
      "         win       0.76      0.76      0.76        29\n",
      "\n",
      "    accuracy                           0.71        52\n",
      "   macro avg       0.47      0.52      0.49        52\n",
      "weighted avg       0.66      0.71      0.68        52\n",
      "\n"
     ]
    },
    {
     "data": {
      "image/png": "[encoded data removed]",
      "text/plain": [
       "<Figure size 300x300 with 2 Axes>"
      ]
     },
     "metadata": {},
     "output_type": "display_data"
    }
   ],
   "source": [
    "metrics_display(LogisticRegression())"
   ]
  },
  {
   "cell_type": "code",
   "execution_count": 98,
   "id": "88e1d84f",
   "metadata": {},
   "outputs": [],
   "source": [
    "X_train, X_test, y_train, y_test = split_train_test_2(df_2007_2019_new, 2019)"
   ]
  },
  {
   "cell_type": "code",
   "execution_count": 99,
   "id": "9546078a",
   "metadata": {},
   "outputs": [],
   "source": [
    "oversampler = RandomOverSampler(sampling_strategy={'lose':1000, 'tie':500}, random_state=42)\n",
    "X_train, y_train = oversampler.fit_resample(X_train, y_train)"
   ]
  },
  {
   "cell_type": "code",
   "execution_count": 100,
   "id": "44bd4613",
   "metadata": {},
   "outputs": [
    {
     "name": "stdout",
     "output_type": "stream",
     "text": [
      "LogisticRegression Accuracy: 0.77\n",
      "RandomForestClassifier Accuracy: 0.71\n",
      "KNeighborsClassifier Accuracy: 0.65\n"
     ]
    }
   ],
   "source": [
    "for pipeline in pipelines:\n",
    "    pipeline.fit(X_train, y_train)\n",
    "    y_pred = pipeline.predict(X_test)\n",
    "    accuracy = accuracy_score(y_test, y_pred)\n",
    "    model_name = pipeline.steps[-1][1].__class__.__name__\n",
    "    print(f'{model_name} Accuracy: {accuracy:.2f}')"
   ]
  },
  {
   "cell_type": "code",
   "execution_count": 101,
   "id": "28fc4d06",
   "metadata": {},
   "outputs": [
    {
     "name": "stdout",
     "output_type": "stream",
     "text": [
      "              precision    recall  f1-score   support\n",
      "\n",
      "        lose       0.70      0.84      0.76        19\n",
      "         tie       0.00      0.00      0.00         4\n",
      "         win       0.83      0.83      0.83        29\n",
      "\n",
      "    accuracy                           0.77        52\n",
      "   macro avg       0.51      0.56      0.53        52\n",
      "weighted avg       0.72      0.77      0.74        52\n",
      "\n"
     ]
    },
    {
     "data": {
      "image/png": "[encoded data removed]",
      "text/plain": [
       "<Figure size 300x300 with 2 Axes>"
      ]
     },
     "metadata": {},
     "output_type": "display_data"
    }
   ],
   "source": [
    "metrics_display(LogisticRegression())"
   ]
  },
  {
   "cell_type": "markdown",
   "id": "0e42bab1",
   "metadata": {},
   "source": [
    "### 5. bulid the final model and predict"
   ]
  },
  {
   "cell_type": "markdown",
   "id": "2b63078e",
   "metadata": {},
   "source": [
    "- after review the performance metrics on multiple subset & model combos, I decided to apply logistic regression model with two features on data between 2010 and 2022"
   ]
  },
  {
   "cell_type": "code",
   "execution_count": 102,
   "id": "b74fd92e",
   "metadata": {},
   "outputs": [],
   "source": [
    "final_df = results_new[results_new['date_Y'] > 2010].reset_index(drop = True)"
   ]
  },
  {
   "cell_type": "code",
   "execution_count": 103,
   "id": "9073789f",
   "metadata": {},
   "outputs": [
    {
     "data": {
      "text/plain": [
       "(2226, 7)"
      ]
     },
     "execution_count": 103,
     "metadata": {},
     "output_type": "execute_result"
    }
   ],
   "source": [
    "final_df.shape"
   ]
  },
  {
   "cell_type": "code",
   "execution_count": 104,
   "id": "0de0a59b",
   "metadata": {},
   "outputs": [
    {
     "data": {
      "text/html": [
       "<div>\n",
       "<style scoped>\n",
       "    .dataframe tbody tr th:only-of-type {\n",
       "        vertical-align: middle;\n",
       "    }\n",
       "\n",
       "    .dataframe tbody tr th {\n",
       "        vertical-align: top;\n",
       "    }\n",
       "\n",
       "    .dataframe thead th {\n",
       "        text-align: right;\n",
       "    }\n",
       "</style>\n",
       "<table border=\"1\" class=\"dataframe\">\n",
       "  <thead>\n",
       "    <tr style=\"text-align: right;\">\n",
       "      <th></th>\n",
       "      <th>date_Y</th>\n",
       "      <th>home_team</th>\n",
       "      <th>away_team</th>\n",
       "      <th>home_score</th>\n",
       "      <th>away_score</th>\n",
       "      <th>tournament</th>\n",
       "      <th>neutral</th>\n",
       "    </tr>\n",
       "  </thead>\n",
       "  <tbody>\n",
       "    <tr>\n",
       "      <th>0</th>\n",
       "      <td>2011</td>\n",
       "      <td>Sweden</td>\n",
       "      <td>United States</td>\n",
       "      <td>2</td>\n",
       "      <td>1</td>\n",
       "      <td>Four Nations Tournament</td>\n",
       "      <td>True</td>\n",
       "    </tr>\n",
       "    <tr>\n",
       "      <th>1</th>\n",
       "      <td>2011</td>\n",
       "      <td>China PR</td>\n",
       "      <td>Canada</td>\n",
       "      <td>2</td>\n",
       "      <td>3</td>\n",
       "      <td>Four Nations Tournament</td>\n",
       "      <td>False</td>\n",
       "    </tr>\n",
       "    <tr>\n",
       "      <th>2</th>\n",
       "      <td>2011</td>\n",
       "      <td>China PR</td>\n",
       "      <td>Sweden</td>\n",
       "      <td>2</td>\n",
       "      <td>1</td>\n",
       "      <td>Four Nations Tournament</td>\n",
       "      <td>False</td>\n",
       "    </tr>\n",
       "    <tr>\n",
       "      <th>3</th>\n",
       "      <td>2011</td>\n",
       "      <td>United States</td>\n",
       "      <td>Canada</td>\n",
       "      <td>2</td>\n",
       "      <td>1</td>\n",
       "      <td>Four Nations Tournament</td>\n",
       "      <td>True</td>\n",
       "    </tr>\n",
       "    <tr>\n",
       "      <th>4</th>\n",
       "      <td>2011</td>\n",
       "      <td>Canada</td>\n",
       "      <td>Sweden</td>\n",
       "      <td>1</td>\n",
       "      <td>0</td>\n",
       "      <td>Four Nations Tournament</td>\n",
       "      <td>True</td>\n",
       "    </tr>\n",
       "  </tbody>\n",
       "</table>\n",
       "</div>"
      ],
      "text/plain": [
       "   date_Y      home_team      away_team  home_score  away_score  \\\n",
       "0    2011         Sweden  United States           2           1   \n",
       "1    2011       China PR         Canada           2           3   \n",
       "2    2011       China PR         Sweden           2           1   \n",
       "3    2011  United States         Canada           2           1   \n",
       "4    2011         Canada         Sweden           1           0   \n",
       "\n",
       "                tournament  neutral  \n",
       "0  Four Nations Tournament     True  \n",
       "1  Four Nations Tournament    False  \n",
       "2  Four Nations Tournament    False  \n",
       "3  Four Nations Tournament     True  \n",
       "4  Four Nations Tournament     True  "
      ]
     },
     "execution_count": 104,
     "metadata": {},
     "output_type": "execute_result"
    }
   ],
   "source": [
    "final_df.head()"
   ]
  },
  {
   "cell_type": "code",
   "execution_count": 105,
   "id": "0d99e6f0",
   "metadata": {},
   "outputs": [
    {
     "data": {
      "text/html": [
       "<div>\n",
       "<style scoped>\n",
       "    .dataframe tbody tr th:only-of-type {\n",
       "        vertical-align: middle;\n",
       "    }\n",
       "\n",
       "    .dataframe tbody tr th {\n",
       "        vertical-align: top;\n",
       "    }\n",
       "\n",
       "    .dataframe thead th {\n",
       "        text-align: right;\n",
       "    }\n",
       "</style>\n",
       "<table border=\"1\" class=\"dataframe\">\n",
       "  <thead>\n",
       "    <tr style=\"text-align: right;\">\n",
       "      <th></th>\n",
       "      <th>date_Y</th>\n",
       "      <th>home_score</th>\n",
       "      <th>away_score</th>\n",
       "      <th>elo_h</th>\n",
       "      <th>elo_a</th>\n",
       "      <th>home_experience</th>\n",
       "      <th>away_experience</th>\n",
       "      <th>experience_diff</th>\n",
       "    </tr>\n",
       "  </thead>\n",
       "  <tbody>\n",
       "    <tr>\n",
       "      <th>count</th>\n",
       "      <td>2092.000000</td>\n",
       "      <td>2092.000000</td>\n",
       "      <td>2092.000000</td>\n",
       "      <td>2092.000000</td>\n",
       "      <td>2092.000000</td>\n",
       "      <td>2092.000000</td>\n",
       "      <td>2092.000000</td>\n",
       "      <td>2092.000000</td>\n",
       "    </tr>\n",
       "    <tr>\n",
       "      <th>mean</th>\n",
       "      <td>2016.254780</td>\n",
       "      <td>1.977055</td>\n",
       "      <td>1.434034</td>\n",
       "      <td>1414.247741</td>\n",
       "      <td>1340.445672</td>\n",
       "      <td>35.306405</td>\n",
       "      <td>29.378585</td>\n",
       "      <td>5.927820</td>\n",
       "    </tr>\n",
       "    <tr>\n",
       "      <th>std</th>\n",
       "      <td>3.042124</td>\n",
       "      <td>2.322297</td>\n",
       "      <td>1.887042</td>\n",
       "      <td>141.068841</td>\n",
       "      <td>116.657535</td>\n",
       "      <td>36.869012</td>\n",
       "      <td>27.146169</td>\n",
       "      <td>34.254764</td>\n",
       "    </tr>\n",
       "    <tr>\n",
       "      <th>min</th>\n",
       "      <td>2011.000000</td>\n",
       "      <td>0.000000</td>\n",
       "      <td>0.000000</td>\n",
       "      <td>1001.320000</td>\n",
       "      <td>971.520000</td>\n",
       "      <td>1.000000</td>\n",
       "      <td>1.000000</td>\n",
       "      <td>-132.000000</td>\n",
       "    </tr>\n",
       "    <tr>\n",
       "      <th>25%</th>\n",
       "      <td>2014.000000</td>\n",
       "      <td>0.000000</td>\n",
       "      <td>0.000000</td>\n",
       "      <td>1305.748750</td>\n",
       "      <td>1276.350000</td>\n",
       "      <td>9.000000</td>\n",
       "      <td>8.000000</td>\n",
       "      <td>-7.000000</td>\n",
       "    </tr>\n",
       "    <tr>\n",
       "      <th>50%</th>\n",
       "      <td>2017.000000</td>\n",
       "      <td>1.000000</td>\n",
       "      <td>1.000000</td>\n",
       "      <td>1395.070000</td>\n",
       "      <td>1305.085000</td>\n",
       "      <td>24.000000</td>\n",
       "      <td>22.000000</td>\n",
       "      <td>1.000000</td>\n",
       "    </tr>\n",
       "    <tr>\n",
       "      <th>75%</th>\n",
       "      <td>2018.000000</td>\n",
       "      <td>3.000000</td>\n",
       "      <td>2.000000</td>\n",
       "      <td>1480.641250</td>\n",
       "      <td>1402.375000</td>\n",
       "      <td>50.000000</td>\n",
       "      <td>45.000000</td>\n",
       "      <td>13.000000</td>\n",
       "    </tr>\n",
       "    <tr>\n",
       "      <th>max</th>\n",
       "      <td>2022.000000</td>\n",
       "      <td>21.000000</td>\n",
       "      <td>13.000000</td>\n",
       "      <td>1916.840000</td>\n",
       "      <td>1814.860000</td>\n",
       "      <td>215.000000</td>\n",
       "      <td>212.000000</td>\n",
       "      <td>197.000000</td>\n",
       "    </tr>\n",
       "  </tbody>\n",
       "</table>\n",
       "</div>"
      ],
      "text/plain": [
       "            date_Y   home_score   away_score        elo_h        elo_a  \\\n",
       "count  2092.000000  2092.000000  2092.000000  2092.000000  2092.000000   \n",
       "mean   2016.254780     1.977055     1.434034  1414.247741  1340.445672   \n",
       "std       3.042124     2.322297     1.887042   141.068841   116.657535   \n",
       "min    2011.000000     0.000000     0.000000  1001.320000   971.520000   \n",
       "25%    2014.000000     0.000000     0.000000  1305.748750  1276.350000   \n",
       "50%    2017.000000     1.000000     1.000000  1395.070000  1305.085000   \n",
       "75%    2018.000000     3.000000     2.000000  1480.641250  1402.375000   \n",
       "max    2022.000000    21.000000    13.000000  1916.840000  1814.860000   \n",
       "\n",
       "       home_experience  away_experience  experience_diff  \n",
       "count      2092.000000      2092.000000      2092.000000  \n",
       "mean         35.306405        29.378585         5.927820  \n",
       "std          36.869012        27.146169        34.254764  \n",
       "min           1.000000         1.000000      -132.000000  \n",
       "25%           9.000000         8.000000        -7.000000  \n",
       "50%          24.000000        22.000000         1.000000  \n",
       "75%          50.000000        45.000000        13.000000  \n",
       "max         215.000000       212.000000       197.000000  "
      ]
     },
     "execution_count": 105,
     "metadata": {},
     "output_type": "execute_result"
    }
   ],
   "source": [
    "elo_final = {}\n",
    "df_add_elo(final_df, elo_final)\n",
    "\n",
    "add_expereience(final_df)\n",
    "\n",
    "final_df_new = final_df.dropna()\n",
    "final_df_new['home_win'] = final_df_new['home_win'].astype('category')\n",
    "final_df_new['experience_diff'] = final_df_new['home_experience'] - final_df_new['away_experience']\n",
    "final_df_new.describe()"
   ]
  },
  {
   "cell_type": "code",
   "execution_count": 106,
   "id": "9787e436",
   "metadata": {},
   "outputs": [
    {
     "data": {
      "text/plain": [
       "1.0    1024\n",
       "0.0     743\n",
       "0.5     325\n",
       "Name: home_win, dtype: int64"
      ]
     },
     "execution_count": 106,
     "metadata": {},
     "output_type": "execute_result"
    }
   ],
   "source": [
    "final_df_new['home_win'].value_counts()"
   ]
  },
  {
   "cell_type": "code",
   "execution_count": 107,
   "id": "1da56362",
   "metadata": {},
   "outputs": [],
   "source": [
    "#duplicate the data and swap home team with away team on each game to balance the sampled result\n",
    "final_df_dup = pd.DataFrame()"
   ]
  },
  {
   "cell_type": "code",
   "execution_count": 108,
   "id": "6f2f3882",
   "metadata": {},
   "outputs": [],
   "source": [
    "final_df_dup['home_team'],final_df_dup['away_team'],final_df_dup['elo_h'],final_df_dup['elo_a'] = \\\n",
    "    final_df_new['away_team'],final_df_new['home_team'],final_df_new['elo_a'],final_df_new['elo_h'] "
   ]
  },
  {
   "cell_type": "code",
   "execution_count": 109,
   "id": "24dda046",
   "metadata": {},
   "outputs": [],
   "source": [
    "final_df_dup['experience_diff'] = final_df_new['experience_diff'].apply(lambda x: x*(-1))"
   ]
  },
  {
   "cell_type": "code",
   "execution_count": 110,
   "id": "732afcc2",
   "metadata": {},
   "outputs": [],
   "source": [
    "final_df_dup['home_win'] = final_df_new['home_win'].map({0: 1, 0.5: 0.5, 1: 0})"
   ]
  },
  {
   "cell_type": "code",
   "execution_count": 111,
   "id": "2f383160",
   "metadata": {},
   "outputs": [],
   "source": [
    "columns = final_df_dup.columns"
   ]
  },
  {
   "cell_type": "code",
   "execution_count": 112,
   "id": "2564835a",
   "metadata": {},
   "outputs": [],
   "source": [
    "final_merge = pd.concat([final_df_new[columns], final_df_dup], axis = 0, ignore_index = True)"
   ]
  },
  {
   "cell_type": "code",
   "execution_count": 113,
   "id": "e08a10d5",
   "metadata": {},
   "outputs": [
    {
     "data": {
      "text/plain": [
       "(4184, 6)"
      ]
     },
     "execution_count": 113,
     "metadata": {},
     "output_type": "execute_result"
    }
   ],
   "source": [
    "final_merge.shape"
   ]
  },
  {
   "cell_type": "code",
   "execution_count": 114,
   "id": "78770241",
   "metadata": {},
   "outputs": [
    {
     "data": {
      "text/plain": [
       "0.0    1767\n",
       "1.0    1767\n",
       "0.5     650\n",
       "Name: home_win, dtype: int64"
      ]
     },
     "execution_count": 114,
     "metadata": {},
     "output_type": "execute_result"
    }
   ],
   "source": [
    "final_merge['home_win'].value_counts()"
   ]
  },
  {
   "cell_type": "code",
   "execution_count": 115,
   "id": "557294d9",
   "metadata": {},
   "outputs": [
    {
     "data": {
      "text/html": [
       "<div>\n",
       "<style scoped>\n",
       "    .dataframe tbody tr th:only-of-type {\n",
       "        vertical-align: middle;\n",
       "    }\n",
       "\n",
       "    .dataframe tbody tr th {\n",
       "        vertical-align: top;\n",
       "    }\n",
       "\n",
       "    .dataframe thead th {\n",
       "        text-align: right;\n",
       "    }\n",
       "</style>\n",
       "<table border=\"1\" class=\"dataframe\">\n",
       "  <thead>\n",
       "    <tr style=\"text-align: right;\">\n",
       "      <th></th>\n",
       "      <th>home_team</th>\n",
       "      <th>away_team</th>\n",
       "      <th>elo_h</th>\n",
       "      <th>elo_a</th>\n",
       "      <th>experience_diff</th>\n",
       "      <th>home_win</th>\n",
       "    </tr>\n",
       "  </thead>\n",
       "  <tbody>\n",
       "    <tr>\n",
       "      <th>0</th>\n",
       "      <td>China PR</td>\n",
       "      <td>Sweden</td>\n",
       "      <td>1397.025</td>\n",
       "      <td>1302.500</td>\n",
       "      <td>0</td>\n",
       "      <td>1.0</td>\n",
       "    </tr>\n",
       "    <tr>\n",
       "      <th>1</th>\n",
       "      <td>United States</td>\n",
       "      <td>Canada</td>\n",
       "      <td>1297.500</td>\n",
       "      <td>1302.975</td>\n",
       "      <td>0</td>\n",
       "      <td>1.0</td>\n",
       "    </tr>\n",
       "    <tr>\n",
       "      <th>2</th>\n",
       "      <td>Canada</td>\n",
       "      <td>Sweden</td>\n",
       "      <td>1300.450</td>\n",
       "      <td>1300.450</td>\n",
       "      <td>0</td>\n",
       "      <td>1.0</td>\n",
       "    </tr>\n",
       "    <tr>\n",
       "      <th>3</th>\n",
       "      <td>China PR</td>\n",
       "      <td>United States</td>\n",
       "      <td>1399.075</td>\n",
       "      <td>1300.025</td>\n",
       "      <td>0</td>\n",
       "      <td>0.0</td>\n",
       "    </tr>\n",
       "    <tr>\n",
       "      <th>4</th>\n",
       "      <td>Japan</td>\n",
       "      <td>Finland</td>\n",
       "      <td>1297.515</td>\n",
       "      <td>1297.500</td>\n",
       "      <td>0</td>\n",
       "      <td>1.0</td>\n",
       "    </tr>\n",
       "  </tbody>\n",
       "</table>\n",
       "</div>"
      ],
      "text/plain": [
       "       home_team      away_team     elo_h     elo_a  experience_diff home_win\n",
       "0       China PR         Sweden  1397.025  1302.500                0      1.0\n",
       "1  United States         Canada  1297.500  1302.975                0      1.0\n",
       "2         Canada         Sweden  1300.450  1300.450                0      1.0\n",
       "3       China PR  United States  1399.075  1300.025                0      0.0\n",
       "4          Japan        Finland  1297.515  1297.500                0      1.0"
      ]
     },
     "execution_count": 115,
     "metadata": {},
     "output_type": "execute_result"
    }
   ],
   "source": [
    "final_merge.head()"
   ]
  },
  {
   "cell_type": "code",
   "execution_count": 116,
   "id": "5e5b024a",
   "metadata": {},
   "outputs": [],
   "source": [
    "label_mapping = {0: 'lose', 0.5: 'tie', 1: 'win'}"
   ]
  },
  {
   "cell_type": "code",
   "execution_count": 117,
   "id": "00dfbc52",
   "metadata": {},
   "outputs": [],
   "source": [
    "X_train = final_merge[['elo_h','elo_a']]\n",
    "y_train = final_merge['home_win'].map(label_mapping)"
   ]
  },
  {
   "cell_type": "code",
   "execution_count": 118,
   "id": "9d959341",
   "metadata": {},
   "outputs": [],
   "source": [
    "oversampler = RandomOverSampler(sampling_strategy={'tie':1767}, random_state=42)\n",
    "X_train, y_train = oversampler.fit_resample(X_train, y_train)"
   ]
  },
  {
   "cell_type": "code",
   "execution_count": 119,
   "id": "8099415a",
   "metadata": {},
   "outputs": [],
   "source": [
    "final_model= LogisticRegression()"
   ]
  },
  {
   "cell_type": "code",
   "execution_count": 120,
   "id": "fcb11ede",
   "metadata": {},
   "outputs": [
    {
     "data": {
      "text/html": [
       "<style>#sk-container-id-1 {color: black;background-color: white;}#sk-container-id-1 pre{padding: 0;}#sk-container-id-1 div.sk-toggleable {background-color: white;}#sk-container-id-1 label.sk-toggleable__label {cursor: pointer;display: block;width: 100%;margin-bottom: 0;padding: 0.3em;box-sizing: border-box;text-align: center;}#sk-container-id-1 label.sk-toggleable__label-arrow:before {content: \"▸\";float: left;margin-right: 0.25em;color: #696969;}#sk-container-id-1 label.sk-toggleable__label-arrow:hover:before {color: black;}#sk-container-id-1 div.sk-estimator:hover label.sk-toggleable__label-arrow:before {color: black;}#sk-container-id-1 div.sk-toggleable__content {max-height: 0;max-width: 0;overflow: hidden;text-align: left;background-color: #f0f8ff;}#sk-container-id-1 div.sk-toggleable__content pre {margin: 0.2em;color: black;border-radius: 0.25em;background-color: #f0f8ff;}#sk-container-id-1 input.sk-toggleable__control:checked~div.sk-toggleable__content {max-height: 200px;max-width: 100%;overflow: auto;}#sk-container-id-1 input.sk-toggleable__control:checked~label.sk-toggleable__label-arrow:before {content: \"▾\";}#sk-container-id-1 div.sk-estimator input.sk-toggleable__control:checked~label.sk-toggleable__label {background-color: #d4ebff;}#sk-container-id-1 div.sk-label input.sk-toggleable__control:checked~label.sk-toggleable__label {background-color: #d4ebff;}#sk-container-id-1 input.sk-hidden--visually {border: 0;clip: rect(1px 1px 1px 1px);clip: rect(1px, 1px, 1px, 1px);height: 1px;margin: -1px;overflow: hidden;padding: 0;position: absolute;width: 1px;}#sk-container-id-1 div.sk-estimator {font-family: monospace;background-color: #f0f8ff;border: 1px dotted black;border-radius: 0.25em;box-sizing: border-box;margin-bottom: 0.5em;}#sk-container-id-1 div.sk-estimator:hover {background-color: #d4ebff;}#sk-container-id-1 div.sk-parallel-item::after {content: \"\";width: 100%;border-bottom: 1px solid gray;flex-grow: 1;}#sk-container-id-1 div.sk-label:hover label.sk-toggleable__label {background-color: #d4ebff;}#sk-container-id-1 div.sk-serial::before {content: \"\";position: absolute;border-left: 1px solid gray;box-sizing: border-box;top: 0;bottom: 0;left: 50%;z-index: 0;}#sk-container-id-1 div.sk-serial {display: flex;flex-direction: column;align-items: center;background-color: white;padding-right: 0.2em;padding-left: 0.2em;position: relative;}#sk-container-id-1 div.sk-item {position: relative;z-index: 1;}#sk-container-id-1 div.sk-parallel {display: flex;align-items: stretch;justify-content: center;background-color: white;position: relative;}#sk-container-id-1 div.sk-item::before, #sk-container-id-1 div.sk-parallel-item::before {content: \"\";position: absolute;border-left: 1px solid gray;box-sizing: border-box;top: 0;bottom: 0;left: 50%;z-index: -1;}#sk-container-id-1 div.sk-parallel-item {display: flex;flex-direction: column;z-index: 1;position: relative;background-color: white;}#sk-container-id-1 div.sk-parallel-item:first-child::after {align-self: flex-end;width: 50%;}#sk-container-id-1 div.sk-parallel-item:last-child::after {align-self: flex-start;width: 50%;}#sk-container-id-1 div.sk-parallel-item:only-child::after {width: 0;}#sk-container-id-1 div.sk-dashed-wrapped {border: 1px dashed gray;margin: 0 0.4em 0.5em 0.4em;box-sizing: border-box;padding-bottom: 0.4em;background-color: white;}#sk-container-id-1 div.sk-label label {font-family: monospace;font-weight: bold;display: inline-block;line-height: 1.2em;}#sk-container-id-1 div.sk-label-container {text-align: center;}#sk-container-id-1 div.sk-container {/* jupyter's `normalize.less` sets `[hidden] { display: none; }` but bootstrap.min.css set `[hidden] { display: none !important; }` so we also need the `!important` here to be able to override the default hidden behavior on the sphinx rendered scikit-learn.org. See: https://github.com/scikit-learn/scikit-learn/issues/21755 */display: inline-block !important;position: relative;}#sk-container-id-1 div.sk-text-repr-fallback {display: none;}</style><div id=\"sk-container-id-1\" class=\"sk-top-container\"><div class=\"sk-text-repr-fallback\"><pre>LogisticRegression()</pre><b>In a Jupyter environment, please rerun this cell to show the HTML representation or trust the notebook. <br />On GitHub, the HTML representation is unable to render, please try loading this page with nbviewer.org.</b></div><div class=\"sk-container\" hidden><div class=\"sk-item\"><div class=\"sk-estimator sk-toggleable\"><input class=\"sk-toggleable__control sk-hidden--visually\" id=\"sk-estimator-id-1\" type=\"checkbox\" checked><label for=\"sk-estimator-id-1\" class=\"sk-toggleable__label sk-toggleable__label-arrow\">LogisticRegression</label><div class=\"sk-toggleable__content\"><pre>LogisticRegression()</pre></div></div></div></div></div>"
      ],
      "text/plain": [
       "LogisticRegression()"
      ]
     },
     "execution_count": 120,
     "metadata": {},
     "output_type": "execute_result"
    }
   ],
   "source": [
    "final_model.fit(X_train, y_train)"
   ]
  },
  {
   "cell_type": "code",
   "execution_count": 121,
   "id": "6ac785fb",
   "metadata": {},
   "outputs": [],
   "source": [
    "filename = 'finalized_model.sav'\n",
    "pickle.dump(final_model, open(filename, 'wb'))"
   ]
  },
  {
   "cell_type": "code",
   "execution_count": 122,
   "id": "a6f0e6ae",
   "metadata": {},
   "outputs": [
    {
     "data": {
      "text/plain": [
       "{'United States': 1816.2549999999987,\n",
       " 'Germany': 1718.875,\n",
       " 'England': 1680.1799999999992,\n",
       " 'Netherlands': 1677.2550000000008,\n",
       " 'France': 1670.3250000000007,\n",
       " 'Sweden': 1661.0499999999993,\n",
       " 'Spain': 1587.2499999999995,\n",
       " 'Norway': 1584.3249999999998,\n",
       " 'Italy': 1566.4950000000013,\n",
       " 'Iceland': 1546.7000000000003,\n",
       " 'Belgium': 1538.4850000000013,\n",
       " 'Denmark': 1534.425,\n",
       " 'Japan': 1533.4250000000002,\n",
       " 'Austria': 1513.1150000000005,\n",
       " 'Switzerland': 1481.7749999999992,\n",
       " 'Russia': 1456.7199999999996,\n",
       " 'Australia': 1452.5400000000004,\n",
       " 'China PR': 1440.0899999999992,\n",
       " 'Brazil': 1437.7149999999997,\n",
       " 'Finland': 1425.8499999999997,\n",
       " 'Czech Republic': 1401.1300000000006,\n",
       " 'Scotland': 1400.005,\n",
       " 'Nigeria': 1382.6400000000008,\n",
       " 'Wales': 1378.4850000000004,\n",
       " 'Portugal': 1368.1199999999997,\n",
       " 'Poland': 1361.26,\n",
       " 'South Korea': 1354.7050000000002,\n",
       " 'Ghana': 1353.17,\n",
       " 'Canada': 1346.2250000000006,\n",
       " 'Ukraine': 1334.6150000000005,\n",
       " 'Cameroon': 1334.58,\n",
       " 'Argentina': 1327.7399999999998,\n",
       " 'Papua New Guinea': 1313.6649999999997,\n",
       " 'Burundi': 1308.965,\n",
       " 'Togo': 1307.925,\n",
       " 'Saint Kitts and Nevis': 1307.9149999999997,\n",
       " 'Taiwan': 1305.9699999999998,\n",
       " 'Trinidad and Tobago': 1305.605,\n",
       " 'Fiji': 1305.495,\n",
       " 'Great Britain': 1304.6499999999999,\n",
       " 'Puerto Rico': 1304.5800000000002,\n",
       " 'Burkina Faso': 1303.6600000000003,\n",
       " 'Vanuatu': 1302.985,\n",
       " 'Saint Lucia': 1302.95,\n",
       " 'Paraguay': 1302.6599999999999,\n",
       " 'Basque Country': 1302.62,\n",
       " 'Romania': 1302.45,\n",
       " 'Uzbekistan': 1302.105,\n",
       " 'Guyana': 1301.0600000000002,\n",
       " 'Bermuda': 1300.945,\n",
       " 'Cuba': 1300.9299999999998,\n",
       " 'Barbados': 1300.47,\n",
       " 'Solomon Islands': 1300.46,\n",
       " 'Lebanon': 1300.3049999999998,\n",
       " 'Malaysia': 1300.18,\n",
       " 'Haiti': 1300.0250000000003,\n",
       " 'Tunisia': 1299.9649999999995,\n",
       " 'Lesotho': 1299.6050000000002,\n",
       " 'Guinea-Bissau': 1299.4699999999998,\n",
       " 'Republic of Ireland': 1298.5100000000002,\n",
       " 'Dominican Republic': 1298.4550000000002,\n",
       " 'Chile': 1298.0700000000002,\n",
       " 'Dominica': 1298.01,\n",
       " 'Laos': 1298.01,\n",
       " 'Curaçao': 1297.995,\n",
       " 'Venezuela': 1297.9600000000003,\n",
       " 'Honduras': 1297.96,\n",
       " 'Congo': 1297.96,\n",
       " 'Sierra Leone': 1297.96,\n",
       " 'Sudan': 1297.925,\n",
       " 'United Arab Emirates': 1297.585,\n",
       " 'Nepal': 1297.3700000000001,\n",
       " 'Malawi': 1297.26,\n",
       " 'Comoros': 1297.1,\n",
       " 'São Tomé and Príncipe': 1297.025,\n",
       " 'Antigua and Barbuda': 1296.5550000000003,\n",
       " 'Djibouti': 1296.01,\n",
       " 'Bahrain': 1295.575,\n",
       " 'South Sudan': 1295.54,\n",
       " 'Tahiti': 1295.5349999999999,\n",
       " 'Samoa': 1295.505,\n",
       " 'U.S. Virgin Islands': 1295.5,\n",
       " 'Aruba': 1295.495,\n",
       " 'Mongolia': 1295.45,\n",
       " 'Bolivia': 1295.235,\n",
       " 'New Caledonia': 1295.14,\n",
       " 'Maldives': 1295.0700000000002,\n",
       " 'Gabon': 1295.05,\n",
       " 'Eritrea': 1295.025,\n",
       " 'Mauritania': 1295.02,\n",
       " 'Rwanda': 1295.0,\n",
       " 'Botswana': 1294.9550000000002,\n",
       " 'Angola': 1294.935,\n",
       " 'Mauritius': 1294.93,\n",
       " 'El Salvador': 1294.915,\n",
       " 'Guatemala': 1294.59,\n",
       " 'Liberia': 1294.55,\n",
       " 'Benin': 1294.48,\n",
       " 'Niger': 1294.405,\n",
       " 'Morocco': 1294.3500000000001,\n",
       " 'Uganda': 1294.3050000000003,\n",
       " 'Central African Republic': 1293.745,\n",
       " 'Gambia': 1293.27,\n",
       " 'Grenada': 1293.0450000000003,\n",
       " 'Suriname': 1293.02,\n",
       " 'Belize': 1293.005,\n",
       " 'American Samoa': 1293.005,\n",
       " 'Kyrgyzstan': 1292.9950000000001,\n",
       " 'Kuwait': 1292.995,\n",
       " 'Saint Vincent and the Grenadines': 1292.995,\n",
       " 'Guadeloupe': 1292.9299999999998,\n",
       " 'Peru': 1292.75,\n",
       " 'Uruguay': 1292.7150000000001,\n",
       " 'Guam': 1292.3200000000002,\n",
       " 'Guinea': 1291.9200000000003,\n",
       " 'Equatorial Guinea': 1291.3900000000003,\n",
       " 'India': 1290.935,\n",
       " 'Hong Kong': 1290.6799999999998,\n",
       " 'Anguilla': 1290.545,\n",
       " 'Martinique': 1290.455,\n",
       " 'Libya': 1290.2,\n",
       " 'Singapore': 1290.105,\n",
       " 'Syria': 1290.0800000000002,\n",
       " 'Nicaragua': 1290.0500000000002,\n",
       " 'Costa Rica': 1289.99,\n",
       " 'Eswatini': 1289.84,\n",
       " 'Mozambique': 1289.385,\n",
       " 'North Korea': 1289.1999999999998,\n",
       " 'Tanzania': 1288.9699999999998,\n",
       " 'Algeria': 1288.8300000000006,\n",
       " 'Tajikistan': 1288.81,\n",
       " 'Philippines': 1288.0199999999998,\n",
       " 'Iraq': 1287.915,\n",
       " 'Panama': 1287.1999999999996,\n",
       " 'Bangladesh': 1285.8150000000003,\n",
       " 'DR Congo': 1285.8,\n",
       " 'Serbia': 1285.52,\n",
       " 'Egypt': 1282.465,\n",
       " 'Palestine': 1281.6899999999998,\n",
       " 'Zimbabwe': 1280.1649999999995,\n",
       " 'Mali': 1277.2400000000002,\n",
       " 'Zambia': 1273.6400000000003,\n",
       " 'Iran': 1268.66,\n",
       " 'Namibia': 1267.3950000000002,\n",
       " 'Tonga': 1264.575,\n",
       " 'Ethiopia': 1264.4149999999997,\n",
       " 'Cook Islands': 1260.745,\n",
       " 'Kenya': 1258.4549999999997,\n",
       " 'Northern Ireland': 1256.2150000000006,\n",
       " 'Indonesia': 1255.3999999999999,\n",
       " 'Senegal': 1253.5599999999993,\n",
       " 'Jamaica': 1250.5900000000001,\n",
       " 'Malta': 1249.84,\n",
       " 'Colombia': 1248.095,\n",
       " 'North Macedonia': 1246.9999999999998,\n",
       " 'Slovenia': 1246.9599999999998,\n",
       " 'Myanmar': 1235.5349999999999,\n",
       " 'Vietnam': 1234.89,\n",
       " 'Mexico': 1234.1300000000003,\n",
       " 'Ivory Coast': 1234.0599999999997,\n",
       " 'Bosnia and Herzegovina': 1227.5199999999995,\n",
       " 'South Africa': 1226.3399999999997,\n",
       " 'Jordan': 1223.11,\n",
       " 'New Zealand': 1218.625,\n",
       " 'Ecuador': 1216.5249999999999,\n",
       " 'Azerbaijan': 1206.2399999999998,\n",
       " 'Thailand': 1203.1600000000003,\n",
       " 'Slovakia': 1199.4249999999997,\n",
       " 'Luxembourg': 1196.28,\n",
       " 'Greece': 1191.4400000000003,\n",
       " 'Kosovo': 1190.84,\n",
       " 'Andorra': 1177.2400000000002,\n",
       " 'Armenia': 1176.3199999999997,\n",
       " 'Latvia': 1170.4,\n",
       " 'Cyprus': 1160.3999999999996,\n",
       " 'Hungary': 1159.3249999999998,\n",
       " 'Belarus': 1145.5200000000004,\n",
       " 'Lithuania': 1140.8400000000001,\n",
       " 'Albania': 1140.2400000000002,\n",
       " 'Bulgaria': 1127.92,\n",
       " 'Croatia': 1125.1100000000006,\n",
       " 'Faroe Islands': 1100.2000000000003,\n",
       " 'Moldova': 1086.7599999999995,\n",
       " 'Turkey': 1085.36,\n",
       " 'Macedonia': 1076.9999999999998,\n",
       " 'Israel': 1058.9599999999994,\n",
       " 'Kazakhstan': 1057.5599999999997,\n",
       " 'Montenegro': 1056.9599999999998,\n",
       " 'Georgia': 1027.1599999999999,\n",
       " 'Estonia': 949.6399999999994}"
      ]
     },
     "execution_count": 122,
     "metadata": {},
     "output_type": "execute_result"
    }
   ],
   "source": [
    "dict(sorted(elo_final.items(), key=lambda item: item[1], reverse=True))"
   ]
  },
  {
   "cell_type": "code",
   "execution_count": 123,
   "id": "26221a1f",
   "metadata": {},
   "outputs": [],
   "source": [
    "def predict_win(home_team, away_team):\n",
    "    home_elo = elo_final[home_team]\n",
    "    away_elo = elo_final[away_team]\n",
    "       \n",
    "    X_predict = pd.DataFrame({'elo_h': home_elo, 'elo_a': away_elo}, index = [0])\n",
    "    y_predict = final_model.predict(X_predict)\n",
    "    return y_predict"
   ]
  },
  {
   "cell_type": "code",
   "execution_count": 124,
   "id": "2d18ada8",
   "metadata": {},
   "outputs": [],
   "source": [
    "qualified = {'Group A':['New Zealand', 'Norway', 'Philippines', 'Switzerland'], \n",
    "             'Group B':['Australia', 'Republic of Ireland', 'Nigeria', 'Canada'],\n",
    "             'Group C':['Spain', 'Costa Rica', 'Zambia', 'Japan'],\n",
    "             'Group D':['England', 'Haiti', 'Denmark', 'China PR'],\n",
    "             'Group E':['United States', 'Vietnam', 'Netherlands', 'Portugal'], \n",
    "             'Group F':['France', 'Jamaica', 'Brazil', 'Panama'],\n",
    "             'Group G':['Sweden', 'South Africa', 'Italy', 'Argentina'], \n",
    "             'Group H':['Germany', 'Morocco', 'Colombia', 'South Korea']}"
   ]
  },
  {
   "cell_type": "code",
   "execution_count": 125,
   "id": "dad86f6b",
   "metadata": {},
   "outputs": [],
   "source": [
    "#update elo score dictionary as the world cup host countries will have home advantage\n",
    "elo_final['New Zealand'] = elo_final['New Zealand']+100\n",
    "elo_final['Australia'] = elo_final['Australia']+100"
   ]
  },
  {
   "cell_type": "markdown",
   "id": "3bc1de3a",
   "metadata": {},
   "source": [
    "- predict group stage"
   ]
  },
  {
   "cell_type": "code",
   "execution_count": 126,
   "id": "0daf0812",
   "metadata": {},
   "outputs": [],
   "source": [
    "def predict_group(group):\n",
    "    '''predict the match results of all match combination between teams in the group and count final points in this stage\n",
    "    Arg: group(str)'''\n",
    "    points = {}\n",
    "    print('-----------------------')\n",
    "    print(group)\n",
    "    for team in qualified[group]:\n",
    "        points[team] = 0\n",
    "    for match in itertools.combinations(qualified[group], 2):\n",
    "        prediction = predict_win(*match)\n",
    "        print(str(match[0]+' vs '+str(match[1]+': '+str(prediction))))\n",
    "        if prediction == 'win':\n",
    "            points[match[0]] += 3\n",
    "        elif prediction == 'tie':\n",
    "            points[match[0]] += 1\n",
    "            points[match[1]] += 1\n",
    "        else:\n",
    "            points[match[1]] += 3\n",
    "    print(points)"
   ]
  },
  {
   "cell_type": "code",
   "execution_count": 127,
   "id": "0c5add2f",
   "metadata": {},
   "outputs": [
    {
     "name": "stdout",
     "output_type": "stream",
     "text": [
      "-----------------------\n",
      "Group A\n",
      "New Zealand vs Norway: ['lose']\n",
      "New Zealand vs Philippines: ['tie']\n",
      "New Zealand vs Switzerland: ['lose']\n",
      "Norway vs Philippines: ['win']\n",
      "Norway vs Switzerland: ['win']\n",
      "Philippines vs Switzerland: ['lose']\n",
      "{'New Zealand': 1, 'Norway': 9, 'Philippines': 1, 'Switzerland': 6}\n",
      "-----------------------\n",
      "Group B\n",
      "Australia vs Republic of Ireland: ['win']\n",
      "Australia vs Nigeria: ['win']\n",
      "Australia vs Canada: ['win']\n",
      "Republic of Ireland vs Nigeria: ['lose']\n",
      "Republic of Ireland vs Canada: ['lose']\n",
      "Nigeria vs Canada: ['tie']\n",
      "{'Australia': 9, 'Republic of Ireland': 0, 'Nigeria': 4, 'Canada': 4}\n",
      "-----------------------\n",
      "Group C\n",
      "Spain vs Costa Rica: ['win']\n",
      "Spain vs Zambia: ['win']\n",
      "Spain vs Japan: ['win']\n",
      "Costa Rica vs Zambia: ['tie']\n",
      "Costa Rica vs Japan: ['lose']\n",
      "Zambia vs Japan: ['lose']\n",
      "{'Spain': 9, 'Costa Rica': 1, 'Zambia': 1, 'Japan': 6}\n",
      "-----------------------\n",
      "Group D\n",
      "England vs Haiti: ['win']\n",
      "England vs Denmark: ['win']\n",
      "England vs China PR: ['win']\n",
      "Haiti vs Denmark: ['lose']\n",
      "Haiti vs China PR: ['lose']\n",
      "Denmark vs China PR: ['win']\n",
      "{'England': 9, 'Haiti': 0, 'Denmark': 6, 'China PR': 3}\n",
      "-----------------------\n",
      "Group E\n",
      "United States vs Vietnam: ['win']\n",
      "United States vs Netherlands: ['win']\n",
      "United States vs Portugal: ['win']\n",
      "Vietnam vs Netherlands: ['lose']\n",
      "Vietnam vs Portugal: ['lose']\n",
      "Netherlands vs Portugal: ['win']\n",
      "{'United States': 9, 'Vietnam': 0, 'Netherlands': 6, 'Portugal': 3}\n",
      "-----------------------\n",
      "Group F\n",
      "France vs Jamaica: ['win']\n",
      "France vs Brazil: ['win']\n",
      "France vs Panama: ['win']\n",
      "Jamaica vs Brazil: ['lose']\n",
      "Jamaica vs Panama: ['tie']\n",
      "Brazil vs Panama: ['win']\n",
      "{'France': 9, 'Jamaica': 1, 'Brazil': 6, 'Panama': 1}\n",
      "-----------------------\n",
      "Group G\n",
      "Sweden vs South Africa: ['win']\n",
      "Sweden vs Italy: ['win']\n",
      "Sweden vs Argentina: ['win']\n",
      "South Africa vs Italy: ['lose']\n",
      "South Africa vs Argentina: ['lose']\n",
      "Italy vs Argentina: ['win']\n",
      "{'Sweden': 9, 'South Africa': 0, 'Italy': 6, 'Argentina': 3}\n",
      "-----------------------\n",
      "Group H\n",
      "Germany vs Morocco: ['win']\n",
      "Germany vs Colombia: ['win']\n",
      "Germany vs South Korea: ['win']\n",
      "Morocco vs Colombia: ['win']\n",
      "Morocco vs South Korea: ['lose']\n",
      "Colombia vs South Korea: ['lose']\n",
      "{'Germany': 9, 'Morocco': 3, 'Colombia': 0, 'South Korea': 6}\n"
     ]
    }
   ],
   "source": [
    "for key in qualified.keys():\n",
    "    predict_group(key)"
   ]
  },
  {
   "cell_type": "markdown",
   "id": "07881567",
   "metadata": {},
   "source": [
    "- predict round 16"
   ]
  },
  {
   "cell_type": "code",
   "execution_count": 128,
   "id": "80fa405b",
   "metadata": {},
   "outputs": [],
   "source": [
    "def predict_ko(team_a, team_b):\n",
    "    prediction = predict_win(team_a, team_b)\n",
    "    if prediction == 'win':\n",
    "        print('winner: '+str(team_a))\n",
    "    elif prediction == 'lose':\n",
    "        print('winner: '+str(team_b))\n",
    "    else: \n",
    "        print('tie')"
   ]
  },
  {
   "cell_type": "code",
   "execution_count": 129,
   "id": "b352a6d2",
   "metadata": {},
   "outputs": [
    {
     "name": "stdout",
     "output_type": "stream",
     "text": [
      "tie\n"
     ]
    }
   ],
   "source": [
    "#match 49\n",
    "predict_ko('Norway', 'Japan')"
   ]
  },
  {
   "cell_type": "markdown",
   "id": "0a81bdea",
   "metadata": {},
   "source": [
    "Notes: \\\n",
    "Norway 2023 Goal keeper: Cecilie Haustaker Fiskerstrand 5'8\", Aurora Mikalsen  5'9\", Guro Pettersen  5'8\" \\\n",
    "Japan 2023 Goal keeper: Chika Hirao  5'8\", Momoko Tanaka  5'6\", Ayaka Yamashita  5'6\"\n",
    "                        \n",
    "Norway won penalty against Australia in World Cup 2019 and advanced to Quarter-finals."
   ]
  },
  {
   "cell_type": "code",
   "execution_count": 130,
   "id": "c35fc23b",
   "metadata": {},
   "outputs": [
    {
     "name": "stdout",
     "output_type": "stream",
     "text": [
      "winner: Spain\n"
     ]
    }
   ],
   "source": [
    "#match 50\n",
    "predict_ko('Switzerland', 'Spain')"
   ]
  },
  {
   "cell_type": "code",
   "execution_count": 131,
   "id": "b90fd814",
   "metadata": {},
   "outputs": [
    {
     "name": "stdout",
     "output_type": "stream",
     "text": [
      "winner: United States\n"
     ]
    }
   ],
   "source": [
    "#match 51\n",
    "predict_ko('United States', 'Italy')"
   ]
  },
  {
   "cell_type": "code",
   "execution_count": 132,
   "id": "de836713",
   "metadata": {},
   "outputs": [
    {
     "name": "stdout",
     "output_type": "stream",
     "text": [
      "tie\n"
     ]
    }
   ],
   "source": [
    "#match 52\n",
    "predict_ko('Sweden', 'Netherlands')"
   ]
  },
  {
   "cell_type": "markdown",
   "id": "feb893e3",
   "metadata": {},
   "source": [
    "Notes: \\\n",
    "Netherlands 2023 Goal keeper: Lize Kop 5'8\", Barbara Lorsheyd  5'8\", Daphne Van Domselaar  5'9\", Jacintha Weimar  5'10\" \\\n",
    "Sweden 2023 Goal keeper: Tove Enblom  5'10\", Jennifer Falk  5'7\", Zecira Musovic  5'10\" \n",
    "                        \n",
    "Netherlands won against Sweden in World Cup 2019 and advanced to final."
   ]
  },
  {
   "cell_type": "code",
   "execution_count": 133,
   "id": "31fd81c3",
   "metadata": {},
   "outputs": [
    {
     "name": "stdout",
     "output_type": "stream",
     "text": [
      "tie\n"
     ]
    }
   ],
   "source": [
    "#match 53\n",
    "predict_ko('Australia', 'Denmark')"
   ]
  },
  {
   "cell_type": "markdown",
   "id": "6b61f07b",
   "metadata": {},
   "source": [
    "Notes:\n",
    "Australia 2023 Goal keeper: Mackenzie Arnold 5'11\", Teagan Micah 5'9\", Jada Mathyssen Whyman 5'6\", Lydia Williams 5'8\"\n",
    "Denmark 2023 Goal keeper: Lene Christensen 5'6\", Kathrine Ostergaard Larsen 5'11\", Maja Bay Ostergaard 5'7\", Freja Rosenkrans Thisgaard  6'0\"\n",
    "\n",
    "Australia advanced to Round 16 in World Cup 2019. Denmark wasn't qualified."
   ]
  },
  {
   "cell_type": "code",
   "execution_count": 134,
   "id": "e4b749e2",
   "metadata": {},
   "outputs": [
    {
     "name": "stdout",
     "output_type": "stream",
     "text": [
      "winner: England\n"
     ]
    }
   ],
   "source": [
    "#match 54\n",
    "predict_ko('England', 'Canada')"
   ]
  },
  {
   "cell_type": "code",
   "execution_count": 135,
   "id": "8f65a609",
   "metadata": {},
   "outputs": [
    {
     "name": "stdout",
     "output_type": "stream",
     "text": [
      "winner: France\n"
     ]
    }
   ],
   "source": [
    "#match 55\n",
    "predict_ko('France', 'South Korea')"
   ]
  },
  {
   "cell_type": "code",
   "execution_count": 136,
   "id": "ef4a0208",
   "metadata": {},
   "outputs": [
    {
     "name": "stdout",
     "output_type": "stream",
     "text": [
      "winner: Germany\n"
     ]
    }
   ],
   "source": [
    "#match 56\n",
    "predict_ko('Germany', 'Brazil')"
   ]
  },
  {
   "cell_type": "markdown",
   "id": "765986dd",
   "metadata": {},
   "source": [
    "- predict quarterfinals"
   ]
  },
  {
   "cell_type": "code",
   "execution_count": 136,
   "id": "845c9cb2",
   "metadata": {},
   "outputs": [
    {
     "name": "stdout",
     "output_type": "stream",
     "text": [
      "winner: United States\n"
     ]
    }
   ],
   "source": [
    "#match 57\n",
    "predict_ko('Norway', 'United States')"
   ]
  },
  {
   "cell_type": "code",
   "execution_count": 137,
   "id": "548092a2",
   "metadata": {},
   "outputs": [
    {
     "name": "stdout",
     "output_type": "stream",
     "text": [
      "winner: Netherlands\n"
     ]
    }
   ],
   "source": [
    "#match 58\n",
    "predict_ko('Spain', 'Netherlands')"
   ]
  },
  {
   "cell_type": "code",
   "execution_count": 138,
   "id": "2f50d432",
   "metadata": {},
   "outputs": [
    {
     "name": "stdout",
     "output_type": "stream",
     "text": [
      "winner: France\n"
     ]
    }
   ],
   "source": [
    "#match 59\n",
    "predict_ko('Australia', 'France')"
   ]
  },
  {
   "cell_type": "code",
   "execution_count": 139,
   "id": "05fb6ec2",
   "metadata": {},
   "outputs": [
    {
     "name": "stdout",
     "output_type": "stream",
     "text": [
      "winner: Germany\n"
     ]
    }
   ],
   "source": [
    "#match 60\n",
    "predict_ko('England', 'Germany')"
   ]
  },
  {
   "cell_type": "markdown",
   "id": "746190ec",
   "metadata": {},
   "source": [
    "- predict semifinal"
   ]
  },
  {
   "cell_type": "code",
   "execution_count": 140,
   "id": "2fe25dfa",
   "metadata": {},
   "outputs": [
    {
     "name": "stdout",
     "output_type": "stream",
     "text": [
      "winner: United States\n"
     ]
    }
   ],
   "source": [
    "#match 61\n",
    "predict_ko('United States', 'Netherlands')"
   ]
  },
  {
   "cell_type": "code",
   "execution_count": 141,
   "id": "816d26dd",
   "metadata": {},
   "outputs": [
    {
     "name": "stdout",
     "output_type": "stream",
     "text": [
      "winner: Germany\n"
     ]
    }
   ],
   "source": [
    "#match 62\n",
    "predict_ko('France', 'Germany')"
   ]
  },
  {
   "cell_type": "markdown",
   "id": "9231187e",
   "metadata": {},
   "source": [
    "- predict third place"
   ]
  },
  {
   "cell_type": "code",
   "execution_count": 142,
   "id": "50cb81b8",
   "metadata": {},
   "outputs": [
    {
     "name": "stdout",
     "output_type": "stream",
     "text": [
      "winner: Netherlands\n"
     ]
    }
   ],
   "source": [
    "#match 63\n",
    "predict_ko('Netherlands', 'France')"
   ]
  },
  {
   "cell_type": "markdown",
   "id": "d817e4cb",
   "metadata": {},
   "source": [
    "- prediction final"
   ]
  },
  {
   "cell_type": "code",
   "execution_count": 143,
   "id": "6d1ef368",
   "metadata": {},
   "outputs": [
    {
     "name": "stdout",
     "output_type": "stream",
     "text": [
      "winner: United States\n"
     ]
    }
   ],
   "source": [
    "#match 63\n",
    "predict_ko('United States', 'Germany')"
   ]
  },
  {
   "cell_type": "code",
   "execution_count": null,
   "id": "118a206b",
   "metadata": {},
   "outputs": [],
   "source": []
  }
 ],
 "metadata": {
  "kernelspec": {
   "display_name": "WC2023",
   "language": "python",
   "name": "wc2023"
  },
  "language_info": {
   "codemirror_mode": {
    "name": "ipython",
    "version": 3
   },
   "file_extension": ".py",
   "mimetype": "text/x-python",
   "name": "python",
   "nbconvert_exporter": "python",
   "pygments_lexer": "ipython3",
   "version": "3.9.16"
  }
 },
 "nbformat": 4,
 "nbformat_minor": 5
}
