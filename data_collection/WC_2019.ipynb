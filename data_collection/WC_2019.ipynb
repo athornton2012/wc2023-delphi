{
 "cells": [
  {
   "cell_type": "code",
   "execution_count": 59,
   "id": "e7c83857",
   "metadata": {},
   "outputs": [],
   "source": [
    "from bs4 import BeautifulSoup\n",
    "import requests\n",
    "import json\n",
    "import time\n",
    "import pandas as pd\n",
    "import os"
   ]
  },
  {
   "cell_type": "code",
   "execution_count": 60,
   "id": "de6207ef",
   "metadata": {},
   "outputs": [],
   "source": [
    "match_names = ['Final', 'Third-place', 'Semi-finals-1', 'Semi-finals-2', 'Quarter-final-1', 'Quarter-final-2', \n",
    "               'Quarter-final-3', 'Quarter-final-4', 'Round16-1', 'Round16-2', 'Round16-3', \n",
    "               'Round16-4', 'Round16-5', 'Round16-6', 'Round16-7', 'Round16-8']"
   ]
  },
  {
   "cell_type": "code",
   "execution_count": 79,
   "id": "45660493",
   "metadata": {},
   "outputs": [],
   "source": [
    "def get_names(match, url):\n",
    "    r = requests.get(url)\n",
    "    soup = BeautifulSoup(r.content, 'html.parser')\n",
    "    table = soup.find_all('table', class_ = 'stats_table sortable')\n",
    "    table_kp = soup.find_all('div', class_ = 'table_wrapper')\n",
    "    keys = [i.select('caption')[0].text for i in table]\n",
    "    keys_n = [keys[0], keys[7]]\n",
    "    tags = ['summary', 'passing', 'pass types', 'defensive actions', 'possession', 'miscellaneous stats', \n",
    "            'summary', 'passing', 'pass types', 'defensive actions', 'possession', 'miscellaneous stats']\n",
    "    for i in range(12):\n",
    "        keys[i] = keys[i].split()[0] + '-' + tags[i]\n",
    "        match[keys[i]] = pd.read_html(str(table[i]))[0]\n",
    "    for i in range(2):\n",
    "        match[keys_n[i].split()[0]+' keeper_stats'] = pd.read_html(str(table_kp[2 * i+1]))[0]"
   ]
  },
  {
   "cell_type": "code",
   "execution_count": 62,
   "id": "0005cb72",
   "metadata": {},
   "outputs": [],
   "source": [
    "def get_match(event, event_stats, url):\n",
    "    \n",
    "    r = requests.get(url)\n",
    "    soup = BeautifulSoup(r.content, 'html.parser')\n",
    "    matches = soup.find_all('div', class_ = 'match-summary')\n",
    "\n",
    "    for i in range(len(match_names)):\n",
    "\n",
    "        match = match_names[i]\n",
    "        event[match]={}\n",
    "        event_stats[match]={}\n",
    "\n",
    "        event[match]['winner'] = matches[i].select('a')[0].text\n",
    "        event[match]['loser'] = matches[i].select('a')[2].text\n",
    "        event[match]['winner_goal'] = matches[i].select('a')[1].text.split('–')[0]\n",
    "        event[match]['loser_goal'] = matches[i].select('a')[1].text.split('–')[0]\n",
    "        url_match = 'https://fbref.com' + matches[i].select('a')[1].get('href')\n",
    "\n",
    "        get_names(event_stats[match], url_match)\n",
    "        \n",
    "        #add delay to void overloading\n",
    "        time.sleep(4)"
   ]
  },
  {
   "cell_type": "code",
   "execution_count": 63,
   "id": "0e9ce6a3",
   "metadata": {},
   "outputs": [],
   "source": [
    "WC_2019 = {}\n",
    "WC_2019_stats = {}"
   ]
  },
  {
   "cell_type": "code",
   "execution_count": 80,
   "id": "09f7d671",
   "metadata": {},
   "outputs": [],
   "source": [
    "get_match(WC_2019, WC_2019_stats, 'https://fbref.com/en/comps/106/2019/2019-Womens-World-Cup-Stats')"
   ]
  },
  {
   "cell_type": "code",
   "execution_count": 82,
   "id": "c0b2b432",
   "metadata": {},
   "outputs": [],
   "source": [
    "for key in match_names:\n",
    "    os.mkdir('WC_2019/'+key)"
   ]
  },
  {
   "cell_type": "code",
   "execution_count": 83,
   "id": "d47858be",
   "metadata": {},
   "outputs": [],
   "source": [
    "for key in WC_2019.keys():\n",
    "    df = pd.DataFrame.from_dict(WC_2019[key],orient='index')\n",
    "    df.to_csv('WC_2019/'+key+'/result.csv', index = False)"
   ]
  },
  {
   "cell_type": "code",
   "execution_count": 84,
   "id": "07cf2cba",
   "metadata": {},
   "outputs": [],
   "source": [
    "for key in WC_2019.keys():\n",
    "    for tag in WC_2019_stats[key].keys():\n",
    "        df = WC_2019_stats[key][tag]\n",
    "        df.to_csv('WC_2019/'+key+'/'+tag+'.csv', index = False)"
   ]
  },
  {
   "cell_type": "code",
   "execution_count": null,
   "id": "b13f7088",
   "metadata": {},
   "outputs": [],
   "source": []
  }
 ],
 "metadata": {
  "kernelspec": {
   "display_name": "Python 3 (ipykernel)",
   "language": "python",
   "name": "python3"
  },
  "language_info": {
   "codemirror_mode": {
    "name": "ipython",
    "version": 3
   },
   "file_extension": ".py",
   "mimetype": "text/x-python",
   "name": "python",
   "nbconvert_exporter": "python",
   "pygments_lexer": "ipython3",
   "version": "3.9.13"
  }
 },
 "nbformat": 4,
 "nbformat_minor": 5
}
